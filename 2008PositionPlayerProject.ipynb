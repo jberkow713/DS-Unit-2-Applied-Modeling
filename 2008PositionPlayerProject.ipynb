{
  "nbformat": 4,
  "nbformat_minor": 0,
  "metadata": {
    "colab": {
      "name": "2008PositionPlayerProject.ipynb",
      "provenance": [],
      "collapsed_sections": [],
      "authorship_tag": "ABX9TyO0odiQAtQ32+IOf/fOBLuH",
      "include_colab_link": true
    },
    "kernelspec": {
      "name": "python3",
      "display_name": "Python 3"
    }
  },
  "cells": [
    {
      "cell_type": "markdown",
      "metadata": {
        "id": "view-in-github",
        "colab_type": "text"
      },
      "source": [
        "<a href=\"https://colab.research.google.com/github/jberkow713/DS-Unit-2-Applied-Modeling/blob/master/2008PositionPlayerProject.ipynb\" target=\"_parent\"><img src=\"https://colab.research.google.com/assets/colab-badge.svg\" alt=\"Open In Colab\"/></a>"
      ]
    },
    {
      "cell_type": "code",
      "metadata": {
        "id": "YG5MCj1bFE-K",
        "colab_type": "code",
        "colab": {}
      },
      "source": [
        "import pandas as pd\n",
        "\n",
        "import pandas as pd\n",
        "from sklearn.model_selection import train_test_split\n",
        "\n",
        "import numpy as np\n",
        "\n",
        "\n",
        "import numpy as np\n",
        "from sklearn.feature_selection import f_regression, SelectKBest\n",
        "from sklearn.impute import SimpleImputer\n",
        "from sklearn.linear_model import Ridge\n",
        "from sklearn.model_selection import cross_val_score\n",
        "from sklearn.pipeline import make_pipeline\n",
        "from sklearn.preprocessing import StandardScaler\n",
        "from sklearn.ensemble import RandomForestClassifier\n",
        "from sklearn.linear_model import LogisticRegression\n",
        "from sklearn.linear_model import LinearRegression\n",
        "\n",
        "from sklearn.impute import SimpleImputer\n",
        "from sklearn.ensemble import RandomForestClassifier\n",
        "from sklearn.pipeline import make_pipeline\n",
        "from sklearn.preprocessing import StandardScaler\n",
        "from sklearn.ensemble import RandomForestRegressor"
      ],
      "execution_count": 0,
      "outputs": []
    },
    {
      "cell_type": "code",
      "metadata": {
        "id": "-bG215V7SjZx",
        "colab_type": "code",
        "colab": {}
      },
      "source": [
        "%%capture\n",
        "import sys\n",
        "\n",
        "if 'google.colab' in sys.modules:\n",
        "    # Install packages in Colab\n",
        "    !pip install category_encoders==2.*"
      ],
      "execution_count": 0,
      "outputs": []
    },
    {
      "cell_type": "code",
      "metadata": {
        "id": "Cp6MSI_qSd8B",
        "colab_type": "code",
        "colab": {}
      },
      "source": [
        "import category_encoders as ce"
      ],
      "execution_count": 0,
      "outputs": []
    },
    {
      "cell_type": "code",
      "metadata": {
        "id": "p4uo7EDGFLxd",
        "colab_type": "code",
        "colab": {}
      },
      "source": [
        "df = pd.read_csv('/content/MLB2008.csv')"
      ],
      "execution_count": 0,
      "outputs": []
    },
    {
      "cell_type": "code",
      "metadata": {
        "id": "71iGYeNDFTew",
        "colab_type": "code",
        "outputId": "b761eb2d-068e-40eb-8a79-6383c2c523a6",
        "colab": {
          "base_uri": "https://localhost:8080/",
          "height": 689
        }
      },
      "source": [
        "df.head(12)\n"
      ],
      "execution_count": 166,
      "outputs": [
        {
          "output_type": "execute_result",
          "data": {
            "text/html": [
              "<div>\n",
              "<style scoped>\n",
              "    .dataframe tbody tr th:only-of-type {\n",
              "        vertical-align: middle;\n",
              "    }\n",
              "\n",
              "    .dataframe tbody tr th {\n",
              "        vertical-align: top;\n",
              "    }\n",
              "\n",
              "    .dataframe thead th {\n",
              "        text-align: right;\n",
              "    }\n",
              "</style>\n",
              "<table border=\"1\" class=\"dataframe\">\n",
              "  <thead>\n",
              "    <tr style=\"text-align: right;\">\n",
              "      <th></th>\n",
              "      <th>PLAYER</th>\n",
              "      <th>Record_ID#</th>\n",
              "      <th>SALARY</th>\n",
              "      <th>ROOKIE</th>\n",
              "      <th>POS</th>\n",
              "      <th>G</th>\n",
              "      <th>PA</th>\n",
              "      <th>AB</th>\n",
              "      <th>H</th>\n",
              "      <th>1B</th>\n",
              "      <th>2B</th>\n",
              "      <th>3B</th>\n",
              "      <th>HR</th>\n",
              "      <th>TB</th>\n",
              "      <th>BB</th>\n",
              "      <th>UBB</th>\n",
              "      <th>IBB</th>\n",
              "      <th>HBP</th>\n",
              "      <th>SF</th>\n",
              "      <th>SH</th>\n",
              "      <th>ROE</th>\n",
              "      <th>RBI</th>\n",
              "      <th>LEADOFF_PA</th>\n",
              "      <th>DP</th>\n",
              "      <th>TP</th>\n",
              "      <th>WP</th>\n",
              "      <th>PB</th>\n",
              "      <th>END_GAME</th>\n",
              "      <th>SO</th>\n",
              "      <th>BK</th>\n",
              "      <th>INTERFERENCE</th>\n",
              "      <th>FC</th>\n",
              "      <th>TOB</th>\n",
              "      <th>OUT</th>\n",
              "      <th>SIT_DP</th>\n",
              "      <th>GIDP</th>\n",
              "      <th>PITCHES</th>\n",
              "      <th>BALLS</th>\n",
              "      <th>STRIKES</th>\n",
              "      <th>FB</th>\n",
              "      <th>GB</th>\n",
              "      <th>LD</th>\n",
              "      <th>POP</th>\n",
              "      <th>Batted Balls</th>\n",
              "      <th>PA_P</th>\n",
              "      <th>PA_C</th>\n",
              "      <th>PA_1B</th>\n",
              "      <th>PA_2B</th>\n",
              "      <th>PA_3B</th>\n",
              "      <th>PA_SS</th>\n",
              "      <th>PA_LF</th>\n",
              "      <th>PA_CF</th>\n",
              "      <th>PA_RF</th>\n",
              "      <th>PA_DH</th>\n",
              "      <th>PA_PH</th>\n",
              "      <th>PA_PR</th>\n",
              "      <th>G_P</th>\n",
              "      <th>G_C</th>\n",
              "      <th>G_1B</th>\n",
              "      <th>G_2B</th>\n",
              "      <th>G_3B</th>\n",
              "      <th>G_SS</th>\n",
              "      <th>G_LF</th>\n",
              "      <th>G_CF</th>\n",
              "      <th>G_RF</th>\n",
              "      <th>G_DH</th>\n",
              "      <th>G_PH</th>\n",
              "      <th>G_PR</th>\n",
              "      <th>AVG</th>\n",
              "      <th>OBP</th>\n",
              "      <th>SLG</th>\n",
              "      <th>D_ISO</th>\n",
              "      <th>TBP</th>\n",
              "      <th>BBr</th>\n",
              "      <th>UBBr</th>\n",
              "      <th>IBBR</th>\n",
              "      <th>SO/BB</th>\n",
              "      <th>ABR</th>\n",
              "      <th>HITR</th>\n",
              "      <th>B1R</th>\n",
              "      <th>B2R</th>\n",
              "      <th>B3R</th>\n",
              "      <th>HRr</th>\n",
              "      <th>HBPR</th>\n",
              "      <th>SFR</th>\n",
              "      <th>SHR</th>\n",
              "      <th>ROEr</th>\n",
              "      <th>SOr</th>\n",
              "      <th>OUTR</th>\n",
              "      <th>NSOR</th>\n",
              "      <th>RBIR</th>\n",
              "      <th>LEADOFFR</th>\n",
              "      <th>END_GAMER</th>\n",
              "      <th>DP%</th>\n",
              "      <th>FB%</th>\n",
              "      <th>GB%</th>\n",
              "      <th>LD%</th>\n",
              "      <th>POP%</th>\n",
              "      <th>SB</th>\n",
              "      <th>CS</th>\n",
              "      <th>PICKOFF</th>\n",
              "      <th>R</th>\n",
              "      <th>SB%</th>\n",
              "      <th>RUNR</th>\n",
              "      <th>D_BPF</th>\n",
              "      <th>PA%</th>\n",
              "      <th>D_MLVr</th>\n",
              "      <th>D_PMLVr</th>\n",
              "      <th>D_RPMLVr</th>\n",
              "      <th>D_VORPr</th>\n",
              "      <th>D_MLV</th>\n",
              "      <th>D_PMLV</th>\n",
              "      <th>D_RPMLV</th>\n",
              "      <th>D_VORP</th>\n",
              "      <th>D_NETDP</th>\n",
              "      <th>D_EqA</th>\n",
              "      <th>D_EqR</th>\n",
              "      <th>D_RAR</th>\n",
              "      <th>D_RAP</th>\n",
              "      <th>D_RARP</th>\n",
              "      <th>D_OUTS_EQ</th>\n",
              "      <th>PA_ROB</th>\n",
              "      <th>R1</th>\n",
              "      <th>R2</th>\n",
              "      <th>R3</th>\n",
              "      <th>R1_BI</th>\n",
              "      <th>R2_BI</th>\n",
              "      <th>R3_BI</th>\n",
              "      <th>ROB</th>\n",
              "      <th>OBI</th>\n",
              "      <th>R1BI%</th>\n",
              "      <th>R2BI%</th>\n",
              "      <th>R3BI%</th>\n",
              "      <th>OBI%</th>\n",
              "      <th>A-Rod_Factor</th>\n",
              "      <th>Score_Impact_Ratio</th>\n",
              "      <th>On_Base_%</th>\n",
              "      <th>On_Base_Presence</th>\n",
              "      <th>Long_Ball_Ratio</th>\n",
              "      <th>Xtra_Base_Ratio</th>\n",
              "      <th>Fan_Favorite_Ratio</th>\n",
              "      <th>Team-Contribution</th>\n",
              "      <th>Team-Contribution-Real</th>\n",
              "      <th>Overall_Impact</th>\n",
              "      <th>Overall_Impact_Ratio</th>\n",
              "      <th>Team_Impact_Ratio</th>\n",
              "    </tr>\n",
              "  </thead>\n",
              "  <tbody>\n",
              "    <tr>\n",
              "      <th>0</th>\n",
              "      <td>Gregg Zaun</td>\n",
              "      <td>1</td>\n",
              "      <td>3750000</td>\n",
              "      <td>0</td>\n",
              "      <td>2</td>\n",
              "      <td>85</td>\n",
              "      <td>288</td>\n",
              "      <td>245</td>\n",
              "      <td>58</td>\n",
              "      <td>40</td>\n",
              "      <td>12</td>\n",
              "      <td>0</td>\n",
              "      <td>6</td>\n",
              "      <td>88</td>\n",
              "      <td>38</td>\n",
              "      <td>37</td>\n",
              "      <td>1</td>\n",
              "      <td>1</td>\n",
              "      <td>1</td>\n",
              "      <td>3</td>\n",
              "      <td>4</td>\n",
              "      <td>30</td>\n",
              "      <td>63</td>\n",
              "      <td>7</td>\n",
              "      <td>0</td>\n",
              "      <td>1</td>\n",
              "      <td>2</td>\n",
              "      <td>7</td>\n",
              "      <td>38</td>\n",
              "      <td>0</td>\n",
              "      <td>0</td>\n",
              "      <td>0</td>\n",
              "      <td>97</td>\n",
              "      <td>187</td>\n",
              "      <td>51</td>\n",
              "      <td>6</td>\n",
              "      <td>1154</td>\n",
              "      <td>462</td>\n",
              "      <td>692</td>\n",
              "      <td>55</td>\n",
              "      <td>94</td>\n",
              "      <td>34</td>\n",
              "      <td>28</td>\n",
              "      <td>211</td>\n",
              "      <td>0</td>\n",
              "      <td>273</td>\n",
              "      <td>0</td>\n",
              "      <td>0</td>\n",
              "      <td>0</td>\n",
              "      <td>0</td>\n",
              "      <td>0</td>\n",
              "      <td>0</td>\n",
              "      <td>0</td>\n",
              "      <td>8</td>\n",
              "      <td>7</td>\n",
              "      <td>0</td>\n",
              "      <td>0</td>\n",
              "      <td>79</td>\n",
              "      <td>0</td>\n",
              "      <td>0</td>\n",
              "      <td>0</td>\n",
              "      <td>0</td>\n",
              "      <td>0</td>\n",
              "      <td>0</td>\n",
              "      <td>0</td>\n",
              "      <td>3</td>\n",
              "      <td>7</td>\n",
              "      <td>0</td>\n",
              "      <td>0.237</td>\n",
              "      <td>0.340</td>\n",
              "      <td>0.359</td>\n",
              "      <td>0.122</td>\n",
              "      <td>0.30556</td>\n",
              "      <td>0.1319</td>\n",
              "      <td>0.1285</td>\n",
              "      <td>0.00347</td>\n",
              "      <td>1.00</td>\n",
              "      <td>0.85069</td>\n",
              "      <td>0.20139</td>\n",
              "      <td>0.13889</td>\n",
              "      <td>0.04167</td>\n",
              "      <td>0.00000</td>\n",
              "      <td>0.0208</td>\n",
              "      <td>0.00347</td>\n",
              "      <td>0.00347</td>\n",
              "      <td>0.01042</td>\n",
              "      <td>0.0139</td>\n",
              "      <td>0.1319</td>\n",
              "      <td>0.64931</td>\n",
              "      <td>0.51736</td>\n",
              "      <td>0.10417</td>\n",
              "      <td>0.21875</td>\n",
              "      <td>0.02431</td>\n",
              "      <td>11.8</td>\n",
              "      <td>26.1</td>\n",
              "      <td>44.6</td>\n",
              "      <td>16.1</td>\n",
              "      <td>13.3</td>\n",
              "      <td>2</td>\n",
              "      <td>1</td>\n",
              "      <td>0</td>\n",
              "      <td>29</td>\n",
              "      <td>66.7</td>\n",
              "      <td>0.10069</td>\n",
              "      <td>99.7129</td>\n",
              "      <td>4.7</td>\n",
              "      <td>-0.080</td>\n",
              "      <td>-0.026</td>\n",
              "      <td>0.05891</td>\n",
              "      <td>0.059</td>\n",
              "      <td>-5.4</td>\n",
              "      <td>-1.7</td>\n",
              "      <td>3.99528</td>\n",
              "      <td>4.0</td>\n",
              "      <td>0.47</td>\n",
              "      <td>0.256</td>\n",
              "      <td>31.7</td>\n",
              "      <td>7.3</td>\n",
              "      <td>1.5</td>\n",
              "      <td>10.2</td>\n",
              "      <td>192</td>\n",
              "      <td>134</td>\n",
              "      <td>89</td>\n",
              "      <td>75</td>\n",
              "      <td>39</td>\n",
              "      <td>2</td>\n",
              "      <td>9</td>\n",
              "      <td>13</td>\n",
              "      <td>203</td>\n",
              "      <td>24</td>\n",
              "      <td>2.2</td>\n",
              "      <td>12.0</td>\n",
              "      <td>33.3</td>\n",
              "      <td>11.8</td>\n",
              "      <td>786</td>\n",
              "      <td>0.104167</td>\n",
              "      <td>0.336806</td>\n",
              "      <td>0.298969</td>\n",
              "      <td>0.103448</td>\n",
              "      <td>0.310345</td>\n",
              "      <td>0.097917</td>\n",
              "      <td>114.374612</td>\n",
              "      <td>0.118664</td>\n",
              "      <td>82.684092</td>\n",
              "      <td>0.558481</td>\n",
              "      <td>0.347222</td>\n",
              "    </tr>\n",
              "    <tr>\n",
              "      <th>1</th>\n",
              "      <td>Henry Blanco</td>\n",
              "      <td>2</td>\n",
              "      <td>3175000</td>\n",
              "      <td>0</td>\n",
              "      <td>2</td>\n",
              "      <td>54</td>\n",
              "      <td>128</td>\n",
              "      <td>120</td>\n",
              "      <td>35</td>\n",
              "      <td>29</td>\n",
              "      <td>3</td>\n",
              "      <td>0</td>\n",
              "      <td>3</td>\n",
              "      <td>47</td>\n",
              "      <td>6</td>\n",
              "      <td>5</td>\n",
              "      <td>1</td>\n",
              "      <td>0</td>\n",
              "      <td>0</td>\n",
              "      <td>2</td>\n",
              "      <td>0</td>\n",
              "      <td>12</td>\n",
              "      <td>27</td>\n",
              "      <td>4</td>\n",
              "      <td>0</td>\n",
              "      <td>0</td>\n",
              "      <td>0</td>\n",
              "      <td>4</td>\n",
              "      <td>22</td>\n",
              "      <td>0</td>\n",
              "      <td>0</td>\n",
              "      <td>0</td>\n",
              "      <td>41</td>\n",
              "      <td>87</td>\n",
              "      <td>33</td>\n",
              "      <td>4</td>\n",
              "      <td>447</td>\n",
              "      <td>149</td>\n",
              "      <td>298</td>\n",
              "      <td>33</td>\n",
              "      <td>43</td>\n",
              "      <td>17</td>\n",
              "      <td>8</td>\n",
              "      <td>101</td>\n",
              "      <td>0</td>\n",
              "      <td>109</td>\n",
              "      <td>1</td>\n",
              "      <td>0</td>\n",
              "      <td>0</td>\n",
              "      <td>0</td>\n",
              "      <td>0</td>\n",
              "      <td>0</td>\n",
              "      <td>0</td>\n",
              "      <td>0</td>\n",
              "      <td>18</td>\n",
              "      <td>0</td>\n",
              "      <td>0</td>\n",
              "      <td>45</td>\n",
              "      <td>1</td>\n",
              "      <td>0</td>\n",
              "      <td>0</td>\n",
              "      <td>0</td>\n",
              "      <td>0</td>\n",
              "      <td>0</td>\n",
              "      <td>0</td>\n",
              "      <td>0</td>\n",
              "      <td>18</td>\n",
              "      <td>0</td>\n",
              "      <td>0.292</td>\n",
              "      <td>0.325</td>\n",
              "      <td>0.392</td>\n",
              "      <td>0.100</td>\n",
              "      <td>0.36719</td>\n",
              "      <td>0.0469</td>\n",
              "      <td>0.0391</td>\n",
              "      <td>0.00781</td>\n",
              "      <td>3.67</td>\n",
              "      <td>0.93750</td>\n",
              "      <td>0.27344</td>\n",
              "      <td>0.22656</td>\n",
              "      <td>0.02344</td>\n",
              "      <td>0.00000</td>\n",
              "      <td>0.0234</td>\n",
              "      <td>0.00000</td>\n",
              "      <td>0.00000</td>\n",
              "      <td>0.01562</td>\n",
              "      <td>0.0000</td>\n",
              "      <td>0.1719</td>\n",
              "      <td>0.67969</td>\n",
              "      <td>0.50781</td>\n",
              "      <td>0.09375</td>\n",
              "      <td>0.21094</td>\n",
              "      <td>0.03125</td>\n",
              "      <td>12.1</td>\n",
              "      <td>32.7</td>\n",
              "      <td>42.6</td>\n",
              "      <td>16.8</td>\n",
              "      <td>7.9</td>\n",
              "      <td>0</td>\n",
              "      <td>0</td>\n",
              "      <td>0</td>\n",
              "      <td>15</td>\n",
              "      <td>0.0</td>\n",
              "      <td>0.11719</td>\n",
              "      <td>100.7640</td>\n",
              "      <td>2.0</td>\n",
              "      <td>-0.031</td>\n",
              "      <td>0.033</td>\n",
              "      <td>0.10619</td>\n",
              "      <td>0.106</td>\n",
              "      <td>-0.9</td>\n",
              "      <td>1.0</td>\n",
              "      <td>3.08509</td>\n",
              "      <td>3.1</td>\n",
              "      <td>0.42</td>\n",
              "      <td>0.247</td>\n",
              "      <td>13.2</td>\n",
              "      <td>2.2</td>\n",
              "      <td>-1.1</td>\n",
              "      <td>2.8</td>\n",
              "      <td>87</td>\n",
              "      <td>73</td>\n",
              "      <td>52</td>\n",
              "      <td>37</td>\n",
              "      <td>18</td>\n",
              "      <td>1</td>\n",
              "      <td>2</td>\n",
              "      <td>6</td>\n",
              "      <td>107</td>\n",
              "      <td>9</td>\n",
              "      <td>1.9</td>\n",
              "      <td>5.4</td>\n",
              "      <td>33.3</td>\n",
              "      <td>8.4</td>\n",
              "      <td>338</td>\n",
              "      <td>0.093750</td>\n",
              "      <td>0.320312</td>\n",
              "      <td>0.365854</td>\n",
              "      <td>0.085714</td>\n",
              "      <td>0.171429</td>\n",
              "      <td>0.046875</td>\n",
              "      <td>22.860048</td>\n",
              "      <td>0.023717</td>\n",
              "      <td>41.385037</td>\n",
              "      <td>0.279531</td>\n",
              "      <td>0.257812</td>\n",
              "    </tr>\n",
              "    <tr>\n",
              "      <th>2</th>\n",
              "      <td>Moises Alou</td>\n",
              "      <td>7</td>\n",
              "      <td>7500000</td>\n",
              "      <td>0</td>\n",
              "      <td>7</td>\n",
              "      <td>15</td>\n",
              "      <td>54</td>\n",
              "      <td>49</td>\n",
              "      <td>17</td>\n",
              "      <td>15</td>\n",
              "      <td>2</td>\n",
              "      <td>0</td>\n",
              "      <td>0</td>\n",
              "      <td>19</td>\n",
              "      <td>2</td>\n",
              "      <td>2</td>\n",
              "      <td>0</td>\n",
              "      <td>2</td>\n",
              "      <td>1</td>\n",
              "      <td>0</td>\n",
              "      <td>2</td>\n",
              "      <td>9</td>\n",
              "      <td>12</td>\n",
              "      <td>1</td>\n",
              "      <td>0</td>\n",
              "      <td>0</td>\n",
              "      <td>0</td>\n",
              "      <td>0</td>\n",
              "      <td>4</td>\n",
              "      <td>0</td>\n",
              "      <td>0</td>\n",
              "      <td>0</td>\n",
              "      <td>21</td>\n",
              "      <td>31</td>\n",
              "      <td>12</td>\n",
              "      <td>1</td>\n",
              "      <td>152</td>\n",
              "      <td>58</td>\n",
              "      <td>94</td>\n",
              "      <td>11</td>\n",
              "      <td>20</td>\n",
              "      <td>11</td>\n",
              "      <td>4</td>\n",
              "      <td>46</td>\n",
              "      <td>0</td>\n",
              "      <td>0</td>\n",
              "      <td>0</td>\n",
              "      <td>0</td>\n",
              "      <td>0</td>\n",
              "      <td>0</td>\n",
              "      <td>49</td>\n",
              "      <td>0</td>\n",
              "      <td>0</td>\n",
              "      <td>4</td>\n",
              "      <td>1</td>\n",
              "      <td>0</td>\n",
              "      <td>0</td>\n",
              "      <td>0</td>\n",
              "      <td>0</td>\n",
              "      <td>0</td>\n",
              "      <td>0</td>\n",
              "      <td>0</td>\n",
              "      <td>13</td>\n",
              "      <td>0</td>\n",
              "      <td>0</td>\n",
              "      <td>1</td>\n",
              "      <td>1</td>\n",
              "      <td>0</td>\n",
              "      <td>0.347</td>\n",
              "      <td>0.389</td>\n",
              "      <td>0.388</td>\n",
              "      <td>0.041</td>\n",
              "      <td>0.35185</td>\n",
              "      <td>0.0370</td>\n",
              "      <td>0.0370</td>\n",
              "      <td>0.00000</td>\n",
              "      <td>2.00</td>\n",
              "      <td>0.90741</td>\n",
              "      <td>0.31481</td>\n",
              "      <td>0.27778</td>\n",
              "      <td>0.03704</td>\n",
              "      <td>0.00000</td>\n",
              "      <td>0.0000</td>\n",
              "      <td>0.03704</td>\n",
              "      <td>0.01852</td>\n",
              "      <td>0.00000</td>\n",
              "      <td>0.0370</td>\n",
              "      <td>0.0741</td>\n",
              "      <td>0.57407</td>\n",
              "      <td>0.50000</td>\n",
              "      <td>0.16667</td>\n",
              "      <td>0.22222</td>\n",
              "      <td>0.00000</td>\n",
              "      <td>8.3</td>\n",
              "      <td>23.9</td>\n",
              "      <td>43.5</td>\n",
              "      <td>23.9</td>\n",
              "      <td>8.7</td>\n",
              "      <td>1</td>\n",
              "      <td>1</td>\n",
              "      <td>1</td>\n",
              "      <td>4</td>\n",
              "      <td>50.0</td>\n",
              "      <td>0.07407</td>\n",
              "      <td>98.7685</td>\n",
              "      <td>0.8</td>\n",
              "      <td>0.131</td>\n",
              "      <td>0.079</td>\n",
              "      <td>0.20218</td>\n",
              "      <td>0.178</td>\n",
              "      <td>1.6</td>\n",
              "      <td>1.0</td>\n",
              "      <td>2.49187</td>\n",
              "      <td>2.2</td>\n",
              "      <td>-0.30</td>\n",
              "      <td>0.285</td>\n",
              "      <td>7.4</td>\n",
              "      <td>3.1</td>\n",
              "      <td>0.8</td>\n",
              "      <td>2.4</td>\n",
              "      <td>34</td>\n",
              "      <td>24</td>\n",
              "      <td>16</td>\n",
              "      <td>10</td>\n",
              "      <td>7</td>\n",
              "      <td>0</td>\n",
              "      <td>4</td>\n",
              "      <td>5</td>\n",
              "      <td>33</td>\n",
              "      <td>9</td>\n",
              "      <td>0.0</td>\n",
              "      <td>40.0</td>\n",
              "      <td>71.4</td>\n",
              "      <td>27.3</td>\n",
              "      <td>144</td>\n",
              "      <td>0.166667</td>\n",
              "      <td>0.388889</td>\n",
              "      <td>0.190476</td>\n",
              "      <td>0.000000</td>\n",
              "      <td>0.117647</td>\n",
              "      <td>0.000000</td>\n",
              "      <td>7.095112</td>\n",
              "      <td>0.007361</td>\n",
              "      <td>19.685500</td>\n",
              "      <td>0.132964</td>\n",
              "      <td>0.277778</td>\n",
              "    </tr>\n",
              "    <tr>\n",
              "      <th>3</th>\n",
              "      <td>Corey Patterson</td>\n",
              "      <td>9</td>\n",
              "      <td>3000000</td>\n",
              "      <td>0</td>\n",
              "      <td>8</td>\n",
              "      <td>123</td>\n",
              "      <td>392</td>\n",
              "      <td>366</td>\n",
              "      <td>75</td>\n",
              "      <td>46</td>\n",
              "      <td>17</td>\n",
              "      <td>2</td>\n",
              "      <td>10</td>\n",
              "      <td>126</td>\n",
              "      <td>16</td>\n",
              "      <td>16</td>\n",
              "      <td>0</td>\n",
              "      <td>1</td>\n",
              "      <td>4</td>\n",
              "      <td>5</td>\n",
              "      <td>7</td>\n",
              "      <td>34</td>\n",
              "      <td>120</td>\n",
              "      <td>5</td>\n",
              "      <td>0</td>\n",
              "      <td>2</td>\n",
              "      <td>1</td>\n",
              "      <td>8</td>\n",
              "      <td>57</td>\n",
              "      <td>0</td>\n",
              "      <td>0</td>\n",
              "      <td>3</td>\n",
              "      <td>92</td>\n",
              "      <td>290</td>\n",
              "      <td>74</td>\n",
              "      <td>3</td>\n",
              "      <td>1299</td>\n",
              "      <td>414</td>\n",
              "      <td>885</td>\n",
              "      <td>85</td>\n",
              "      <td>160</td>\n",
              "      <td>43</td>\n",
              "      <td>30</td>\n",
              "      <td>318</td>\n",
              "      <td>0</td>\n",
              "      <td>0</td>\n",
              "      <td>0</td>\n",
              "      <td>0</td>\n",
              "      <td>0</td>\n",
              "      <td>0</td>\n",
              "      <td>0</td>\n",
              "      <td>370</td>\n",
              "      <td>0</td>\n",
              "      <td>0</td>\n",
              "      <td>22</td>\n",
              "      <td>0</td>\n",
              "      <td>0</td>\n",
              "      <td>0</td>\n",
              "      <td>0</td>\n",
              "      <td>0</td>\n",
              "      <td>0</td>\n",
              "      <td>0</td>\n",
              "      <td>0</td>\n",
              "      <td>124</td>\n",
              "      <td>0</td>\n",
              "      <td>0</td>\n",
              "      <td>22</td>\n",
              "      <td>5</td>\n",
              "      <td>0.205</td>\n",
              "      <td>0.238</td>\n",
              "      <td>0.344</td>\n",
              "      <td>0.139</td>\n",
              "      <td>0.32143</td>\n",
              "      <td>0.0408</td>\n",
              "      <td>0.0408</td>\n",
              "      <td>0.00000</td>\n",
              "      <td>3.56</td>\n",
              "      <td>0.93367</td>\n",
              "      <td>0.19133</td>\n",
              "      <td>0.11735</td>\n",
              "      <td>0.04337</td>\n",
              "      <td>0.00510</td>\n",
              "      <td>0.0255</td>\n",
              "      <td>0.00255</td>\n",
              "      <td>0.01020</td>\n",
              "      <td>0.01276</td>\n",
              "      <td>0.0179</td>\n",
              "      <td>0.1454</td>\n",
              "      <td>0.73980</td>\n",
              "      <td>0.59439</td>\n",
              "      <td>0.08673</td>\n",
              "      <td>0.30612</td>\n",
              "      <td>0.02041</td>\n",
              "      <td>4.1</td>\n",
              "      <td>26.7</td>\n",
              "      <td>50.3</td>\n",
              "      <td>13.5</td>\n",
              "      <td>9.4</td>\n",
              "      <td>14</td>\n",
              "      <td>9</td>\n",
              "      <td>3</td>\n",
              "      <td>46</td>\n",
              "      <td>60.9</td>\n",
              "      <td>0.11735</td>\n",
              "      <td>100.4130</td>\n",
              "      <td>6.3</td>\n",
              "      <td>-0.308</td>\n",
              "      <td>-0.309</td>\n",
              "      <td>-0.19511</td>\n",
              "      <td>-0.208</td>\n",
              "      <td>-28.4</td>\n",
              "      <td>-28.6</td>\n",
              "      <td>-18.02090</td>\n",
              "      <td>-19.2</td>\n",
              "      <td>-5.02</td>\n",
              "      <td>0.205</td>\n",
              "      <td>29.3</td>\n",
              "      <td>-9.9</td>\n",
              "      <td>-26.2</td>\n",
              "      <td>-12.1</td>\n",
              "      <td>309</td>\n",
              "      <td>153</td>\n",
              "      <td>114</td>\n",
              "      <td>67</td>\n",
              "      <td>37</td>\n",
              "      <td>3</td>\n",
              "      <td>6</td>\n",
              "      <td>15</td>\n",
              "      <td>218</td>\n",
              "      <td>24</td>\n",
              "      <td>2.6</td>\n",
              "      <td>9.0</td>\n",
              "      <td>40.5</td>\n",
              "      <td>11.0</td>\n",
              "      <td>970</td>\n",
              "      <td>0.086735</td>\n",
              "      <td>0.234694</td>\n",
              "      <td>0.500000</td>\n",
              "      <td>0.133333</td>\n",
              "      <td>0.386667</td>\n",
              "      <td>0.160714</td>\n",
              "      <td>111.836225</td>\n",
              "      <td>0.116031</td>\n",
              "      <td>112.070429</td>\n",
              "      <td>0.756968</td>\n",
              "      <td>0.362245</td>\n",
              "    </tr>\n",
              "    <tr>\n",
              "      <th>4</th>\n",
              "      <td>Rod Barajas</td>\n",
              "      <td>10</td>\n",
              "      <td>700000</td>\n",
              "      <td>0</td>\n",
              "      <td>2</td>\n",
              "      <td>100</td>\n",
              "      <td>377</td>\n",
              "      <td>349</td>\n",
              "      <td>87</td>\n",
              "      <td>53</td>\n",
              "      <td>23</td>\n",
              "      <td>0</td>\n",
              "      <td>11</td>\n",
              "      <td>143</td>\n",
              "      <td>17</td>\n",
              "      <td>17</td>\n",
              "      <td>0</td>\n",
              "      <td>7</td>\n",
              "      <td>4</td>\n",
              "      <td>0</td>\n",
              "      <td>2</td>\n",
              "      <td>49</td>\n",
              "      <td>70</td>\n",
              "      <td>10</td>\n",
              "      <td>0</td>\n",
              "      <td>3</td>\n",
              "      <td>2</td>\n",
              "      <td>2</td>\n",
              "      <td>61</td>\n",
              "      <td>1</td>\n",
              "      <td>0</td>\n",
              "      <td>0</td>\n",
              "      <td>111</td>\n",
              "      <td>264</td>\n",
              "      <td>82</td>\n",
              "      <td>9</td>\n",
              "      <td>1458</td>\n",
              "      <td>465</td>\n",
              "      <td>993</td>\n",
              "      <td>101</td>\n",
              "      <td>109</td>\n",
              "      <td>47</td>\n",
              "      <td>35</td>\n",
              "      <td>292</td>\n",
              "      <td>0</td>\n",
              "      <td>356</td>\n",
              "      <td>14</td>\n",
              "      <td>0</td>\n",
              "      <td>0</td>\n",
              "      <td>0</td>\n",
              "      <td>0</td>\n",
              "      <td>0</td>\n",
              "      <td>0</td>\n",
              "      <td>5</td>\n",
              "      <td>2</td>\n",
              "      <td>0</td>\n",
              "      <td>0</td>\n",
              "      <td>98</td>\n",
              "      <td>4</td>\n",
              "      <td>0</td>\n",
              "      <td>0</td>\n",
              "      <td>0</td>\n",
              "      <td>0</td>\n",
              "      <td>0</td>\n",
              "      <td>0</td>\n",
              "      <td>2</td>\n",
              "      <td>2</td>\n",
              "      <td>0</td>\n",
              "      <td>0.249</td>\n",
              "      <td>0.294</td>\n",
              "      <td>0.410</td>\n",
              "      <td>0.160</td>\n",
              "      <td>0.37931</td>\n",
              "      <td>0.0451</td>\n",
              "      <td>0.0451</td>\n",
              "      <td>0.00000</td>\n",
              "      <td>3.59</td>\n",
              "      <td>0.92573</td>\n",
              "      <td>0.23077</td>\n",
              "      <td>0.14058</td>\n",
              "      <td>0.06101</td>\n",
              "      <td>0.00000</td>\n",
              "      <td>0.0292</td>\n",
              "      <td>0.01857</td>\n",
              "      <td>0.01061</td>\n",
              "      <td>0.00000</td>\n",
              "      <td>0.0053</td>\n",
              "      <td>0.1618</td>\n",
              "      <td>0.70027</td>\n",
              "      <td>0.53846</td>\n",
              "      <td>0.12997</td>\n",
              "      <td>0.18568</td>\n",
              "      <td>0.00531</td>\n",
              "      <td>11.0</td>\n",
              "      <td>34.6</td>\n",
              "      <td>37.3</td>\n",
              "      <td>16.1</td>\n",
              "      <td>12.0</td>\n",
              "      <td>0</td>\n",
              "      <td>0</td>\n",
              "      <td>0</td>\n",
              "      <td>44</td>\n",
              "      <td>0.0</td>\n",
              "      <td>0.11671</td>\n",
              "      <td>99.8509</td>\n",
              "      <td>6.1</td>\n",
              "      <td>-0.085</td>\n",
              "      <td>-0.037</td>\n",
              "      <td>0.05176</td>\n",
              "      <td>0.052</td>\n",
              "      <td>-7.5</td>\n",
              "      <td>-3.3</td>\n",
              "      <td>4.59556</td>\n",
              "      <td>4.6</td>\n",
              "      <td>0.11</td>\n",
              "      <td>0.247</td>\n",
              "      <td>40.5</td>\n",
              "      <td>6.7</td>\n",
              "      <td>-1.1</td>\n",
              "      <td>11.0</td>\n",
              "      <td>266</td>\n",
              "      <td>190</td>\n",
              "      <td>147</td>\n",
              "      <td>76</td>\n",
              "      <td>52</td>\n",
              "      <td>10</td>\n",
              "      <td>11</td>\n",
              "      <td>17</td>\n",
              "      <td>275</td>\n",
              "      <td>38</td>\n",
              "      <td>6.8</td>\n",
              "      <td>14.5</td>\n",
              "      <td>32.7</td>\n",
              "      <td>13.8</td>\n",
              "      <td>1059</td>\n",
              "      <td>0.129973</td>\n",
              "      <td>0.294430</td>\n",
              "      <td>0.396396</td>\n",
              "      <td>0.126437</td>\n",
              "      <td>0.390805</td>\n",
              "      <td>0.177984</td>\n",
              "      <td>341.984734</td>\n",
              "      <td>0.354811</td>\n",
              "      <td>134.474100</td>\n",
              "      <td>0.908292</td>\n",
              "      <td>0.273210</td>\n",
              "    </tr>\n",
              "    <tr>\n",
              "      <th>5</th>\n",
              "      <td>Rich Aurilia</td>\n",
              "      <td>12</td>\n",
              "      <td>4500000</td>\n",
              "      <td>0</td>\n",
              "      <td>3</td>\n",
              "      <td>134</td>\n",
              "      <td>440</td>\n",
              "      <td>407</td>\n",
              "      <td>115</td>\n",
              "      <td>83</td>\n",
              "      <td>21</td>\n",
              "      <td>1</td>\n",
              "      <td>10</td>\n",
              "      <td>168</td>\n",
              "      <td>30</td>\n",
              "      <td>26</td>\n",
              "      <td>4</td>\n",
              "      <td>1</td>\n",
              "      <td>2</td>\n",
              "      <td>0</td>\n",
              "      <td>4</td>\n",
              "      <td>52</td>\n",
              "      <td>91</td>\n",
              "      <td>12</td>\n",
              "      <td>0</td>\n",
              "      <td>1</td>\n",
              "      <td>0</td>\n",
              "      <td>7</td>\n",
              "      <td>56</td>\n",
              "      <td>0</td>\n",
              "      <td>0</td>\n",
              "      <td>2</td>\n",
              "      <td>146</td>\n",
              "      <td>288</td>\n",
              "      <td>78</td>\n",
              "      <td>11</td>\n",
              "      <td>1562</td>\n",
              "      <td>559</td>\n",
              "      <td>1003</td>\n",
              "      <td>108</td>\n",
              "      <td>142</td>\n",
              "      <td>69</td>\n",
              "      <td>34</td>\n",
              "      <td>353</td>\n",
              "      <td>0</td>\n",
              "      <td>0</td>\n",
              "      <td>213</td>\n",
              "      <td>1</td>\n",
              "      <td>195</td>\n",
              "      <td>0</td>\n",
              "      <td>0</td>\n",
              "      <td>0</td>\n",
              "      <td>0</td>\n",
              "      <td>8</td>\n",
              "      <td>23</td>\n",
              "      <td>0</td>\n",
              "      <td>0</td>\n",
              "      <td>0</td>\n",
              "      <td>82</td>\n",
              "      <td>1</td>\n",
              "      <td>63</td>\n",
              "      <td>0</td>\n",
              "      <td>0</td>\n",
              "      <td>0</td>\n",
              "      <td>0</td>\n",
              "      <td>2</td>\n",
              "      <td>23</td>\n",
              "      <td>0</td>\n",
              "      <td>0.283</td>\n",
              "      <td>0.332</td>\n",
              "      <td>0.413</td>\n",
              "      <td>0.130</td>\n",
              "      <td>0.38182</td>\n",
              "      <td>0.0682</td>\n",
              "      <td>0.0591</td>\n",
              "      <td>0.00909</td>\n",
              "      <td>1.87</td>\n",
              "      <td>0.92500</td>\n",
              "      <td>0.26136</td>\n",
              "      <td>0.18864</td>\n",
              "      <td>0.04773</td>\n",
              "      <td>0.00227</td>\n",
              "      <td>0.0227</td>\n",
              "      <td>0.00227</td>\n",
              "      <td>0.00455</td>\n",
              "      <td>0.00000</td>\n",
              "      <td>0.0091</td>\n",
              "      <td>0.1273</td>\n",
              "      <td>0.65455</td>\n",
              "      <td>0.52727</td>\n",
              "      <td>0.11818</td>\n",
              "      <td>0.20682</td>\n",
              "      <td>0.01591</td>\n",
              "      <td>14.1</td>\n",
              "      <td>30.6</td>\n",
              "      <td>40.2</td>\n",
              "      <td>19.5</td>\n",
              "      <td>9.6</td>\n",
              "      <td>1</td>\n",
              "      <td>1</td>\n",
              "      <td>1</td>\n",
              "      <td>33</td>\n",
              "      <td>50.0</td>\n",
              "      <td>0.07500</td>\n",
              "      <td>99.9132</td>\n",
              "      <td>7.2</td>\n",
              "      <td>0.008</td>\n",
              "      <td>-0.051</td>\n",
              "      <td>0.08458</td>\n",
              "      <td>0.082</td>\n",
              "      <td>0.9</td>\n",
              "      <td>-5.3</td>\n",
              "      <td>8.82995</td>\n",
              "      <td>8.5</td>\n",
              "      <td>2.54</td>\n",
              "      <td>0.261</td>\n",
              "      <td>51.1</td>\n",
              "      <td>13.7</td>\n",
              "      <td>-6.2</td>\n",
              "      <td>7.2</td>\n",
              "      <td>295</td>\n",
              "      <td>198</td>\n",
              "      <td>145</td>\n",
              "      <td>92</td>\n",
              "      <td>50</td>\n",
              "      <td>9</td>\n",
              "      <td>14</td>\n",
              "      <td>19</td>\n",
              "      <td>287</td>\n",
              "      <td>42</td>\n",
              "      <td>6.2</td>\n",
              "      <td>15.2</td>\n",
              "      <td>38.0</td>\n",
              "      <td>14.6</td>\n",
              "      <td>1240</td>\n",
              "      <td>0.118182</td>\n",
              "      <td>0.331818</td>\n",
              "      <td>0.226027</td>\n",
              "      <td>0.086957</td>\n",
              "      <td>0.278261</td>\n",
              "      <td>0.163636</td>\n",
              "      <td>189.785757</td>\n",
              "      <td>0.196904</td>\n",
              "      <td>154.078300</td>\n",
              "      <td>1.040706</td>\n",
              "      <td>0.318182</td>\n",
              "    </tr>\n",
              "    <tr>\n",
              "      <th>6</th>\n",
              "      <td>Yorvit Torrealba</td>\n",
              "      <td>13</td>\n",
              "      <td>3000000</td>\n",
              "      <td>0</td>\n",
              "      <td>2</td>\n",
              "      <td>68</td>\n",
              "      <td>261</td>\n",
              "      <td>236</td>\n",
              "      <td>58</td>\n",
              "      <td>35</td>\n",
              "      <td>17</td>\n",
              "      <td>0</td>\n",
              "      <td>6</td>\n",
              "      <td>93</td>\n",
              "      <td>12</td>\n",
              "      <td>12</td>\n",
              "      <td>0</td>\n",
              "      <td>5</td>\n",
              "      <td>3</td>\n",
              "      <td>5</td>\n",
              "      <td>5</td>\n",
              "      <td>31</td>\n",
              "      <td>56</td>\n",
              "      <td>11</td>\n",
              "      <td>0</td>\n",
              "      <td>3</td>\n",
              "      <td>0</td>\n",
              "      <td>4</td>\n",
              "      <td>44</td>\n",
              "      <td>1</td>\n",
              "      <td>0</td>\n",
              "      <td>0</td>\n",
              "      <td>75</td>\n",
              "      <td>181</td>\n",
              "      <td>53</td>\n",
              "      <td>10</td>\n",
              "      <td>925</td>\n",
              "      <td>333</td>\n",
              "      <td>592</td>\n",
              "      <td>60</td>\n",
              "      <td>103</td>\n",
              "      <td>29</td>\n",
              "      <td>8</td>\n",
              "      <td>200</td>\n",
              "      <td>0</td>\n",
              "      <td>257</td>\n",
              "      <td>0</td>\n",
              "      <td>0</td>\n",
              "      <td>0</td>\n",
              "      <td>0</td>\n",
              "      <td>0</td>\n",
              "      <td>0</td>\n",
              "      <td>0</td>\n",
              "      <td>0</td>\n",
              "      <td>4</td>\n",
              "      <td>0</td>\n",
              "      <td>0</td>\n",
              "      <td>67</td>\n",
              "      <td>0</td>\n",
              "      <td>0</td>\n",
              "      <td>0</td>\n",
              "      <td>0</td>\n",
              "      <td>0</td>\n",
              "      <td>0</td>\n",
              "      <td>0</td>\n",
              "      <td>0</td>\n",
              "      <td>4</td>\n",
              "      <td>0</td>\n",
              "      <td>0.246</td>\n",
              "      <td>0.293</td>\n",
              "      <td>0.394</td>\n",
              "      <td>0.148</td>\n",
              "      <td>0.35632</td>\n",
              "      <td>0.0460</td>\n",
              "      <td>0.0460</td>\n",
              "      <td>0.00000</td>\n",
              "      <td>3.67</td>\n",
              "      <td>0.90421</td>\n",
              "      <td>0.22222</td>\n",
              "      <td>0.13410</td>\n",
              "      <td>0.06513</td>\n",
              "      <td>0.00000</td>\n",
              "      <td>0.0230</td>\n",
              "      <td>0.01916</td>\n",
              "      <td>0.01149</td>\n",
              "      <td>0.01916</td>\n",
              "      <td>0.0192</td>\n",
              "      <td>0.1686</td>\n",
              "      <td>0.69349</td>\n",
              "      <td>0.52490</td>\n",
              "      <td>0.11877</td>\n",
              "      <td>0.21456</td>\n",
              "      <td>0.01533</td>\n",
              "      <td>18.9</td>\n",
              "      <td>30.0</td>\n",
              "      <td>51.5</td>\n",
              "      <td>14.5</td>\n",
              "      <td>4.0</td>\n",
              "      <td>0</td>\n",
              "      <td>4</td>\n",
              "      <td>0</td>\n",
              "      <td>19</td>\n",
              "      <td>0.0</td>\n",
              "      <td>0.07280</td>\n",
              "      <td>102.5070</td>\n",
              "      <td>4.1</td>\n",
              "      <td>-0.128</td>\n",
              "      <td>-0.072</td>\n",
              "      <td>0.01260</td>\n",
              "      <td>-0.027</td>\n",
              "      <td>-7.7</td>\n",
              "      <td>-4.3</td>\n",
              "      <td>0.75954</td>\n",
              "      <td>-1.6</td>\n",
              "      <td>4.25</td>\n",
              "      <td>0.232</td>\n",
              "      <td>24.7</td>\n",
              "      <td>0.6</td>\n",
              "      <td>-4.8</td>\n",
              "      <td>3.8</td>\n",
              "      <td>190</td>\n",
              "      <td>123</td>\n",
              "      <td>84</td>\n",
              "      <td>59</td>\n",
              "      <td>27</td>\n",
              "      <td>6</td>\n",
              "      <td>9</td>\n",
              "      <td>10</td>\n",
              "      <td>170</td>\n",
              "      <td>25</td>\n",
              "      <td>7.1</td>\n",
              "      <td>15.3</td>\n",
              "      <td>37.0</td>\n",
              "      <td>14.7</td>\n",
              "      <td>699</td>\n",
              "      <td>0.118774</td>\n",
              "      <td>0.287356</td>\n",
              "      <td>0.253333</td>\n",
              "      <td>0.103448</td>\n",
              "      <td>0.396552</td>\n",
              "      <td>0.094253</td>\n",
              "      <td>49.850731</td>\n",
              "      <td>0.051720</td>\n",
              "      <td>86.883010</td>\n",
              "      <td>0.586842</td>\n",
              "      <td>0.241379</td>\n",
              "    </tr>\n",
              "    <tr>\n",
              "      <th>7</th>\n",
              "      <td>Luis Castillo</td>\n",
              "      <td>14</td>\n",
              "      <td>6250000</td>\n",
              "      <td>0</td>\n",
              "      <td>4</td>\n",
              "      <td>85</td>\n",
              "      <td>359</td>\n",
              "      <td>298</td>\n",
              "      <td>73</td>\n",
              "      <td>62</td>\n",
              "      <td>7</td>\n",
              "      <td>1</td>\n",
              "      <td>3</td>\n",
              "      <td>91</td>\n",
              "      <td>50</td>\n",
              "      <td>48</td>\n",
              "      <td>2</td>\n",
              "      <td>2</td>\n",
              "      <td>2</td>\n",
              "      <td>7</td>\n",
              "      <td>4</td>\n",
              "      <td>28</td>\n",
              "      <td>63</td>\n",
              "      <td>16</td>\n",
              "      <td>0</td>\n",
              "      <td>4</td>\n",
              "      <td>1</td>\n",
              "      <td>8</td>\n",
              "      <td>35</td>\n",
              "      <td>0</td>\n",
              "      <td>0</td>\n",
              "      <td>1</td>\n",
              "      <td>125</td>\n",
              "      <td>229</td>\n",
              "      <td>59</td>\n",
              "      <td>13</td>\n",
              "      <td>1543</td>\n",
              "      <td>651</td>\n",
              "      <td>892</td>\n",
              "      <td>30</td>\n",
              "      <td>187</td>\n",
              "      <td>38</td>\n",
              "      <td>17</td>\n",
              "      <td>272</td>\n",
              "      <td>0</td>\n",
              "      <td>0</td>\n",
              "      <td>0</td>\n",
              "      <td>353</td>\n",
              "      <td>0</td>\n",
              "      <td>0</td>\n",
              "      <td>0</td>\n",
              "      <td>0</td>\n",
              "      <td>0</td>\n",
              "      <td>0</td>\n",
              "      <td>6</td>\n",
              "      <td>0</td>\n",
              "      <td>0</td>\n",
              "      <td>0</td>\n",
              "      <td>0</td>\n",
              "      <td>81</td>\n",
              "      <td>0</td>\n",
              "      <td>0</td>\n",
              "      <td>0</td>\n",
              "      <td>0</td>\n",
              "      <td>0</td>\n",
              "      <td>0</td>\n",
              "      <td>6</td>\n",
              "      <td>0</td>\n",
              "      <td>0.245</td>\n",
              "      <td>0.355</td>\n",
              "      <td>0.305</td>\n",
              "      <td>0.060</td>\n",
              "      <td>0.25348</td>\n",
              "      <td>0.1393</td>\n",
              "      <td>0.1337</td>\n",
              "      <td>0.00557</td>\n",
              "      <td>0.70</td>\n",
              "      <td>0.83008</td>\n",
              "      <td>0.20334</td>\n",
              "      <td>0.17270</td>\n",
              "      <td>0.01950</td>\n",
              "      <td>0.00279</td>\n",
              "      <td>0.0084</td>\n",
              "      <td>0.00557</td>\n",
              "      <td>0.00557</td>\n",
              "      <td>0.01950</td>\n",
              "      <td>0.0111</td>\n",
              "      <td>0.0975</td>\n",
              "      <td>0.63788</td>\n",
              "      <td>0.54039</td>\n",
              "      <td>0.07799</td>\n",
              "      <td>0.17549</td>\n",
              "      <td>0.02228</td>\n",
              "      <td>22.0</td>\n",
              "      <td>11.0</td>\n",
              "      <td>68.8</td>\n",
              "      <td>14.0</td>\n",
              "      <td>6.3</td>\n",
              "      <td>17</td>\n",
              "      <td>2</td>\n",
              "      <td>2</td>\n",
              "      <td>46</td>\n",
              "      <td>89.5</td>\n",
              "      <td>0.12813</td>\n",
              "      <td>98.0535</td>\n",
              "      <td>5.6</td>\n",
              "      <td>-0.108</td>\n",
              "      <td>-0.114</td>\n",
              "      <td>0.00496</td>\n",
              "      <td>0.053</td>\n",
              "      <td>-8.9</td>\n",
              "      <td>-9.4</td>\n",
              "      <td>0.40640</td>\n",
              "      <td>4.3</td>\n",
              "      <td>6.60</td>\n",
              "      <td>0.261</td>\n",
              "      <td>40.9</td>\n",
              "      <td>11.0</td>\n",
              "      <td>-0.3</td>\n",
              "      <td>10.5</td>\n",
              "      <td>236</td>\n",
              "      <td>158</td>\n",
              "      <td>99</td>\n",
              "      <td>84</td>\n",
              "      <td>43</td>\n",
              "      <td>1</td>\n",
              "      <td>5</td>\n",
              "      <td>19</td>\n",
              "      <td>226</td>\n",
              "      <td>25</td>\n",
              "      <td>1.0</td>\n",
              "      <td>6.0</td>\n",
              "      <td>44.2</td>\n",
              "      <td>11.1</td>\n",
              "      <td>881</td>\n",
              "      <td>0.077994</td>\n",
              "      <td>0.348189</td>\n",
              "      <td>0.368000</td>\n",
              "      <td>0.041096</td>\n",
              "      <td>0.150685</td>\n",
              "      <td>0.046797</td>\n",
              "      <td>171.726359</td>\n",
              "      <td>0.178167</td>\n",
              "      <td>83.391949</td>\n",
              "      <td>0.563262</td>\n",
              "      <td>0.403900</td>\n",
              "    </tr>\n",
              "    <tr>\n",
              "      <th>8</th>\n",
              "      <td>Marlon Anderson</td>\n",
              "      <td>16</td>\n",
              "      <td>1050000</td>\n",
              "      <td>0</td>\n",
              "      <td>11</td>\n",
              "      <td>87</td>\n",
              "      <td>151</td>\n",
              "      <td>138</td>\n",
              "      <td>29</td>\n",
              "      <td>22</td>\n",
              "      <td>6</td>\n",
              "      <td>0</td>\n",
              "      <td>1</td>\n",
              "      <td>38</td>\n",
              "      <td>9</td>\n",
              "      <td>9</td>\n",
              "      <td>0</td>\n",
              "      <td>0</td>\n",
              "      <td>2</td>\n",
              "      <td>2</td>\n",
              "      <td>3</td>\n",
              "      <td>10</td>\n",
              "      <td>40</td>\n",
              "      <td>2</td>\n",
              "      <td>0</td>\n",
              "      <td>1</td>\n",
              "      <td>0</td>\n",
              "      <td>1</td>\n",
              "      <td>27</td>\n",
              "      <td>1</td>\n",
              "      <td>0</td>\n",
              "      <td>2</td>\n",
              "      <td>38</td>\n",
              "      <td>108</td>\n",
              "      <td>29</td>\n",
              "      <td>2</td>\n",
              "      <td>607</td>\n",
              "      <td>202</td>\n",
              "      <td>405</td>\n",
              "      <td>29</td>\n",
              "      <td>58</td>\n",
              "      <td>19</td>\n",
              "      <td>10</td>\n",
              "      <td>116</td>\n",
              "      <td>0</td>\n",
              "      <td>0</td>\n",
              "      <td>12</td>\n",
              "      <td>1</td>\n",
              "      <td>0</td>\n",
              "      <td>0</td>\n",
              "      <td>78</td>\n",
              "      <td>0</td>\n",
              "      <td>0</td>\n",
              "      <td>1</td>\n",
              "      <td>59</td>\n",
              "      <td>0</td>\n",
              "      <td>0</td>\n",
              "      <td>0</td>\n",
              "      <td>6</td>\n",
              "      <td>1</td>\n",
              "      <td>0</td>\n",
              "      <td>0</td>\n",
              "      <td>25</td>\n",
              "      <td>0</td>\n",
              "      <td>0</td>\n",
              "      <td>1</td>\n",
              "      <td>59</td>\n",
              "      <td>0</td>\n",
              "      <td>0.210</td>\n",
              "      <td>0.255</td>\n",
              "      <td>0.275</td>\n",
              "      <td>0.065</td>\n",
              "      <td>0.25166</td>\n",
              "      <td>0.0596</td>\n",
              "      <td>0.0596</td>\n",
              "      <td>0.00000</td>\n",
              "      <td>3.00</td>\n",
              "      <td>0.91391</td>\n",
              "      <td>0.19205</td>\n",
              "      <td>0.14570</td>\n",
              "      <td>0.03974</td>\n",
              "      <td>0.00000</td>\n",
              "      <td>0.0066</td>\n",
              "      <td>0.00000</td>\n",
              "      <td>0.01325</td>\n",
              "      <td>0.01325</td>\n",
              "      <td>0.0199</td>\n",
              "      <td>0.1788</td>\n",
              "      <td>0.71523</td>\n",
              "      <td>0.53642</td>\n",
              "      <td>0.06623</td>\n",
              "      <td>0.26490</td>\n",
              "      <td>0.00662</td>\n",
              "      <td>6.9</td>\n",
              "      <td>25.0</td>\n",
              "      <td>50.0</td>\n",
              "      <td>16.4</td>\n",
              "      <td>8.6</td>\n",
              "      <td>2</td>\n",
              "      <td>1</td>\n",
              "      <td>0</td>\n",
              "      <td>16</td>\n",
              "      <td>66.7</td>\n",
              "      <td>0.10596</td>\n",
              "      <td>98.7073</td>\n",
              "      <td>2.4</td>\n",
              "      <td>-0.359</td>\n",
              "      <td>-0.347</td>\n",
              "      <td>-0.27353</td>\n",
              "      <td>-0.274</td>\n",
              "      <td>-12.4</td>\n",
              "      <td>-12.0</td>\n",
              "      <td>-9.42690</td>\n",
              "      <td>-9.4</td>\n",
              "      <td>-1.14</td>\n",
              "      <td>0.190</td>\n",
              "      <td>9.0</td>\n",
              "      <td>-5.5</td>\n",
              "      <td>-13.8</td>\n",
              "      <td>-8.6</td>\n",
              "      <td>114</td>\n",
              "      <td>64</td>\n",
              "      <td>43</td>\n",
              "      <td>31</td>\n",
              "      <td>19</td>\n",
              "      <td>0</td>\n",
              "      <td>2</td>\n",
              "      <td>7</td>\n",
              "      <td>93</td>\n",
              "      <td>9</td>\n",
              "      <td>0.0</td>\n",
              "      <td>6.5</td>\n",
              "      <td>36.8</td>\n",
              "      <td>9.7</td>\n",
              "      <td>327</td>\n",
              "      <td>0.066225</td>\n",
              "      <td>0.251656</td>\n",
              "      <td>0.421053</td>\n",
              "      <td>0.034483</td>\n",
              "      <td>0.241379</td>\n",
              "      <td>0.015894</td>\n",
              "      <td>7.833809</td>\n",
              "      <td>0.008128</td>\n",
              "      <td>33.666272</td>\n",
              "      <td>0.227395</td>\n",
              "      <td>0.185430</td>\n",
              "    </tr>\n",
              "    <tr>\n",
              "      <th>9</th>\n",
              "      <td>Placido Polanco</td>\n",
              "      <td>17</td>\n",
              "      <td>4600000</td>\n",
              "      <td>0</td>\n",
              "      <td>4</td>\n",
              "      <td>138</td>\n",
              "      <td>629</td>\n",
              "      <td>580</td>\n",
              "      <td>178</td>\n",
              "      <td>133</td>\n",
              "      <td>34</td>\n",
              "      <td>3</td>\n",
              "      <td>8</td>\n",
              "      <td>242</td>\n",
              "      <td>35</td>\n",
              "      <td>33</td>\n",
              "      <td>2</td>\n",
              "      <td>6</td>\n",
              "      <td>4</td>\n",
              "      <td>4</td>\n",
              "      <td>2</td>\n",
              "      <td>58</td>\n",
              "      <td>98</td>\n",
              "      <td>15</td>\n",
              "      <td>0</td>\n",
              "      <td>7</td>\n",
              "      <td>2</td>\n",
              "      <td>15</td>\n",
              "      <td>43</td>\n",
              "      <td>0</td>\n",
              "      <td>0</td>\n",
              "      <td>3</td>\n",
              "      <td>219</td>\n",
              "      <td>405</td>\n",
              "      <td>133</td>\n",
              "      <td>14</td>\n",
              "      <td>2199</td>\n",
              "      <td>822</td>\n",
              "      <td>1377</td>\n",
              "      <td>131</td>\n",
              "      <td>264</td>\n",
              "      <td>113</td>\n",
              "      <td>37</td>\n",
              "      <td>545</td>\n",
              "      <td>0</td>\n",
              "      <td>0</td>\n",
              "      <td>0</td>\n",
              "      <td>627</td>\n",
              "      <td>0</td>\n",
              "      <td>0</td>\n",
              "      <td>0</td>\n",
              "      <td>0</td>\n",
              "      <td>0</td>\n",
              "      <td>0</td>\n",
              "      <td>2</td>\n",
              "      <td>0</td>\n",
              "      <td>0</td>\n",
              "      <td>0</td>\n",
              "      <td>0</td>\n",
              "      <td>141</td>\n",
              "      <td>0</td>\n",
              "      <td>0</td>\n",
              "      <td>0</td>\n",
              "      <td>0</td>\n",
              "      <td>0</td>\n",
              "      <td>0</td>\n",
              "      <td>2</td>\n",
              "      <td>0</td>\n",
              "      <td>0.307</td>\n",
              "      <td>0.350</td>\n",
              "      <td>0.417</td>\n",
              "      <td>0.110</td>\n",
              "      <td>0.38474</td>\n",
              "      <td>0.0556</td>\n",
              "      <td>0.0525</td>\n",
              "      <td>0.00318</td>\n",
              "      <td>1.23</td>\n",
              "      <td>0.92210</td>\n",
              "      <td>0.28299</td>\n",
              "      <td>0.21145</td>\n",
              "      <td>0.05405</td>\n",
              "      <td>0.00477</td>\n",
              "      <td>0.0127</td>\n",
              "      <td>0.00954</td>\n",
              "      <td>0.00636</td>\n",
              "      <td>0.00636</td>\n",
              "      <td>0.0032</td>\n",
              "      <td>0.0684</td>\n",
              "      <td>0.64388</td>\n",
              "      <td>0.57552</td>\n",
              "      <td>0.09221</td>\n",
              "      <td>0.15580</td>\n",
              "      <td>0.02385</td>\n",
              "      <td>10.5</td>\n",
              "      <td>24.0</td>\n",
              "      <td>48.4</td>\n",
              "      <td>20.7</td>\n",
              "      <td>6.8</td>\n",
              "      <td>7</td>\n",
              "      <td>1</td>\n",
              "      <td>1</td>\n",
              "      <td>90</td>\n",
              "      <td>87.5</td>\n",
              "      <td>0.14308</td>\n",
              "      <td>101.3860</td>\n",
              "      <td>9.9</td>\n",
              "      <td>0.056</td>\n",
              "      <td>0.047</td>\n",
              "      <td>0.16867</td>\n",
              "      <td>0.179</td>\n",
              "      <td>8.0</td>\n",
              "      <td>6.9</td>\n",
              "      <td>24.43280</td>\n",
              "      <td>25.9</td>\n",
              "      <td>-0.42</td>\n",
              "      <td>0.272</td>\n",
              "      <td>79.2</td>\n",
              "      <td>27.0</td>\n",
              "      <td>8.3</td>\n",
              "      <td>27.0</td>\n",
              "      <td>411</td>\n",
              "      <td>281</td>\n",
              "      <td>189</td>\n",
              "      <td>119</td>\n",
              "      <td>66</td>\n",
              "      <td>8</td>\n",
              "      <td>14</td>\n",
              "      <td>28</td>\n",
              "      <td>374</td>\n",
              "      <td>50</td>\n",
              "      <td>4.2</td>\n",
              "      <td>11.8</td>\n",
              "      <td>42.4</td>\n",
              "      <td>13.4</td>\n",
              "      <td>1674</td>\n",
              "      <td>0.092210</td>\n",
              "      <td>0.348172</td>\n",
              "      <td>0.410959</td>\n",
              "      <td>0.044944</td>\n",
              "      <td>0.252809</td>\n",
              "      <td>0.125914</td>\n",
              "      <td>944.119346</td>\n",
              "      <td>0.979530</td>\n",
              "      <td>210.086052</td>\n",
              "      <td>1.419005</td>\n",
              "      <td>0.394277</td>\n",
              "    </tr>\n",
              "    <tr>\n",
              "      <th>10</th>\n",
              "      <td>Rob Mackowiak</td>\n",
              "      <td>19</td>\n",
              "      <td>1500000</td>\n",
              "      <td>0</td>\n",
              "      <td>11</td>\n",
              "      <td>35</td>\n",
              "      <td>63</td>\n",
              "      <td>53</td>\n",
              "      <td>7</td>\n",
              "      <td>5</td>\n",
              "      <td>1</td>\n",
              "      <td>0</td>\n",
              "      <td>1</td>\n",
              "      <td>11</td>\n",
              "      <td>8</td>\n",
              "      <td>8</td>\n",
              "      <td>0</td>\n",
              "      <td>1</td>\n",
              "      <td>1</td>\n",
              "      <td>0</td>\n",
              "      <td>0</td>\n",
              "      <td>4</td>\n",
              "      <td>10</td>\n",
              "      <td>1</td>\n",
              "      <td>0</td>\n",
              "      <td>0</td>\n",
              "      <td>0</td>\n",
              "      <td>2</td>\n",
              "      <td>17</td>\n",
              "      <td>0</td>\n",
              "      <td>0</td>\n",
              "      <td>0</td>\n",
              "      <td>16</td>\n",
              "      <td>47</td>\n",
              "      <td>9</td>\n",
              "      <td>1</td>\n",
              "      <td>253</td>\n",
              "      <td>101</td>\n",
              "      <td>152</td>\n",
              "      <td>9</td>\n",
              "      <td>18</td>\n",
              "      <td>7</td>\n",
              "      <td>3</td>\n",
              "      <td>37</td>\n",
              "      <td>0</td>\n",
              "      <td>0</td>\n",
              "      <td>0</td>\n",
              "      <td>0</td>\n",
              "      <td>0</td>\n",
              "      <td>0</td>\n",
              "      <td>35</td>\n",
              "      <td>0</td>\n",
              "      <td>6</td>\n",
              "      <td>0</td>\n",
              "      <td>22</td>\n",
              "      <td>0</td>\n",
              "      <td>0</td>\n",
              "      <td>0</td>\n",
              "      <td>0</td>\n",
              "      <td>0</td>\n",
              "      <td>0</td>\n",
              "      <td>0</td>\n",
              "      <td>12</td>\n",
              "      <td>0</td>\n",
              "      <td>2</td>\n",
              "      <td>0</td>\n",
              "      <td>22</td>\n",
              "      <td>0</td>\n",
              "      <td>0.132</td>\n",
              "      <td>0.254</td>\n",
              "      <td>0.208</td>\n",
              "      <td>0.075</td>\n",
              "      <td>0.17460</td>\n",
              "      <td>0.1270</td>\n",
              "      <td>0.1270</td>\n",
              "      <td>0.00000</td>\n",
              "      <td>2.13</td>\n",
              "      <td>0.84127</td>\n",
              "      <td>0.11111</td>\n",
              "      <td>0.07937</td>\n",
              "      <td>0.01587</td>\n",
              "      <td>0.00000</td>\n",
              "      <td>0.0159</td>\n",
              "      <td>0.01587</td>\n",
              "      <td>0.01587</td>\n",
              "      <td>0.00000</td>\n",
              "      <td>0.0000</td>\n",
              "      <td>0.2698</td>\n",
              "      <td>0.74603</td>\n",
              "      <td>0.47619</td>\n",
              "      <td>0.06349</td>\n",
              "      <td>0.15873</td>\n",
              "      <td>0.03175</td>\n",
              "      <td>11.1</td>\n",
              "      <td>24.3</td>\n",
              "      <td>48.6</td>\n",
              "      <td>18.9</td>\n",
              "      <td>8.1</td>\n",
              "      <td>0</td>\n",
              "      <td>0</td>\n",
              "      <td>0</td>\n",
              "      <td>7</td>\n",
              "      <td>0.0</td>\n",
              "      <td>0.11111</td>\n",
              "      <td>100.1330</td>\n",
              "      <td>1.0</td>\n",
              "      <td>-0.485</td>\n",
              "      <td>-0.480</td>\n",
              "      <td>-0.40359</td>\n",
              "      <td>-0.404</td>\n",
              "      <td>-7.2</td>\n",
              "      <td>-7.1</td>\n",
              "      <td>-5.94996</td>\n",
              "      <td>-5.9</td>\n",
              "      <td>0.02</td>\n",
              "      <td>0.167</td>\n",
              "      <td>2.7</td>\n",
              "      <td>-3.3</td>\n",
              "      <td>-6.7</td>\n",
              "      <td>-4.5</td>\n",
              "      <td>47</td>\n",
              "      <td>30</td>\n",
              "      <td>20</td>\n",
              "      <td>8</td>\n",
              "      <td>8</td>\n",
              "      <td>1</td>\n",
              "      <td>0</td>\n",
              "      <td>2</td>\n",
              "      <td>36</td>\n",
              "      <td>3</td>\n",
              "      <td>5.0</td>\n",
              "      <td>0.0</td>\n",
              "      <td>25.0</td>\n",
              "      <td>8.3</td>\n",
              "      <td>137</td>\n",
              "      <td>0.063492</td>\n",
              "      <td>0.253968</td>\n",
              "      <td>0.437500</td>\n",
              "      <td>0.142857</td>\n",
              "      <td>0.285714</td>\n",
              "      <td>0.015873</td>\n",
              "      <td>1.206505</td>\n",
              "      <td>0.001252</td>\n",
              "      <td>10.550100</td>\n",
              "      <td>0.071260</td>\n",
              "      <td>0.031746</td>\n",
              "    </tr>\n",
              "    <tr>\n",
              "      <th>11</th>\n",
              "      <td>Adam Dunn</td>\n",
              "      <td>21</td>\n",
              "      <td>13000000</td>\n",
              "      <td>0</td>\n",
              "      <td>7</td>\n",
              "      <td>158</td>\n",
              "      <td>651</td>\n",
              "      <td>517</td>\n",
              "      <td>122</td>\n",
              "      <td>59</td>\n",
              "      <td>23</td>\n",
              "      <td>0</td>\n",
              "      <td>40</td>\n",
              "      <td>265</td>\n",
              "      <td>122</td>\n",
              "      <td>109</td>\n",
              "      <td>13</td>\n",
              "      <td>7</td>\n",
              "      <td>5</td>\n",
              "      <td>0</td>\n",
              "      <td>2</td>\n",
              "      <td>100</td>\n",
              "      <td>156</td>\n",
              "      <td>9</td>\n",
              "      <td>0</td>\n",
              "      <td>5</td>\n",
              "      <td>0</td>\n",
              "      <td>9</td>\n",
              "      <td>164</td>\n",
              "      <td>1</td>\n",
              "      <td>0</td>\n",
              "      <td>1</td>\n",
              "      <td>251</td>\n",
              "      <td>397</td>\n",
              "      <td>107</td>\n",
              "      <td>7</td>\n",
              "      <td>2815</td>\n",
              "      <td>1296</td>\n",
              "      <td>1519</td>\n",
              "      <td>145</td>\n",
              "      <td>130</td>\n",
              "      <td>63</td>\n",
              "      <td>20</td>\n",
              "      <td>358</td>\n",
              "      <td>0</td>\n",
              "      <td>0</td>\n",
              "      <td>61</td>\n",
              "      <td>0</td>\n",
              "      <td>0</td>\n",
              "      <td>0</td>\n",
              "      <td>482</td>\n",
              "      <td>0</td>\n",
              "      <td>97</td>\n",
              "      <td>9</td>\n",
              "      <td>2</td>\n",
              "      <td>0</td>\n",
              "      <td>0</td>\n",
              "      <td>0</td>\n",
              "      <td>19</td>\n",
              "      <td>0</td>\n",
              "      <td>0</td>\n",
              "      <td>0</td>\n",
              "      <td>119</td>\n",
              "      <td>0</td>\n",
              "      <td>23</td>\n",
              "      <td>2</td>\n",
              "      <td>2</td>\n",
              "      <td>0</td>\n",
              "      <td>0.236</td>\n",
              "      <td>0.386</td>\n",
              "      <td>0.513</td>\n",
              "      <td>0.277</td>\n",
              "      <td>0.40707</td>\n",
              "      <td>0.1874</td>\n",
              "      <td>0.1674</td>\n",
              "      <td>0.01997</td>\n",
              "      <td>1.34</td>\n",
              "      <td>0.79416</td>\n",
              "      <td>0.18740</td>\n",
              "      <td>0.09063</td>\n",
              "      <td>0.03533</td>\n",
              "      <td>0.00000</td>\n",
              "      <td>0.0614</td>\n",
              "      <td>0.01075</td>\n",
              "      <td>0.00768</td>\n",
              "      <td>0.00000</td>\n",
              "      <td>0.0031</td>\n",
              "      <td>0.2519</td>\n",
              "      <td>0.60983</td>\n",
              "      <td>0.35791</td>\n",
              "      <td>0.15361</td>\n",
              "      <td>0.23963</td>\n",
              "      <td>0.01382</td>\n",
              "      <td>6.5</td>\n",
              "      <td>40.5</td>\n",
              "      <td>36.3</td>\n",
              "      <td>17.6</td>\n",
              "      <td>5.6</td>\n",
              "      <td>2</td>\n",
              "      <td>1</td>\n",
              "      <td>1</td>\n",
              "      <td>79</td>\n",
              "      <td>66.7</td>\n",
              "      <td>0.12135</td>\n",
              "      <td>101.0960</td>\n",
              "      <td>10.5</td>\n",
              "      <td>0.181</td>\n",
              "      <td>0.117</td>\n",
              "      <td>0.24590</td>\n",
              "      <td>0.246</td>\n",
              "      <td>27.8</td>\n",
              "      <td>18.0</td>\n",
              "      <td>37.77460</td>\n",
              "      <td>37.8</td>\n",
              "      <td>-4.60</td>\n",
              "      <td>0.304</td>\n",
              "      <td>102.0</td>\n",
              "      <td>51.2</td>\n",
              "      <td>24.7</td>\n",
              "      <td>42.9</td>\n",
              "      <td>401</td>\n",
              "      <td>283</td>\n",
              "      <td>188</td>\n",
              "      <td>143</td>\n",
              "      <td>77</td>\n",
              "      <td>17</td>\n",
              "      <td>20</td>\n",
              "      <td>23</td>\n",
              "      <td>408</td>\n",
              "      <td>60</td>\n",
              "      <td>9.0</td>\n",
              "      <td>14.0</td>\n",
              "      <td>29.9</td>\n",
              "      <td>14.7</td>\n",
              "      <td>2312</td>\n",
              "      <td>0.153610</td>\n",
              "      <td>0.385561</td>\n",
              "      <td>0.314741</td>\n",
              "      <td>0.327869</td>\n",
              "      <td>0.516393</td>\n",
              "      <td>0.645161</td>\n",
              "      <td>2488.340118</td>\n",
              "      <td>2.581668</td>\n",
              "      <td>255.591200</td>\n",
              "      <td>1.726365</td>\n",
              "      <td>0.448541</td>\n",
              "    </tr>\n",
              "  </tbody>\n",
              "</table>\n",
              "</div>"
            ],
            "text/plain": [
              "              PLAYER  Record_ID#    SALARY  ROOKIE  POS    G   PA   AB    H  \\\n",
              "0         Gregg Zaun           1   3750000       0    2   85  288  245   58   \n",
              "1       Henry Blanco           2   3175000       0    2   54  128  120   35   \n",
              "2        Moises Alou           7   7500000       0    7   15   54   49   17   \n",
              "3    Corey Patterson           9   3000000       0    8  123  392  366   75   \n",
              "4        Rod Barajas          10    700000       0    2  100  377  349   87   \n",
              "5       Rich Aurilia          12   4500000       0    3  134  440  407  115   \n",
              "6   Yorvit Torrealba          13   3000000       0    2   68  261  236   58   \n",
              "7      Luis Castillo          14   6250000       0    4   85  359  298   73   \n",
              "8    Marlon Anderson          16   1050000       0   11   87  151  138   29   \n",
              "9    Placido Polanco          17   4600000       0    4  138  629  580  178   \n",
              "10     Rob Mackowiak          19   1500000       0   11   35   63   53    7   \n",
              "11         Adam Dunn          21  13000000       0    7  158  651  517  122   \n",
              "\n",
              "     1B  2B  3B  HR   TB   BB  UBB  IBB  HBP  SF  SH  ROE  RBI  LEADOFF_PA  \\\n",
              "0    40  12   0   6   88   38   37    1    1   1   3    4   30          63   \n",
              "1    29   3   0   3   47    6    5    1    0   0   2    0   12          27   \n",
              "2    15   2   0   0   19    2    2    0    2   1   0    2    9          12   \n",
              "3    46  17   2  10  126   16   16    0    1   4   5    7   34         120   \n",
              "4    53  23   0  11  143   17   17    0    7   4   0    2   49          70   \n",
              "5    83  21   1  10  168   30   26    4    1   2   0    4   52          91   \n",
              "6    35  17   0   6   93   12   12    0    5   3   5    5   31          56   \n",
              "7    62   7   1   3   91   50   48    2    2   2   7    4   28          63   \n",
              "8    22   6   0   1   38    9    9    0    0   2   2    3   10          40   \n",
              "9   133  34   3   8  242   35   33    2    6   4   4    2   58          98   \n",
              "10    5   1   0   1   11    8    8    0    1   1   0    0    4          10   \n",
              "11   59  23   0  40  265  122  109   13    7   5   0    2  100         156   \n",
              "\n",
              "    DP  TP  WP  PB  END_GAME   SO  BK  INTERFERENCE  FC  TOB  OUT  SIT_DP  \\\n",
              "0    7   0   1   2         7   38   0             0   0   97  187      51   \n",
              "1    4   0   0   0         4   22   0             0   0   41   87      33   \n",
              "2    1   0   0   0         0    4   0             0   0   21   31      12   \n",
              "3    5   0   2   1         8   57   0             0   3   92  290      74   \n",
              "4   10   0   3   2         2   61   1             0   0  111  264      82   \n",
              "5   12   0   1   0         7   56   0             0   2  146  288      78   \n",
              "6   11   0   3   0         4   44   1             0   0   75  181      53   \n",
              "7   16   0   4   1         8   35   0             0   1  125  229      59   \n",
              "8    2   0   1   0         1   27   1             0   2   38  108      29   \n",
              "9   15   0   7   2        15   43   0             0   3  219  405     133   \n",
              "10   1   0   0   0         2   17   0             0   0   16   47       9   \n",
              "11   9   0   5   0         9  164   1             0   1  251  397     107   \n",
              "\n",
              "    GIDP  PITCHES  BALLS  STRIKES   FB   GB   LD  POP  Batted Balls  PA_P  \\\n",
              "0      6     1154    462      692   55   94   34   28           211     0   \n",
              "1      4      447    149      298   33   43   17    8           101     0   \n",
              "2      1      152     58       94   11   20   11    4            46     0   \n",
              "3      3     1299    414      885   85  160   43   30           318     0   \n",
              "4      9     1458    465      993  101  109   47   35           292     0   \n",
              "5     11     1562    559     1003  108  142   69   34           353     0   \n",
              "6     10      925    333      592   60  103   29    8           200     0   \n",
              "7     13     1543    651      892   30  187   38   17           272     0   \n",
              "8      2      607    202      405   29   58   19   10           116     0   \n",
              "9     14     2199    822     1377  131  264  113   37           545     0   \n",
              "10     1      253    101      152    9   18    7    3            37     0   \n",
              "11     7     2815   1296     1519  145  130   63   20           358     0   \n",
              "\n",
              "    PA_C  PA_1B  PA_2B  PA_3B  PA_SS  PA_LF  PA_CF  PA_RF  PA_DH  PA_PH  \\\n",
              "0    273      0      0      0      0      0      0      0      8      7   \n",
              "1    109      1      0      0      0      0      0      0      0     18   \n",
              "2      0      0      0      0      0     49      0      0      4      1   \n",
              "3      0      0      0      0      0      0    370      0      0     22   \n",
              "4    356     14      0      0      0      0      0      0      5      2   \n",
              "5      0    213      1    195      0      0      0      0      8     23   \n",
              "6    257      0      0      0      0      0      0      0      0      4   \n",
              "7      0      0    353      0      0      0      0      0      0      6   \n",
              "8      0     12      1      0      0     78      0      0      1     59   \n",
              "9      0      0    627      0      0      0      0      0      0      2   \n",
              "10     0      0      0      0      0     35      0      6      0     22   \n",
              "11     0     61      0      0      0    482      0     97      9      2   \n",
              "\n",
              "    PA_PR  G_P  G_C  G_1B  G_2B  G_3B  G_SS  G_LF  G_CF  G_RF  G_DH  G_PH  \\\n",
              "0       0    0   79     0     0     0     0     0     0     0     3     7   \n",
              "1       0    0   45     1     0     0     0     0     0     0     0    18   \n",
              "2       0    0    0     0     0     0     0    13     0     0     1     1   \n",
              "3       0    0    0     0     0     0     0     0   124     0     0    22   \n",
              "4       0    0   98     4     0     0     0     0     0     0     2     2   \n",
              "5       0    0    0    82     1    63     0     0     0     0     2    23   \n",
              "6       0    0   67     0     0     0     0     0     0     0     0     4   \n",
              "7       0    0    0     0    81     0     0     0     0     0     0     6   \n",
              "8       0    0    0     6     1     0     0    25     0     0     1    59   \n",
              "9       0    0    0     0   141     0     0     0     0     0     0     2   \n",
              "10      0    0    0     0     0     0     0    12     0     2     0    22   \n",
              "11      0    0    0    19     0     0     0   119     0    23     2     2   \n",
              "\n",
              "    G_PR    AVG    OBP    SLG  D_ISO      TBP     BBr    UBBr     IBBR  SO/BB  \\\n",
              "0      0  0.237  0.340  0.359  0.122  0.30556  0.1319  0.1285  0.00347   1.00   \n",
              "1      0  0.292  0.325  0.392  0.100  0.36719  0.0469  0.0391  0.00781   3.67   \n",
              "2      0  0.347  0.389  0.388  0.041  0.35185  0.0370  0.0370  0.00000   2.00   \n",
              "3      5  0.205  0.238  0.344  0.139  0.32143  0.0408  0.0408  0.00000   3.56   \n",
              "4      0  0.249  0.294  0.410  0.160  0.37931  0.0451  0.0451  0.00000   3.59   \n",
              "5      0  0.283  0.332  0.413  0.130  0.38182  0.0682  0.0591  0.00909   1.87   \n",
              "6      0  0.246  0.293  0.394  0.148  0.35632  0.0460  0.0460  0.00000   3.67   \n",
              "7      0  0.245  0.355  0.305  0.060  0.25348  0.1393  0.1337  0.00557   0.70   \n",
              "8      0  0.210  0.255  0.275  0.065  0.25166  0.0596  0.0596  0.00000   3.00   \n",
              "9      0  0.307  0.350  0.417  0.110  0.38474  0.0556  0.0525  0.00318   1.23   \n",
              "10     0  0.132  0.254  0.208  0.075  0.17460  0.1270  0.1270  0.00000   2.13   \n",
              "11     0  0.236  0.386  0.513  0.277  0.40707  0.1874  0.1674  0.01997   1.34   \n",
              "\n",
              "        ABR     HITR      B1R      B2R      B3R     HRr     HBPR      SFR  \\\n",
              "0   0.85069  0.20139  0.13889  0.04167  0.00000  0.0208  0.00347  0.00347   \n",
              "1   0.93750  0.27344  0.22656  0.02344  0.00000  0.0234  0.00000  0.00000   \n",
              "2   0.90741  0.31481  0.27778  0.03704  0.00000  0.0000  0.03704  0.01852   \n",
              "3   0.93367  0.19133  0.11735  0.04337  0.00510  0.0255  0.00255  0.01020   \n",
              "4   0.92573  0.23077  0.14058  0.06101  0.00000  0.0292  0.01857  0.01061   \n",
              "5   0.92500  0.26136  0.18864  0.04773  0.00227  0.0227  0.00227  0.00455   \n",
              "6   0.90421  0.22222  0.13410  0.06513  0.00000  0.0230  0.01916  0.01149   \n",
              "7   0.83008  0.20334  0.17270  0.01950  0.00279  0.0084  0.00557  0.00557   \n",
              "8   0.91391  0.19205  0.14570  0.03974  0.00000  0.0066  0.00000  0.01325   \n",
              "9   0.92210  0.28299  0.21145  0.05405  0.00477  0.0127  0.00954  0.00636   \n",
              "10  0.84127  0.11111  0.07937  0.01587  0.00000  0.0159  0.01587  0.01587   \n",
              "11  0.79416  0.18740  0.09063  0.03533  0.00000  0.0614  0.01075  0.00768   \n",
              "\n",
              "        SHR    ROEr     SOr     OUTR     NSOR     RBIR  LEADOFFR  END_GAMER  \\\n",
              "0   0.01042  0.0139  0.1319  0.64931  0.51736  0.10417   0.21875    0.02431   \n",
              "1   0.01562  0.0000  0.1719  0.67969  0.50781  0.09375   0.21094    0.03125   \n",
              "2   0.00000  0.0370  0.0741  0.57407  0.50000  0.16667   0.22222    0.00000   \n",
              "3   0.01276  0.0179  0.1454  0.73980  0.59439  0.08673   0.30612    0.02041   \n",
              "4   0.00000  0.0053  0.1618  0.70027  0.53846  0.12997   0.18568    0.00531   \n",
              "5   0.00000  0.0091  0.1273  0.65455  0.52727  0.11818   0.20682    0.01591   \n",
              "6   0.01916  0.0192  0.1686  0.69349  0.52490  0.11877   0.21456    0.01533   \n",
              "7   0.01950  0.0111  0.0975  0.63788  0.54039  0.07799   0.17549    0.02228   \n",
              "8   0.01325  0.0199  0.1788  0.71523  0.53642  0.06623   0.26490    0.00662   \n",
              "9   0.00636  0.0032  0.0684  0.64388  0.57552  0.09221   0.15580    0.02385   \n",
              "10  0.00000  0.0000  0.2698  0.74603  0.47619  0.06349   0.15873    0.03175   \n",
              "11  0.00000  0.0031  0.2519  0.60983  0.35791  0.15361   0.23963    0.01382   \n",
              "\n",
              "     DP%   FB%   GB%   LD%  POP%  SB  CS  PICKOFF   R   SB%     RUNR  \\\n",
              "0   11.8  26.1  44.6  16.1  13.3   2   1        0  29  66.7  0.10069   \n",
              "1   12.1  32.7  42.6  16.8   7.9   0   0        0  15   0.0  0.11719   \n",
              "2    8.3  23.9  43.5  23.9   8.7   1   1        1   4  50.0  0.07407   \n",
              "3    4.1  26.7  50.3  13.5   9.4  14   9        3  46  60.9  0.11735   \n",
              "4   11.0  34.6  37.3  16.1  12.0   0   0        0  44   0.0  0.11671   \n",
              "5   14.1  30.6  40.2  19.5   9.6   1   1        1  33  50.0  0.07500   \n",
              "6   18.9  30.0  51.5  14.5   4.0   0   4        0  19   0.0  0.07280   \n",
              "7   22.0  11.0  68.8  14.0   6.3  17   2        2  46  89.5  0.12813   \n",
              "8    6.9  25.0  50.0  16.4   8.6   2   1        0  16  66.7  0.10596   \n",
              "9   10.5  24.0  48.4  20.7   6.8   7   1        1  90  87.5  0.14308   \n",
              "10  11.1  24.3  48.6  18.9   8.1   0   0        0   7   0.0  0.11111   \n",
              "11   6.5  40.5  36.3  17.6   5.6   2   1        1  79  66.7  0.12135   \n",
              "\n",
              "       D_BPF   PA%  D_MLVr  D_PMLVr  D_RPMLVr  D_VORPr  D_MLV  D_PMLV  \\\n",
              "0    99.7129   4.7  -0.080   -0.026   0.05891    0.059   -5.4    -1.7   \n",
              "1   100.7640   2.0  -0.031    0.033   0.10619    0.106   -0.9     1.0   \n",
              "2    98.7685   0.8   0.131    0.079   0.20218    0.178    1.6     1.0   \n",
              "3   100.4130   6.3  -0.308   -0.309  -0.19511   -0.208  -28.4   -28.6   \n",
              "4    99.8509   6.1  -0.085   -0.037   0.05176    0.052   -7.5    -3.3   \n",
              "5    99.9132   7.2   0.008   -0.051   0.08458    0.082    0.9    -5.3   \n",
              "6   102.5070   4.1  -0.128   -0.072   0.01260   -0.027   -7.7    -4.3   \n",
              "7    98.0535   5.6  -0.108   -0.114   0.00496    0.053   -8.9    -9.4   \n",
              "8    98.7073   2.4  -0.359   -0.347  -0.27353   -0.274  -12.4   -12.0   \n",
              "9   101.3860   9.9   0.056    0.047   0.16867    0.179    8.0     6.9   \n",
              "10  100.1330   1.0  -0.485   -0.480  -0.40359   -0.404   -7.2    -7.1   \n",
              "11  101.0960  10.5   0.181    0.117   0.24590    0.246   27.8    18.0   \n",
              "\n",
              "     D_RPMLV  D_VORP  D_NETDP  D_EqA  D_EqR  D_RAR  D_RAP  D_RARP  D_OUTS_EQ  \\\n",
              "0    3.99528     4.0     0.47  0.256   31.7    7.3    1.5    10.2        192   \n",
              "1    3.08509     3.1     0.42  0.247   13.2    2.2   -1.1     2.8         87   \n",
              "2    2.49187     2.2    -0.30  0.285    7.4    3.1    0.8     2.4         34   \n",
              "3  -18.02090   -19.2    -5.02  0.205   29.3   -9.9  -26.2   -12.1        309   \n",
              "4    4.59556     4.6     0.11  0.247   40.5    6.7   -1.1    11.0        266   \n",
              "5    8.82995     8.5     2.54  0.261   51.1   13.7   -6.2     7.2        295   \n",
              "6    0.75954    -1.6     4.25  0.232   24.7    0.6   -4.8     3.8        190   \n",
              "7    0.40640     4.3     6.60  0.261   40.9   11.0   -0.3    10.5        236   \n",
              "8   -9.42690    -9.4    -1.14  0.190    9.0   -5.5  -13.8    -8.6        114   \n",
              "9   24.43280    25.9    -0.42  0.272   79.2   27.0    8.3    27.0        411   \n",
              "10  -5.94996    -5.9     0.02  0.167    2.7   -3.3   -6.7    -4.5         47   \n",
              "11  37.77460    37.8    -4.60  0.304  102.0   51.2   24.7    42.9        401   \n",
              "\n",
              "    PA_ROB   R1   R2  R3  R1_BI  R2_BI  R3_BI  ROB  OBI  R1BI%  R2BI%  R3BI%  \\\n",
              "0      134   89   75  39      2      9     13  203   24    2.2   12.0   33.3   \n",
              "1       73   52   37  18      1      2      6  107    9    1.9    5.4   33.3   \n",
              "2       24   16   10   7      0      4      5   33    9    0.0   40.0   71.4   \n",
              "3      153  114   67  37      3      6     15  218   24    2.6    9.0   40.5   \n",
              "4      190  147   76  52     10     11     17  275   38    6.8   14.5   32.7   \n",
              "5      198  145   92  50      9     14     19  287   42    6.2   15.2   38.0   \n",
              "6      123   84   59  27      6      9     10  170   25    7.1   15.3   37.0   \n",
              "7      158   99   84  43      1      5     19  226   25    1.0    6.0   44.2   \n",
              "8       64   43   31  19      0      2      7   93    9    0.0    6.5   36.8   \n",
              "9      281  189  119  66      8     14     28  374   50    4.2   11.8   42.4   \n",
              "10      30   20    8   8      1      0      2   36    3    5.0    0.0   25.0   \n",
              "11     283  188  143  77     17     20     23  408   60    9.0   14.0   29.9   \n",
              "\n",
              "    OBI%  A-Rod_Factor  Score_Impact_Ratio  On_Base_%  On_Base_Presence  \\\n",
              "0   11.8           786            0.104167   0.336806          0.298969   \n",
              "1    8.4           338            0.093750   0.320312          0.365854   \n",
              "2   27.3           144            0.166667   0.388889          0.190476   \n",
              "3   11.0           970            0.086735   0.234694          0.500000   \n",
              "4   13.8          1059            0.129973   0.294430          0.396396   \n",
              "5   14.6          1240            0.118182   0.331818          0.226027   \n",
              "6   14.7           699            0.118774   0.287356          0.253333   \n",
              "7   11.1           881            0.077994   0.348189          0.368000   \n",
              "8    9.7           327            0.066225   0.251656          0.421053   \n",
              "9   13.4          1674            0.092210   0.348172          0.410959   \n",
              "10   8.3           137            0.063492   0.253968          0.437500   \n",
              "11  14.7          2312            0.153610   0.385561          0.314741   \n",
              "\n",
              "    Long_Ball_Ratio  Xtra_Base_Ratio  Fan_Favorite_Ratio  Team-Contribution  \\\n",
              "0          0.103448         0.310345            0.097917         114.374612   \n",
              "1          0.085714         0.171429            0.046875          22.860048   \n",
              "2          0.000000         0.117647            0.000000           7.095112   \n",
              "3          0.133333         0.386667            0.160714         111.836225   \n",
              "4          0.126437         0.390805            0.177984         341.984734   \n",
              "5          0.086957         0.278261            0.163636         189.785757   \n",
              "6          0.103448         0.396552            0.094253          49.850731   \n",
              "7          0.041096         0.150685            0.046797         171.726359   \n",
              "8          0.034483         0.241379            0.015894           7.833809   \n",
              "9          0.044944         0.252809            0.125914         944.119346   \n",
              "10         0.142857         0.285714            0.015873           1.206505   \n",
              "11         0.327869         0.516393            0.645161        2488.340118   \n",
              "\n",
              "    Team-Contribution-Real  Overall_Impact  Overall_Impact_Ratio  \\\n",
              "0                 0.118664       82.684092              0.558481   \n",
              "1                 0.023717       41.385037              0.279531   \n",
              "2                 0.007361       19.685500              0.132964   \n",
              "3                 0.116031      112.070429              0.756968   \n",
              "4                 0.354811      134.474100              0.908292   \n",
              "5                 0.196904      154.078300              1.040706   \n",
              "6                 0.051720       86.883010              0.586842   \n",
              "7                 0.178167       83.391949              0.563262   \n",
              "8                 0.008128       33.666272              0.227395   \n",
              "9                 0.979530      210.086052              1.419005   \n",
              "10                0.001252       10.550100              0.071260   \n",
              "11                2.581668      255.591200              1.726365   \n",
              "\n",
              "    Team_Impact_Ratio  \n",
              "0            0.347222  \n",
              "1            0.257812  \n",
              "2            0.277778  \n",
              "3            0.362245  \n",
              "4            0.273210  \n",
              "5            0.318182  \n",
              "6            0.241379  \n",
              "7            0.403900  \n",
              "8            0.185430  \n",
              "9            0.394277  \n",
              "10           0.031746  \n",
              "11           0.448541  "
            ]
          },
          "metadata": {
            "tags": []
          },
          "execution_count": 166
        }
      ]
    },
    {
      "cell_type": "code",
      "metadata": {
        "id": "edt43vfrdgXA",
        "colab_type": "code",
        "colab": {}
      },
      "source": [
        "df1 = df.copy()"
      ],
      "execution_count": 0,
      "outputs": []
    },
    {
      "cell_type": "code",
      "metadata": {
        "id": "Bk7H0kflGTSI",
        "colab_type": "code",
        "colab": {}
      },
      "source": [
        "# Continue to clean and explore your data.\n",
        "#For the evaluation metric you chose, what score would you get just by guessing?\n",
        "#Can you make a fast, first model that beats guessing?"
      ],
      "execution_count": 0,
      "outputs": []
    },
    {
      "cell_type": "code",
      "metadata": {
        "id": "c7zKrFj4GqEm",
        "colab_type": "code",
        "colab": {}
      },
      "source": [
        "#mean abs error of salaries versus average salaries to find baseline error"
      ],
      "execution_count": 0,
      "outputs": []
    },
    {
      "cell_type": "code",
      "metadata": {
        "id": "TLQiUg-OG13C",
        "colab_type": "code",
        "outputId": "f7845616-06c0-404d-89b2-0db8efb05bdc",
        "colab": {
          "base_uri": "https://localhost:8080/",
          "height": 35
        }
      },
      "source": [
        "guess = df1['SALARY'].mean()\n",
        "guess\n"
      ],
      "execution_count": 9,
      "outputs": [
        {
          "output_type": "execute_result",
          "data": {
            "text/plain": [
              "4349423.148367953"
            ]
          },
          "metadata": {
            "tags": []
          },
          "execution_count": 9
        }
      ]
    },
    {
      "cell_type": "code",
      "metadata": {
        "id": "-F-6xQhUHZxs",
        "colab_type": "code",
        "colab": {}
      },
      "source": [
        "errors = guess - df1['SALARY']"
      ],
      "execution_count": 0,
      "outputs": []
    },
    {
      "cell_type": "code",
      "metadata": {
        "id": "O5bw9JV5HZ0Z",
        "colab_type": "code",
        "outputId": "8341187d-9b3d-49e1-b3bc-4d90969efc1b",
        "colab": {
          "base_uri": "https://localhost:8080/",
          "height": 54
        }
      },
      "source": [
        "Baseline_MAE = errors.abs().mean()\n",
        "\n",
        "print(f'If we just guessed every salary for ${guess:,.0f},')\n",
        "print(f'we would be off by ${Baseline_MAE:,.0f} on average.')"
      ],
      "execution_count": 11,
      "outputs": [
        {
          "output_type": "stream",
          "text": [
            "If we just guessed every salary for $4,349,423,\n",
            "we would be off by $3,802,791 on average.\n"
          ],
          "name": "stdout"
        }
      ]
    },
    {
      "cell_type": "code",
      "metadata": {
        "id": "E5iycX9vH3ZF",
        "colab_type": "code",
        "colab": {}
      },
      "source": [
        "#Big Spread\n"
      ],
      "execution_count": 0,
      "outputs": []
    },
    {
      "cell_type": "code",
      "metadata": {
        "id": "MP7xcUlwH_e5",
        "colab_type": "code",
        "outputId": "244f0dc5-fb4e-4535-f293-5c36708aeea2",
        "colab": {
          "base_uri": "https://localhost:8080/",
          "height": 72
        }
      },
      "source": [
        "print('HUGE RANGE!!')\n",
        "print(df1['SALARY'].max())\n",
        "df1['SALARY'].min()\n",
        "#League Minimum was 390,000 at the time"
      ],
      "execution_count": 12,
      "outputs": [
        {
          "output_type": "stream",
          "text": [
            "HUGE RANGE!!\n",
            "28000000\n"
          ],
          "name": "stdout"
        },
        {
          "output_type": "execute_result",
          "data": {
            "text/plain": [
              "400000"
            ]
          },
          "metadata": {
            "tags": []
          },
          "execution_count": 12
        }
      ]
    },
    {
      "cell_type": "code",
      "metadata": {
        "id": "dIV0iBE6knf4",
        "colab_type": "code",
        "colab": {}
      },
      "source": [
        "df['A-Rod_Factor'] = df['PA'] + 3*df['RBI'] + 5*df['HR'] + 3*df['TB'] + 3*df['BB']"
      ],
      "execution_count": 0,
      "outputs": []
    },
    {
      "cell_type": "code",
      "metadata": {
        "id": "oSi7cvEGpkCe",
        "colab_type": "code",
        "colab": {}
      },
      "source": [
        "df['Score_Impact_Ratio'] = df['RBI'] / df['PA']\n",
        "df['On_Base_%'] = df['TOB'] / df['PA']\n",
        "df['On_Base_Presence'] = df['R'] / df['TOB']\n",
        "df['Long_Ball_Ratio'] = df['HR'] / df['H']\n",
        "df['Xtra_Base_Ratio'] = (df['2B']+df['3B']+df['HR'])/ df['H']\n",
        "df['Fan_Favorite_Ratio'] = (df['HR']/df['PA']) * df['PA%']\n",
        "# New performance feature\n",
        "df['Team-Contribution']=  2*df['RBIR'] * 4*df['RBI'] * 2*df['RUNR'] * 3*df['R'] * df['OBP'] * 3*df['D_EqA'] \n",
        "df['Team-Contribution-Real'] =  df['Team-Contribution'] / df['Team-Contribution'].mean()\n",
        "df['Overall_Impact'] = .3*df['D_EqA'] + .7*(df['TB']+df['RBI']+df['SH']/df['PA'])\n",
        "df['Overall_Impact_Ratio']= df['Overall_Impact'] / df['Overall_Impact'].mean()"
      ],
      "execution_count": 0,
      "outputs": []
    },
    {
      "cell_type": "code",
      "metadata": {
        "id": "el57Z7uhpnZ0",
        "colab_type": "code",
        "colab": {}
      },
      "source": [
        "df['Team_Impact_Ratio'] = (df['1B']+ 2*df['2B'] + 3*df['3B'] + \n",
        "                               6*df['HR'] + df['BB'] + 2*df['SH'] \n",
        "                               - 2*df['GIDP'] - df['SO'] + 3*df['SB']\n",
        "                               -3*df['PICKOFF']) / df['PA']\n"
      ],
      "execution_count": 0,
      "outputs": []
    },
    {
      "cell_type": "code",
      "metadata": {
        "id": "L5OXEikJgrDm",
        "colab_type": "code",
        "colab": {
          "base_uri": "https://localhost:8080/",
          "height": 377
        },
        "outputId": "fcaf9b76-c33b-415f-b3d2-f9ed50999966"
      },
      "source": [
        "df.head()"
      ],
      "execution_count": 16,
      "outputs": [
        {
          "output_type": "execute_result",
          "data": {
            "text/html": [
              "<div>\n",
              "<style scoped>\n",
              "    .dataframe tbody tr th:only-of-type {\n",
              "        vertical-align: middle;\n",
              "    }\n",
              "\n",
              "    .dataframe tbody tr th {\n",
              "        vertical-align: top;\n",
              "    }\n",
              "\n",
              "    .dataframe thead th {\n",
              "        text-align: right;\n",
              "    }\n",
              "</style>\n",
              "<table border=\"1\" class=\"dataframe\">\n",
              "  <thead>\n",
              "    <tr style=\"text-align: right;\">\n",
              "      <th></th>\n",
              "      <th>PLAYER</th>\n",
              "      <th>Record_ID#</th>\n",
              "      <th>SALARY</th>\n",
              "      <th>ROOKIE</th>\n",
              "      <th>POS</th>\n",
              "      <th>G</th>\n",
              "      <th>PA</th>\n",
              "      <th>AB</th>\n",
              "      <th>H</th>\n",
              "      <th>1B</th>\n",
              "      <th>2B</th>\n",
              "      <th>3B</th>\n",
              "      <th>HR</th>\n",
              "      <th>TB</th>\n",
              "      <th>BB</th>\n",
              "      <th>UBB</th>\n",
              "      <th>IBB</th>\n",
              "      <th>HBP</th>\n",
              "      <th>SF</th>\n",
              "      <th>SH</th>\n",
              "      <th>ROE</th>\n",
              "      <th>RBI</th>\n",
              "      <th>LEADOFF_PA</th>\n",
              "      <th>DP</th>\n",
              "      <th>TP</th>\n",
              "      <th>WP</th>\n",
              "      <th>PB</th>\n",
              "      <th>END_GAME</th>\n",
              "      <th>SO</th>\n",
              "      <th>BK</th>\n",
              "      <th>INTERFERENCE</th>\n",
              "      <th>FC</th>\n",
              "      <th>TOB</th>\n",
              "      <th>OUT</th>\n",
              "      <th>SIT_DP</th>\n",
              "      <th>GIDP</th>\n",
              "      <th>PITCHES</th>\n",
              "      <th>BALLS</th>\n",
              "      <th>STRIKES</th>\n",
              "      <th>FB</th>\n",
              "      <th>...</th>\n",
              "      <th>D_MLVr</th>\n",
              "      <th>D_PMLVr</th>\n",
              "      <th>D_RPMLVr</th>\n",
              "      <th>D_VORPr</th>\n",
              "      <th>D_MLV</th>\n",
              "      <th>D_PMLV</th>\n",
              "      <th>D_RPMLV</th>\n",
              "      <th>D_VORP</th>\n",
              "      <th>D_NETDP</th>\n",
              "      <th>D_EqA</th>\n",
              "      <th>D_EqR</th>\n",
              "      <th>D_RAR</th>\n",
              "      <th>D_RAP</th>\n",
              "      <th>D_RARP</th>\n",
              "      <th>D_OUTS_EQ</th>\n",
              "      <th>PA_ROB</th>\n",
              "      <th>R1</th>\n",
              "      <th>R2</th>\n",
              "      <th>R3</th>\n",
              "      <th>R1_BI</th>\n",
              "      <th>R2_BI</th>\n",
              "      <th>R3_BI</th>\n",
              "      <th>ROB</th>\n",
              "      <th>OBI</th>\n",
              "      <th>R1BI%</th>\n",
              "      <th>R2BI%</th>\n",
              "      <th>R3BI%</th>\n",
              "      <th>OBI%</th>\n",
              "      <th>A-Rod_Factor</th>\n",
              "      <th>Score_Impact_Ratio</th>\n",
              "      <th>On_Base_%</th>\n",
              "      <th>On_Base_Presence</th>\n",
              "      <th>Long_Ball_Ratio</th>\n",
              "      <th>Xtra_Base_Ratio</th>\n",
              "      <th>Fan_Favorite_Ratio</th>\n",
              "      <th>Team-Contribution</th>\n",
              "      <th>Team-Contribution-Real</th>\n",
              "      <th>Overall_Impact</th>\n",
              "      <th>Overall_Impact_Ratio</th>\n",
              "      <th>Team_Impact_Ratio</th>\n",
              "    </tr>\n",
              "  </thead>\n",
              "  <tbody>\n",
              "    <tr>\n",
              "      <th>0</th>\n",
              "      <td>Gregg Zaun</td>\n",
              "      <td>1</td>\n",
              "      <td>3750000</td>\n",
              "      <td>0</td>\n",
              "      <td>2</td>\n",
              "      <td>85</td>\n",
              "      <td>288</td>\n",
              "      <td>245</td>\n",
              "      <td>58</td>\n",
              "      <td>40</td>\n",
              "      <td>12</td>\n",
              "      <td>0</td>\n",
              "      <td>6</td>\n",
              "      <td>88</td>\n",
              "      <td>38</td>\n",
              "      <td>37</td>\n",
              "      <td>1</td>\n",
              "      <td>1</td>\n",
              "      <td>1</td>\n",
              "      <td>3</td>\n",
              "      <td>4</td>\n",
              "      <td>30</td>\n",
              "      <td>63</td>\n",
              "      <td>7</td>\n",
              "      <td>0</td>\n",
              "      <td>1</td>\n",
              "      <td>2</td>\n",
              "      <td>7</td>\n",
              "      <td>38</td>\n",
              "      <td>0</td>\n",
              "      <td>0</td>\n",
              "      <td>0</td>\n",
              "      <td>97</td>\n",
              "      <td>187</td>\n",
              "      <td>51</td>\n",
              "      <td>6</td>\n",
              "      <td>1154</td>\n",
              "      <td>462</td>\n",
              "      <td>692</td>\n",
              "      <td>55</td>\n",
              "      <td>...</td>\n",
              "      <td>-0.080</td>\n",
              "      <td>-0.026</td>\n",
              "      <td>0.05891</td>\n",
              "      <td>0.059</td>\n",
              "      <td>-5.4</td>\n",
              "      <td>-1.7</td>\n",
              "      <td>3.99528</td>\n",
              "      <td>4.0</td>\n",
              "      <td>0.47</td>\n",
              "      <td>0.256</td>\n",
              "      <td>31.7</td>\n",
              "      <td>7.3</td>\n",
              "      <td>1.5</td>\n",
              "      <td>10.2</td>\n",
              "      <td>192</td>\n",
              "      <td>134</td>\n",
              "      <td>89</td>\n",
              "      <td>75</td>\n",
              "      <td>39</td>\n",
              "      <td>2</td>\n",
              "      <td>9</td>\n",
              "      <td>13</td>\n",
              "      <td>203</td>\n",
              "      <td>24</td>\n",
              "      <td>2.2</td>\n",
              "      <td>12.0</td>\n",
              "      <td>33.3</td>\n",
              "      <td>11.8</td>\n",
              "      <td>786</td>\n",
              "      <td>0.104167</td>\n",
              "      <td>0.336806</td>\n",
              "      <td>0.298969</td>\n",
              "      <td>0.103448</td>\n",
              "      <td>0.310345</td>\n",
              "      <td>0.097917</td>\n",
              "      <td>114.374612</td>\n",
              "      <td>0.118664</td>\n",
              "      <td>82.684092</td>\n",
              "      <td>0.558481</td>\n",
              "      <td>0.347222</td>\n",
              "    </tr>\n",
              "    <tr>\n",
              "      <th>1</th>\n",
              "      <td>Henry Blanco</td>\n",
              "      <td>2</td>\n",
              "      <td>3175000</td>\n",
              "      <td>0</td>\n",
              "      <td>2</td>\n",
              "      <td>54</td>\n",
              "      <td>128</td>\n",
              "      <td>120</td>\n",
              "      <td>35</td>\n",
              "      <td>29</td>\n",
              "      <td>3</td>\n",
              "      <td>0</td>\n",
              "      <td>3</td>\n",
              "      <td>47</td>\n",
              "      <td>6</td>\n",
              "      <td>5</td>\n",
              "      <td>1</td>\n",
              "      <td>0</td>\n",
              "      <td>0</td>\n",
              "      <td>2</td>\n",
              "      <td>0</td>\n",
              "      <td>12</td>\n",
              "      <td>27</td>\n",
              "      <td>4</td>\n",
              "      <td>0</td>\n",
              "      <td>0</td>\n",
              "      <td>0</td>\n",
              "      <td>4</td>\n",
              "      <td>22</td>\n",
              "      <td>0</td>\n",
              "      <td>0</td>\n",
              "      <td>0</td>\n",
              "      <td>41</td>\n",
              "      <td>87</td>\n",
              "      <td>33</td>\n",
              "      <td>4</td>\n",
              "      <td>447</td>\n",
              "      <td>149</td>\n",
              "      <td>298</td>\n",
              "      <td>33</td>\n",
              "      <td>...</td>\n",
              "      <td>-0.031</td>\n",
              "      <td>0.033</td>\n",
              "      <td>0.10619</td>\n",
              "      <td>0.106</td>\n",
              "      <td>-0.9</td>\n",
              "      <td>1.0</td>\n",
              "      <td>3.08509</td>\n",
              "      <td>3.1</td>\n",
              "      <td>0.42</td>\n",
              "      <td>0.247</td>\n",
              "      <td>13.2</td>\n",
              "      <td>2.2</td>\n",
              "      <td>-1.1</td>\n",
              "      <td>2.8</td>\n",
              "      <td>87</td>\n",
              "      <td>73</td>\n",
              "      <td>52</td>\n",
              "      <td>37</td>\n",
              "      <td>18</td>\n",
              "      <td>1</td>\n",
              "      <td>2</td>\n",
              "      <td>6</td>\n",
              "      <td>107</td>\n",
              "      <td>9</td>\n",
              "      <td>1.9</td>\n",
              "      <td>5.4</td>\n",
              "      <td>33.3</td>\n",
              "      <td>8.4</td>\n",
              "      <td>338</td>\n",
              "      <td>0.093750</td>\n",
              "      <td>0.320312</td>\n",
              "      <td>0.365854</td>\n",
              "      <td>0.085714</td>\n",
              "      <td>0.171429</td>\n",
              "      <td>0.046875</td>\n",
              "      <td>22.860048</td>\n",
              "      <td>0.023717</td>\n",
              "      <td>41.385037</td>\n",
              "      <td>0.279531</td>\n",
              "      <td>0.257812</td>\n",
              "    </tr>\n",
              "    <tr>\n",
              "      <th>2</th>\n",
              "      <td>Moises Alou</td>\n",
              "      <td>7</td>\n",
              "      <td>7500000</td>\n",
              "      <td>0</td>\n",
              "      <td>7</td>\n",
              "      <td>15</td>\n",
              "      <td>54</td>\n",
              "      <td>49</td>\n",
              "      <td>17</td>\n",
              "      <td>15</td>\n",
              "      <td>2</td>\n",
              "      <td>0</td>\n",
              "      <td>0</td>\n",
              "      <td>19</td>\n",
              "      <td>2</td>\n",
              "      <td>2</td>\n",
              "      <td>0</td>\n",
              "      <td>2</td>\n",
              "      <td>1</td>\n",
              "      <td>0</td>\n",
              "      <td>2</td>\n",
              "      <td>9</td>\n",
              "      <td>12</td>\n",
              "      <td>1</td>\n",
              "      <td>0</td>\n",
              "      <td>0</td>\n",
              "      <td>0</td>\n",
              "      <td>0</td>\n",
              "      <td>4</td>\n",
              "      <td>0</td>\n",
              "      <td>0</td>\n",
              "      <td>0</td>\n",
              "      <td>21</td>\n",
              "      <td>31</td>\n",
              "      <td>12</td>\n",
              "      <td>1</td>\n",
              "      <td>152</td>\n",
              "      <td>58</td>\n",
              "      <td>94</td>\n",
              "      <td>11</td>\n",
              "      <td>...</td>\n",
              "      <td>0.131</td>\n",
              "      <td>0.079</td>\n",
              "      <td>0.20218</td>\n",
              "      <td>0.178</td>\n",
              "      <td>1.6</td>\n",
              "      <td>1.0</td>\n",
              "      <td>2.49187</td>\n",
              "      <td>2.2</td>\n",
              "      <td>-0.30</td>\n",
              "      <td>0.285</td>\n",
              "      <td>7.4</td>\n",
              "      <td>3.1</td>\n",
              "      <td>0.8</td>\n",
              "      <td>2.4</td>\n",
              "      <td>34</td>\n",
              "      <td>24</td>\n",
              "      <td>16</td>\n",
              "      <td>10</td>\n",
              "      <td>7</td>\n",
              "      <td>0</td>\n",
              "      <td>4</td>\n",
              "      <td>5</td>\n",
              "      <td>33</td>\n",
              "      <td>9</td>\n",
              "      <td>0.0</td>\n",
              "      <td>40.0</td>\n",
              "      <td>71.4</td>\n",
              "      <td>27.3</td>\n",
              "      <td>144</td>\n",
              "      <td>0.166667</td>\n",
              "      <td>0.388889</td>\n",
              "      <td>0.190476</td>\n",
              "      <td>0.000000</td>\n",
              "      <td>0.117647</td>\n",
              "      <td>0.000000</td>\n",
              "      <td>7.095112</td>\n",
              "      <td>0.007361</td>\n",
              "      <td>19.685500</td>\n",
              "      <td>0.132964</td>\n",
              "      <td>0.277778</td>\n",
              "    </tr>\n",
              "    <tr>\n",
              "      <th>3</th>\n",
              "      <td>Corey Patterson</td>\n",
              "      <td>9</td>\n",
              "      <td>3000000</td>\n",
              "      <td>0</td>\n",
              "      <td>8</td>\n",
              "      <td>123</td>\n",
              "      <td>392</td>\n",
              "      <td>366</td>\n",
              "      <td>75</td>\n",
              "      <td>46</td>\n",
              "      <td>17</td>\n",
              "      <td>2</td>\n",
              "      <td>10</td>\n",
              "      <td>126</td>\n",
              "      <td>16</td>\n",
              "      <td>16</td>\n",
              "      <td>0</td>\n",
              "      <td>1</td>\n",
              "      <td>4</td>\n",
              "      <td>5</td>\n",
              "      <td>7</td>\n",
              "      <td>34</td>\n",
              "      <td>120</td>\n",
              "      <td>5</td>\n",
              "      <td>0</td>\n",
              "      <td>2</td>\n",
              "      <td>1</td>\n",
              "      <td>8</td>\n",
              "      <td>57</td>\n",
              "      <td>0</td>\n",
              "      <td>0</td>\n",
              "      <td>3</td>\n",
              "      <td>92</td>\n",
              "      <td>290</td>\n",
              "      <td>74</td>\n",
              "      <td>3</td>\n",
              "      <td>1299</td>\n",
              "      <td>414</td>\n",
              "      <td>885</td>\n",
              "      <td>85</td>\n",
              "      <td>...</td>\n",
              "      <td>-0.308</td>\n",
              "      <td>-0.309</td>\n",
              "      <td>-0.19511</td>\n",
              "      <td>-0.208</td>\n",
              "      <td>-28.4</td>\n",
              "      <td>-28.6</td>\n",
              "      <td>-18.02090</td>\n",
              "      <td>-19.2</td>\n",
              "      <td>-5.02</td>\n",
              "      <td>0.205</td>\n",
              "      <td>29.3</td>\n",
              "      <td>-9.9</td>\n",
              "      <td>-26.2</td>\n",
              "      <td>-12.1</td>\n",
              "      <td>309</td>\n",
              "      <td>153</td>\n",
              "      <td>114</td>\n",
              "      <td>67</td>\n",
              "      <td>37</td>\n",
              "      <td>3</td>\n",
              "      <td>6</td>\n",
              "      <td>15</td>\n",
              "      <td>218</td>\n",
              "      <td>24</td>\n",
              "      <td>2.6</td>\n",
              "      <td>9.0</td>\n",
              "      <td>40.5</td>\n",
              "      <td>11.0</td>\n",
              "      <td>970</td>\n",
              "      <td>0.086735</td>\n",
              "      <td>0.234694</td>\n",
              "      <td>0.500000</td>\n",
              "      <td>0.133333</td>\n",
              "      <td>0.386667</td>\n",
              "      <td>0.160714</td>\n",
              "      <td>111.836225</td>\n",
              "      <td>0.116031</td>\n",
              "      <td>112.070429</td>\n",
              "      <td>0.756968</td>\n",
              "      <td>0.362245</td>\n",
              "    </tr>\n",
              "    <tr>\n",
              "      <th>4</th>\n",
              "      <td>Rod Barajas</td>\n",
              "      <td>10</td>\n",
              "      <td>700000</td>\n",
              "      <td>0</td>\n",
              "      <td>2</td>\n",
              "      <td>100</td>\n",
              "      <td>377</td>\n",
              "      <td>349</td>\n",
              "      <td>87</td>\n",
              "      <td>53</td>\n",
              "      <td>23</td>\n",
              "      <td>0</td>\n",
              "      <td>11</td>\n",
              "      <td>143</td>\n",
              "      <td>17</td>\n",
              "      <td>17</td>\n",
              "      <td>0</td>\n",
              "      <td>7</td>\n",
              "      <td>4</td>\n",
              "      <td>0</td>\n",
              "      <td>2</td>\n",
              "      <td>49</td>\n",
              "      <td>70</td>\n",
              "      <td>10</td>\n",
              "      <td>0</td>\n",
              "      <td>3</td>\n",
              "      <td>2</td>\n",
              "      <td>2</td>\n",
              "      <td>61</td>\n",
              "      <td>1</td>\n",
              "      <td>0</td>\n",
              "      <td>0</td>\n",
              "      <td>111</td>\n",
              "      <td>264</td>\n",
              "      <td>82</td>\n",
              "      <td>9</td>\n",
              "      <td>1458</td>\n",
              "      <td>465</td>\n",
              "      <td>993</td>\n",
              "      <td>101</td>\n",
              "      <td>...</td>\n",
              "      <td>-0.085</td>\n",
              "      <td>-0.037</td>\n",
              "      <td>0.05176</td>\n",
              "      <td>0.052</td>\n",
              "      <td>-7.5</td>\n",
              "      <td>-3.3</td>\n",
              "      <td>4.59556</td>\n",
              "      <td>4.6</td>\n",
              "      <td>0.11</td>\n",
              "      <td>0.247</td>\n",
              "      <td>40.5</td>\n",
              "      <td>6.7</td>\n",
              "      <td>-1.1</td>\n",
              "      <td>11.0</td>\n",
              "      <td>266</td>\n",
              "      <td>190</td>\n",
              "      <td>147</td>\n",
              "      <td>76</td>\n",
              "      <td>52</td>\n",
              "      <td>10</td>\n",
              "      <td>11</td>\n",
              "      <td>17</td>\n",
              "      <td>275</td>\n",
              "      <td>38</td>\n",
              "      <td>6.8</td>\n",
              "      <td>14.5</td>\n",
              "      <td>32.7</td>\n",
              "      <td>13.8</td>\n",
              "      <td>1059</td>\n",
              "      <td>0.129973</td>\n",
              "      <td>0.294430</td>\n",
              "      <td>0.396396</td>\n",
              "      <td>0.126437</td>\n",
              "      <td>0.390805</td>\n",
              "      <td>0.177984</td>\n",
              "      <td>341.984734</td>\n",
              "      <td>0.354811</td>\n",
              "      <td>134.474100</td>\n",
              "      <td>0.908292</td>\n",
              "      <td>0.273210</td>\n",
              "    </tr>\n",
              "  </tbody>\n",
              "</table>\n",
              "<p>5 rows × 146 columns</p>\n",
              "</div>"
            ],
            "text/plain": [
              "            PLAYER  Record_ID#  ...  Overall_Impact_Ratio  Team_Impact_Ratio\n",
              "0       Gregg Zaun           1  ...              0.558481           0.347222\n",
              "1     Henry Blanco           2  ...              0.279531           0.257812\n",
              "2      Moises Alou           7  ...              0.132964           0.277778\n",
              "3  Corey Patterson           9  ...              0.756968           0.362245\n",
              "4      Rod Barajas          10  ...              0.908292           0.273210\n",
              "\n",
              "[5 rows x 146 columns]"
            ]
          },
          "metadata": {
            "tags": []
          },
          "execution_count": 16
        }
      ]
    },
    {
      "cell_type": "code",
      "metadata": {
        "id": "d9LWOaMQLVHW",
        "colab_type": "code",
        "colab": {}
      },
      "source": [
        "#df.head()\n",
        "#df['SALARY2'] = (df['SALARY'] - df['SALARY'].min()) / (df['SALARY'].max() - df['SALARY'].min())\n",
        "#df.head()"
      ],
      "execution_count": 0,
      "outputs": []
    },
    {
      "cell_type": "code",
      "metadata": {
        "id": "-Zv4etjVR2SH",
        "colab_type": "code",
        "colab": {}
      },
      "source": [
        "#Let's do a train /test/split\n",
        "\n",
        "train = df.copy()\n",
        "train, val = train_test_split(train, train_size=0.80, test_size=0.20, \n",
        "                              random_state=25)\n",
        "\n"
      ],
      "execution_count": 0,
      "outputs": []
    },
    {
      "cell_type": "code",
      "metadata": {
        "id": "O1ukU2ULR2Ux",
        "colab_type": "code",
        "outputId": "de050c08-ec2e-4e76-96cc-3f2acb582f83",
        "colab": {
          "base_uri": "https://localhost:8080/",
          "height": 35
        }
      },
      "source": [
        "train.shape, val.shape"
      ],
      "execution_count": 19,
      "outputs": [
        {
          "output_type": "execute_result",
          "data": {
            "text/plain": [
              "((269, 146), (68, 146))"
            ]
          },
          "metadata": {
            "tags": []
          },
          "execution_count": 19
        }
      ]
    },
    {
      "cell_type": "code",
      "metadata": {
        "id": "e434bueHXZmA",
        "colab_type": "code",
        "colab": {}
      },
      "source": [
        "from sklearn.linear_model import LinearRegression\n",
        "from sklearn.metrics import mean_absolute_error\n",
        "\n",
        "\n",
        "features = ['A-Rod_Factor']\n",
        "target = ['SALARY']\n",
        "X_train = train[features]\n",
        "y_train = train[target]\n",
        "X_val = val[features]\n",
        "y_val = val[target]"
      ],
      "execution_count": 0,
      "outputs": []
    },
    {
      "cell_type": "code",
      "metadata": {
        "id": "_3Jv7rtDaWlO",
        "colab_type": "code",
        "outputId": "5aaf9f1a-33b6-4ec4-c169-515d020275d9",
        "colab": {
          "base_uri": "https://localhost:8080/",
          "height": 35
        }
      },
      "source": [
        "model = LinearRegression()\n",
        "model.fit(X_train, y_train)\n",
        "y_pred = model.predict(X_val)\n",
        "mae = mean_absolute_error(y_val, y_pred)\n",
        "mae"
      ],
      "execution_count": 21,
      "outputs": [
        {
          "output_type": "execute_result",
          "data": {
            "text/plain": [
              "3570808.433712526"
            ]
          },
          "metadata": {
            "tags": []
          },
          "execution_count": 21
        }
      ]
    },
    {
      "cell_type": "code",
      "metadata": {
        "id": "D6EOJ6sAaWtu",
        "colab_type": "code",
        "outputId": "fcaff928-6b3c-47eb-ae99-ac435caa6f69",
        "colab": {
          "base_uri": "https://localhost:8080/",
          "height": 54
        }
      },
      "source": [
        "#Improved Model with only One created Feature, the A_ROD factor\n",
        "print(Baseline_MAE) \n",
        "mae "
      ],
      "execution_count": 22,
      "outputs": [
        {
          "output_type": "stream",
          "text": [
            "3802791.2914087446\n"
          ],
          "name": "stdout"
        },
        {
          "output_type": "execute_result",
          "data": {
            "text/plain": [
              "3570808.433712526"
            ]
          },
          "metadata": {
            "tags": []
          },
          "execution_count": 22
        }
      ]
    },
    {
      "cell_type": "code",
      "metadata": {
        "id": "J3JAeMUok406",
        "colab_type": "code",
        "outputId": "3335a8e0-d741-44a4-bb9a-4636e49263f1",
        "colab": {
          "base_uri": "https://localhost:8080/",
          "height": 365
        }
      },
      "source": [
        "import seaborn as sns\n",
        "sns.distplot(train['SALARY'])"
      ],
      "execution_count": 23,
      "outputs": [
        {
          "output_type": "stream",
          "text": [
            "/usr/local/lib/python3.6/dist-packages/statsmodels/tools/_testing.py:19: FutureWarning: pandas.util.testing is deprecated. Use the functions in the public API at pandas.testing instead.\n",
            "  import pandas.util.testing as tm\n"
          ],
          "name": "stderr"
        },
        {
          "output_type": "execute_result",
          "data": {
            "text/plain": [
              "<matplotlib.axes._subplots.AxesSubplot at 0x7f91847b0160>"
            ]
          },
          "metadata": {
            "tags": []
          },
          "execution_count": 23
        },
        {
          "output_type": "display_data",
          "data": {
            "image/png": "[encoded data removed]",
            "text/plain": [
              "<Figure size 432x288 with 1 Axes>"
            ]
          },
          "metadata": {
            "tags": [],
            "needs_background": "light"
          }
        }
      ]
    },
    {
      "cell_type": "code",
      "metadata": {
        "id": "Rl7DFosf9jLf",
        "colab_type": "code",
        "outputId": "2a33d29a-25f8-4009-e2ec-94bbdc6e0d6d",
        "colab": {
          "base_uri": "https://localhost:8080/",
          "height": 35
        }
      },
      "source": [
        "train.shape, val.shape"
      ],
      "execution_count": 24,
      "outputs": [
        {
          "output_type": "execute_result",
          "data": {
            "text/plain": [
              "((269, 146), (68, 146))"
            ]
          },
          "metadata": {
            "tags": []
          },
          "execution_count": 24
        }
      ]
    },
    {
      "cell_type": "code",
      "metadata": {
        "id": "zl1-6Bee9wmm",
        "colab_type": "code",
        "outputId": "64e1cb9c-2496-4851-94ed-f9f6ac6ee901",
        "colab": {
          "base_uri": "https://localhost:8080/",
          "height": 294
        }
      },
      "source": [
        "train1 = train[['SALARY',  'Team_Impact_Ratio', 'Team-Contribution-Real', 'Team-Contribution' , 'HR', 'AVG', 'RBI', 'R', 'PA', 'PLAYER', 'Overall_Impact', \n",
        "                'Overall_Impact_Ratio', 'A-Rod_Factor']]\n",
        "train1 = train1[train1['SALARY'] <= 500000]\n",
        "train1 = train1[train1['SALARY'] > 390000]\n",
        "print(train1.shape)\n",
        "train1.head()"
      ],
      "execution_count": 25,
      "outputs": [
        {
          "output_type": "stream",
          "text": [
            "(66, 13)\n"
          ],
          "name": "stdout"
        },
        {
          "output_type": "execute_result",
          "data": {
            "text/html": [
              "<div>\n",
              "<style scoped>\n",
              "    .dataframe tbody tr th:only-of-type {\n",
              "        vertical-align: middle;\n",
              "    }\n",
              "\n",
              "    .dataframe tbody tr th {\n",
              "        vertical-align: top;\n",
              "    }\n",
              "\n",
              "    .dataframe thead th {\n",
              "        text-align: right;\n",
              "    }\n",
              "</style>\n",
              "<table border=\"1\" class=\"dataframe\">\n",
              "  <thead>\n",
              "    <tr style=\"text-align: right;\">\n",
              "      <th></th>\n",
              "      <th>SALARY</th>\n",
              "      <th>Team_Impact_Ratio</th>\n",
              "      <th>Team-Contribution-Real</th>\n",
              "      <th>Team-Contribution</th>\n",
              "      <th>HR</th>\n",
              "      <th>AVG</th>\n",
              "      <th>RBI</th>\n",
              "      <th>R</th>\n",
              "      <th>PA</th>\n",
              "      <th>PLAYER</th>\n",
              "      <th>Overall_Impact</th>\n",
              "      <th>Overall_Impact_Ratio</th>\n",
              "      <th>A-Rod_Factor</th>\n",
              "    </tr>\n",
              "  </thead>\n",
              "  <tbody>\n",
              "    <tr>\n",
              "      <th>75</th>\n",
              "      <td>461200</td>\n",
              "      <td>0.298013</td>\n",
              "      <td>0.122256</td>\n",
              "      <td>117.836853</td>\n",
              "      <td>8</td>\n",
              "      <td>0.249</td>\n",
              "      <td>37</td>\n",
              "      <td>42</td>\n",
              "      <td>453</td>\n",
              "      <td>Melky Cabrera</td>\n",
              "      <td>124.675481</td>\n",
              "      <td>0.842108</td>\n",
              "      <td>1114</td>\n",
              "    </tr>\n",
              "    <tr>\n",
              "      <th>195</th>\n",
              "      <td>405500</td>\n",
              "      <td>0.034043</td>\n",
              "      <td>0.005675</td>\n",
              "      <td>5.469619</td>\n",
              "      <td>1</td>\n",
              "      <td>0.169</td>\n",
              "      <td>14</td>\n",
              "      <td>22</td>\n",
              "      <td>235</td>\n",
              "      <td>Tony Pena</td>\n",
              "      <td>42.741057</td>\n",
              "      <td>0.288690</td>\n",
              "      <td>441</td>\n",
              "    </tr>\n",
              "    <tr>\n",
              "      <th>40</th>\n",
              "      <td>406000</td>\n",
              "      <td>0.421613</td>\n",
              "      <td>1.669610</td>\n",
              "      <td>1609.253431</td>\n",
              "      <td>18</td>\n",
              "      <td>0.290</td>\n",
              "      <td>76</td>\n",
              "      <td>93</td>\n",
              "      <td>657</td>\n",
              "      <td>Matt Kemp</td>\n",
              "      <td>247.886265</td>\n",
              "      <td>1.674322</td>\n",
              "      <td>1947</td>\n",
              "    </tr>\n",
              "    <tr>\n",
              "      <th>315</th>\n",
              "      <td>480000</td>\n",
              "      <td>0.556619</td>\n",
              "      <td>1.315547</td>\n",
              "      <td>1267.989150</td>\n",
              "      <td>14</td>\n",
              "      <td>0.293</td>\n",
              "      <td>58</td>\n",
              "      <td>102</td>\n",
              "      <td>627</td>\n",
              "      <td>Shane Victorino</td>\n",
              "      <td>219.189882</td>\n",
              "      <td>1.480496</td>\n",
              "      <td>1771</td>\n",
              "    </tr>\n",
              "    <tr>\n",
              "      <th>335</th>\n",
              "      <td>400000</td>\n",
              "      <td>0.558875</td>\n",
              "      <td>5.328558</td>\n",
              "      <td>5135.928480</td>\n",
              "      <td>36</td>\n",
              "      <td>0.288</td>\n",
              "      <td>100</td>\n",
              "      <td>96</td>\n",
              "      <td>569</td>\n",
              "      <td>Carlos Quentin</td>\n",
              "      <td>261.895400</td>\n",
              "      <td>1.768946</td>\n",
              "      <td>2069</td>\n",
              "    </tr>\n",
              "  </tbody>\n",
              "</table>\n",
              "</div>"
            ],
            "text/plain": [
              "     SALARY  Team_Impact_Ratio  ...  Overall_Impact_Ratio  A-Rod_Factor\n",
              "75   461200           0.298013  ...              0.842108          1114\n",
              "195  405500           0.034043  ...              0.288690           441\n",
              "40   406000           0.421613  ...              1.674322          1947\n",
              "315  480000           0.556619  ...              1.480496          1771\n",
              "335  400000           0.558875  ...              1.768946          2069\n",
              "\n",
              "[5 rows x 13 columns]"
            ]
          },
          "metadata": {
            "tags": []
          },
          "execution_count": 25
        }
      ]
    },
    {
      "cell_type": "code",
      "metadata": {
        "id": "zlxys5YgQhUo",
        "colab_type": "code",
        "colab": {}
      },
      "source": [
        "#0-1 M, 1M-3M, 3M-6M, 6M-8M, 8M-12M, 12M-14M, 14M-17M, 17M"
      ],
      "execution_count": 0,
      "outputs": []
    },
    {
      "cell_type": "code",
      "metadata": {
        "id": "rILAtVwjN5ca",
        "colab_type": "code",
        "outputId": "a4627a85-a1f7-4e0d-8718-14dc632488b9",
        "colab": {
          "base_uri": "https://localhost:8080/",
          "height": 259
        }
      },
      "source": [
        "train2 = train[['SALARY',  'Team_Impact_Ratio', 'Team-Contribution-Real', 'Team-Contribution' , 'HR', 'AVG', 'RBI', 'R', 'PA', 'PLAYER',\n",
        "                'Overall_Impact', \n",
        "                'Overall_Impact_Ratio', 'A-Rod_Factor']]\n",
        "train2 = train2[train2['SALARY'] <= 1000000]\n",
        "train2 = train2[train2['SALARY'] > 500000]\n",
        "print(train2.shape)\n",
        "train2.head()"
      ],
      "execution_count": 27,
      "outputs": [
        {
          "output_type": "stream",
          "text": [
            "(28, 13)\n"
          ],
          "name": "stdout"
        },
        {
          "output_type": "execute_result",
          "data": {
            "text/html": [
              "<div>\n",
              "<style scoped>\n",
              "    .dataframe tbody tr th:only-of-type {\n",
              "        vertical-align: middle;\n",
              "    }\n",
              "\n",
              "    .dataframe tbody tr th {\n",
              "        vertical-align: top;\n",
              "    }\n",
              "\n",
              "    .dataframe thead th {\n",
              "        text-align: right;\n",
              "    }\n",
              "</style>\n",
              "<table border=\"1\" class=\"dataframe\">\n",
              "  <thead>\n",
              "    <tr style=\"text-align: right;\">\n",
              "      <th></th>\n",
              "      <th>SALARY</th>\n",
              "      <th>Team_Impact_Ratio</th>\n",
              "      <th>Team-Contribution-Real</th>\n",
              "      <th>Team-Contribution</th>\n",
              "      <th>HR</th>\n",
              "      <th>AVG</th>\n",
              "      <th>RBI</th>\n",
              "      <th>R</th>\n",
              "      <th>PA</th>\n",
              "      <th>PLAYER</th>\n",
              "      <th>Overall_Impact</th>\n",
              "      <th>Overall_Impact_Ratio</th>\n",
              "      <th>A-Rod_Factor</th>\n",
              "    </tr>\n",
              "  </thead>\n",
              "  <tbody>\n",
              "    <tr>\n",
              "      <th>208</th>\n",
              "      <td>950000</td>\n",
              "      <td>0.197080</td>\n",
              "      <td>0.017164</td>\n",
              "      <td>16.543092</td>\n",
              "      <td>0</td>\n",
              "      <td>0.287</td>\n",
              "      <td>12</td>\n",
              "      <td>14</td>\n",
              "      <td>137</td>\n",
              "      <td>Mike Redmond</td>\n",
              "      <td>38.571400</td>\n",
              "      <td>0.260527</td>\n",
              "      <td>317</td>\n",
              "    </tr>\n",
              "    <tr>\n",
              "      <th>105</th>\n",
              "      <td>600000</td>\n",
              "      <td>0.256303</td>\n",
              "      <td>0.052846</td>\n",
              "      <td>50.935668</td>\n",
              "      <td>2</td>\n",
              "      <td>0.217</td>\n",
              "      <td>15</td>\n",
              "      <td>37</td>\n",
              "      <td>238</td>\n",
              "      <td>Eric Bruntlett</td>\n",
              "      <td>54.671582</td>\n",
              "      <td>0.369274</td>\n",
              "      <td>545</td>\n",
              "    </tr>\n",
              "    <tr>\n",
              "      <th>188</th>\n",
              "      <td>650000</td>\n",
              "      <td>0.202198</td>\n",
              "      <td>0.142233</td>\n",
              "      <td>137.091127</td>\n",
              "      <td>6</td>\n",
              "      <td>0.246</td>\n",
              "      <td>37</td>\n",
              "      <td>46</td>\n",
              "      <td>455</td>\n",
              "      <td>Jose Castillo</td>\n",
              "      <td>137.969900</td>\n",
              "      <td>0.931904</td>\n",
              "      <td>1157</td>\n",
              "    </tr>\n",
              "    <tr>\n",
              "      <th>228</th>\n",
              "      <td>900000</td>\n",
              "      <td>0.406048</td>\n",
              "      <td>1.455686</td>\n",
              "      <td>1403.062579</td>\n",
              "      <td>25</td>\n",
              "      <td>0.264</td>\n",
              "      <td>71</td>\n",
              "      <td>65</td>\n",
              "      <td>463</td>\n",
              "      <td>Rick Ankiel</td>\n",
              "      <td>196.087300</td>\n",
              "      <td>1.324452</td>\n",
              "      <td>1554</td>\n",
              "    </tr>\n",
              "    <tr>\n",
              "      <th>200</th>\n",
              "      <td>750000</td>\n",
              "      <td>0.124260</td>\n",
              "      <td>0.094843</td>\n",
              "      <td>91.414072</td>\n",
              "      <td>6</td>\n",
              "      <td>0.217</td>\n",
              "      <td>35</td>\n",
              "      <td>30</td>\n",
              "      <td>338</td>\n",
              "      <td>Paul Bako</td>\n",
              "      <td>93.172213</td>\n",
              "      <td>0.629322</td>\n",
              "      <td>869</td>\n",
              "    </tr>\n",
              "  </tbody>\n",
              "</table>\n",
              "</div>"
            ],
            "text/plain": [
              "     SALARY  Team_Impact_Ratio  ...  Overall_Impact_Ratio  A-Rod_Factor\n",
              "208  950000           0.197080  ...              0.260527           317\n",
              "105  600000           0.256303  ...              0.369274           545\n",
              "188  650000           0.202198  ...              0.931904          1157\n",
              "228  900000           0.406048  ...              1.324452          1554\n",
              "200  750000           0.124260  ...              0.629322           869\n",
              "\n",
              "[5 rows x 13 columns]"
            ]
          },
          "metadata": {
            "tags": []
          },
          "execution_count": 27
        }
      ]
    },
    {
      "cell_type": "code",
      "metadata": {
        "id": "CqWR1gTVAm5U",
        "colab_type": "code",
        "outputId": "7723cf29-cdcc-4847-bc27-a59435ecba09",
        "colab": {
          "base_uri": "https://localhost:8080/",
          "height": 277
        }
      },
      "source": [
        "train3 = train[['SALARY', 'Team_Impact_Ratio', 'Team-Contribution-Real', 'Team-Contribution', 'HR', 'AVG', 'RBI', 'R', 'PA', 'PLAYER', \n",
        "                'Overall_Impact', \n",
        "                'Overall_Impact_Ratio', 'A-Rod_Factor']]\n",
        "train3 = train3[train3['SALARY'] <= 3000000]\n",
        "train3 = train3[train3['SALARY'] > 1000000]\n",
        "print(train3.shape)\n",
        "train3.head()  "
      ],
      "execution_count": 28,
      "outputs": [
        {
          "output_type": "stream",
          "text": [
            "(57, 13)\n"
          ],
          "name": "stdout"
        },
        {
          "output_type": "execute_result",
          "data": {
            "text/html": [
              "<div>\n",
              "<style scoped>\n",
              "    .dataframe tbody tr th:only-of-type {\n",
              "        vertical-align: middle;\n",
              "    }\n",
              "\n",
              "    .dataframe tbody tr th {\n",
              "        vertical-align: top;\n",
              "    }\n",
              "\n",
              "    .dataframe thead th {\n",
              "        text-align: right;\n",
              "    }\n",
              "</style>\n",
              "<table border=\"1\" class=\"dataframe\">\n",
              "  <thead>\n",
              "    <tr style=\"text-align: right;\">\n",
              "      <th></th>\n",
              "      <th>SALARY</th>\n",
              "      <th>Team_Impact_Ratio</th>\n",
              "      <th>Team-Contribution-Real</th>\n",
              "      <th>Team-Contribution</th>\n",
              "      <th>HR</th>\n",
              "      <th>AVG</th>\n",
              "      <th>RBI</th>\n",
              "      <th>R</th>\n",
              "      <th>PA</th>\n",
              "      <th>PLAYER</th>\n",
              "      <th>Overall_Impact</th>\n",
              "      <th>Overall_Impact_Ratio</th>\n",
              "      <th>A-Rod_Factor</th>\n",
              "    </tr>\n",
              "  </thead>\n",
              "  <tbody>\n",
              "    <tr>\n",
              "      <th>252</th>\n",
              "      <td>1850000</td>\n",
              "      <td>0.196721</td>\n",
              "      <td>0.000826</td>\n",
              "      <td>0.795874</td>\n",
              "      <td>0</td>\n",
              "      <td>0.173</td>\n",
              "      <td>7</td>\n",
              "      <td>3</td>\n",
              "      <td>61</td>\n",
              "      <td>Scott Hatteberg</td>\n",
              "      <td>13.353400</td>\n",
              "      <td>0.090194</td>\n",
              "      <td>139</td>\n",
              "    </tr>\n",
              "    <tr>\n",
              "      <th>297</th>\n",
              "      <td>2400000</td>\n",
              "      <td>0.355438</td>\n",
              "      <td>0.139433</td>\n",
              "      <td>134.392753</td>\n",
              "      <td>2</td>\n",
              "      <td>0.284</td>\n",
              "      <td>28</td>\n",
              "      <td>43</td>\n",
              "      <td>377</td>\n",
              "      <td>Nick Punto</td>\n",
              "      <td>109.989084</td>\n",
              "      <td>0.742910</td>\n",
              "      <td>954</td>\n",
              "    </tr>\n",
              "    <tr>\n",
              "      <th>78</th>\n",
              "      <td>2800000</td>\n",
              "      <td>0.271523</td>\n",
              "      <td>0.027495</td>\n",
              "      <td>26.500659</td>\n",
              "      <td>1</td>\n",
              "      <td>0.226</td>\n",
              "      <td>14</td>\n",
              "      <td>31</td>\n",
              "      <td>302</td>\n",
              "      <td>Craig Counsell</td>\n",
              "      <td>62.377618</td>\n",
              "      <td>0.421323</td>\n",
              "      <td>712</td>\n",
              "    </tr>\n",
              "    <tr>\n",
              "      <th>66</th>\n",
              "      <td>1275000</td>\n",
              "      <td>0.372881</td>\n",
              "      <td>0.076858</td>\n",
              "      <td>74.079632</td>\n",
              "      <td>8</td>\n",
              "      <td>0.182</td>\n",
              "      <td>21</td>\n",
              "      <td>23</td>\n",
              "      <td>177</td>\n",
              "      <td>Jonny Gomes</td>\n",
              "      <td>56.073500</td>\n",
              "      <td>0.378743</td>\n",
              "      <td>502</td>\n",
              "    </tr>\n",
              "    <tr>\n",
              "      <th>277</th>\n",
              "      <td>1750000</td>\n",
              "      <td>0.404658</td>\n",
              "      <td>1.405513</td>\n",
              "      <td>1354.703247</td>\n",
              "      <td>17</td>\n",
              "      <td>0.297</td>\n",
              "      <td>89</td>\n",
              "      <td>80</td>\n",
              "      <td>687</td>\n",
              "      <td>Jose Lopez</td>\n",
              "      <td>261.887714</td>\n",
              "      <td>1.768894</td>\n",
              "      <td>1975</td>\n",
              "    </tr>\n",
              "  </tbody>\n",
              "</table>\n",
              "</div>"
            ],
            "text/plain": [
              "      SALARY  Team_Impact_Ratio  ...  Overall_Impact_Ratio  A-Rod_Factor\n",
              "252  1850000           0.196721  ...              0.090194           139\n",
              "297  2400000           0.355438  ...              0.742910           954\n",
              "78   2800000           0.271523  ...              0.421323           712\n",
              "66   1275000           0.372881  ...              0.378743           502\n",
              "277  1750000           0.404658  ...              1.768894          1975\n",
              "\n",
              "[5 rows x 13 columns]"
            ]
          },
          "metadata": {
            "tags": []
          },
          "execution_count": 28
        }
      ]
    },
    {
      "cell_type": "code",
      "metadata": {
        "id": "U3TWHuS1BKbE",
        "colab_type": "code",
        "outputId": "725151eb-33a1-44dc-a3fd-85b1ff07dcc0",
        "colab": {
          "base_uri": "https://localhost:8080/",
          "height": 277
        }
      },
      "source": [
        "train4 = train[['SALARY', 'Team_Impact_Ratio', 'Team-Contribution-Real', 'Team-Contribution', 'HR', 'AVG', 'RBI', 'R', 'PA' , 'PLAYER', \n",
        "                'Overall_Impact', \n",
        "                'Overall_Impact_Ratio', 'A-Rod_Factor']]\n",
        "train4 = train4[train4['SALARY'] <= 6000000]\n",
        "train4 = train4[train4['SALARY'] > 3000000]\n",
        "print(train4.shape)\n",
        "train4.head()  "
      ],
      "execution_count": 29,
      "outputs": [
        {
          "output_type": "stream",
          "text": [
            "(50, 13)\n"
          ],
          "name": "stdout"
        },
        {
          "output_type": "execute_result",
          "data": {
            "text/html": [
              "<div>\n",
              "<style scoped>\n",
              "    .dataframe tbody tr th:only-of-type {\n",
              "        vertical-align: middle;\n",
              "    }\n",
              "\n",
              "    .dataframe tbody tr th {\n",
              "        vertical-align: top;\n",
              "    }\n",
              "\n",
              "    .dataframe thead th {\n",
              "        text-align: right;\n",
              "    }\n",
              "</style>\n",
              "<table border=\"1\" class=\"dataframe\">\n",
              "  <thead>\n",
              "    <tr style=\"text-align: right;\">\n",
              "      <th></th>\n",
              "      <th>SALARY</th>\n",
              "      <th>Team_Impact_Ratio</th>\n",
              "      <th>Team-Contribution-Real</th>\n",
              "      <th>Team-Contribution</th>\n",
              "      <th>HR</th>\n",
              "      <th>AVG</th>\n",
              "      <th>RBI</th>\n",
              "      <th>R</th>\n",
              "      <th>PA</th>\n",
              "      <th>PLAYER</th>\n",
              "      <th>Overall_Impact</th>\n",
              "      <th>Overall_Impact_Ratio</th>\n",
              "      <th>A-Rod_Factor</th>\n",
              "    </tr>\n",
              "  </thead>\n",
              "  <tbody>\n",
              "    <tr>\n",
              "      <th>155</th>\n",
              "      <td>4925000</td>\n",
              "      <td>0.216518</td>\n",
              "      <td>0.395877</td>\n",
              "      <td>381.565774</td>\n",
              "      <td>15</td>\n",
              "      <td>0.225</td>\n",
              "      <td>55</td>\n",
              "      <td>50</td>\n",
              "      <td>448</td>\n",
              "      <td>Bill Hall</td>\n",
              "      <td>150.573562</td>\n",
              "      <td>1.017034</td>\n",
              "      <td>1279</td>\n",
              "    </tr>\n",
              "    <tr>\n",
              "      <th>158</th>\n",
              "      <td>5000000</td>\n",
              "      <td>0.196891</td>\n",
              "      <td>0.016760</td>\n",
              "      <td>16.153794</td>\n",
              "      <td>0</td>\n",
              "      <td>0.243</td>\n",
              "      <td>15</td>\n",
              "      <td>16</td>\n",
              "      <td>193</td>\n",
              "      <td>Paul Lo Duca</td>\n",
              "      <td>46.267800</td>\n",
              "      <td>0.312511</td>\n",
              "      <td>436</td>\n",
              "    </tr>\n",
              "    <tr>\n",
              "      <th>13</th>\n",
              "      <td>5000000</td>\n",
              "      <td>0.193277</td>\n",
              "      <td>0.135589</td>\n",
              "      <td>130.687381</td>\n",
              "      <td>7</td>\n",
              "      <td>0.217</td>\n",
              "      <td>32</td>\n",
              "      <td>40</td>\n",
              "      <td>357</td>\n",
              "      <td>Austin Kearns</td>\n",
              "      <td>91.768100</td>\n",
              "      <td>0.619838</td>\n",
              "      <td>890</td>\n",
              "    </tr>\n",
              "    <tr>\n",
              "      <th>182</th>\n",
              "      <td>5500000</td>\n",
              "      <td>0.394558</td>\n",
              "      <td>0.078241</td>\n",
              "      <td>75.412523</td>\n",
              "      <td>5</td>\n",
              "      <td>0.220</td>\n",
              "      <td>20</td>\n",
              "      <td>15</td>\n",
              "      <td>147</td>\n",
              "      <td>Nick Johnson</td>\n",
              "      <td>46.990900</td>\n",
              "      <td>0.317395</td>\n",
              "      <td>472</td>\n",
              "    </tr>\n",
              "    <tr>\n",
              "      <th>81</th>\n",
              "      <td>3800000</td>\n",
              "      <td>0.345902</td>\n",
              "      <td>0.913543</td>\n",
              "      <td>880.518023</td>\n",
              "      <td>20</td>\n",
              "      <td>0.234</td>\n",
              "      <td>72</td>\n",
              "      <td>73</td>\n",
              "      <td>610</td>\n",
              "      <td>Kevin Millar</td>\n",
              "      <td>196.776500</td>\n",
              "      <td>1.329107</td>\n",
              "      <td>1766</td>\n",
              "    </tr>\n",
              "  </tbody>\n",
              "</table>\n",
              "</div>"
            ],
            "text/plain": [
              "      SALARY  Team_Impact_Ratio  ...  Overall_Impact_Ratio  A-Rod_Factor\n",
              "155  4925000           0.216518  ...              1.017034          1279\n",
              "158  5000000           0.196891  ...              0.312511           436\n",
              "13   5000000           0.193277  ...              0.619838           890\n",
              "182  5500000           0.394558  ...              0.317395           472\n",
              "81   3800000           0.345902  ...              1.329107          1766\n",
              "\n",
              "[5 rows x 13 columns]"
            ]
          },
          "metadata": {
            "tags": []
          },
          "execution_count": 29
        }
      ]
    },
    {
      "cell_type": "code",
      "metadata": {
        "id": "kgwXud9MBfyD",
        "colab_type": "code",
        "outputId": "3871a45d-811f-4b70-ec1a-52e23225afc1",
        "colab": {
          "base_uri": "https://localhost:8080/",
          "height": 294
        }
      },
      "source": [
        "train5 = train[['SALARY', 'Team_Impact_Ratio', 'Team-Contribution-Real', 'Team-Contribution', 'HR', 'AVG', 'RBI', 'R', 'PA' , 'PLAYER', \n",
        "                'Overall_Impact', \n",
        "                'Overall_Impact_Ratio', 'A-Rod_Factor']]\n",
        "train5 = train5[train5['SALARY'] <= 8000000]\n",
        "train5 = train5[train5['SALARY'] > 6000000]\n",
        "print(train5.shape)\n",
        "train5.head()  "
      ],
      "execution_count": 30,
      "outputs": [
        {
          "output_type": "stream",
          "text": [
            "(23, 13)\n"
          ],
          "name": "stdout"
        },
        {
          "output_type": "execute_result",
          "data": {
            "text/html": [
              "<div>\n",
              "<style scoped>\n",
              "    .dataframe tbody tr th:only-of-type {\n",
              "        vertical-align: middle;\n",
              "    }\n",
              "\n",
              "    .dataframe tbody tr th {\n",
              "        vertical-align: top;\n",
              "    }\n",
              "\n",
              "    .dataframe thead th {\n",
              "        text-align: right;\n",
              "    }\n",
              "</style>\n",
              "<table border=\"1\" class=\"dataframe\">\n",
              "  <thead>\n",
              "    <tr style=\"text-align: right;\">\n",
              "      <th></th>\n",
              "      <th>SALARY</th>\n",
              "      <th>Team_Impact_Ratio</th>\n",
              "      <th>Team-Contribution-Real</th>\n",
              "      <th>Team-Contribution</th>\n",
              "      <th>HR</th>\n",
              "      <th>AVG</th>\n",
              "      <th>RBI</th>\n",
              "      <th>R</th>\n",
              "      <th>PA</th>\n",
              "      <th>PLAYER</th>\n",
              "      <th>Overall_Impact</th>\n",
              "      <th>Overall_Impact_Ratio</th>\n",
              "      <th>A-Rod_Factor</th>\n",
              "    </tr>\n",
              "  </thead>\n",
              "  <tbody>\n",
              "    <tr>\n",
              "      <th>250</th>\n",
              "      <td>6650000</td>\n",
              "      <td>0.303030</td>\n",
              "      <td>0.028403</td>\n",
              "      <td>27.376127</td>\n",
              "      <td>1</td>\n",
              "      <td>0.272</td>\n",
              "      <td>22</td>\n",
              "      <td>24</td>\n",
              "      <td>330</td>\n",
              "      <td>Jack Wilson</td>\n",
              "      <td>89.684127</td>\n",
              "      <td>0.605762</td>\n",
              "      <td>758</td>\n",
              "    </tr>\n",
              "    <tr>\n",
              "      <th>173</th>\n",
              "      <td>6250000</td>\n",
              "      <td>0.425197</td>\n",
              "      <td>1.265201</td>\n",
              "      <td>1219.463962</td>\n",
              "      <td>25</td>\n",
              "      <td>0.243</td>\n",
              "      <td>70</td>\n",
              "      <td>69</td>\n",
              "      <td>508</td>\n",
              "      <td>Mike Cameron</td>\n",
              "      <td>197.486278</td>\n",
              "      <td>1.333901</td>\n",
              "      <td>1641</td>\n",
              "    </tr>\n",
              "    <tr>\n",
              "      <th>222</th>\n",
              "      <td>6200000</td>\n",
              "      <td>0.270270</td>\n",
              "      <td>0.287975</td>\n",
              "      <td>277.564470</td>\n",
              "      <td>11</td>\n",
              "      <td>0.205</td>\n",
              "      <td>51</td>\n",
              "      <td>41</td>\n",
              "      <td>407</td>\n",
              "      <td>Brandon Inge</td>\n",
              "      <td>125.380900</td>\n",
              "      <td>0.846872</td>\n",
              "      <td>1128</td>\n",
              "    </tr>\n",
              "    <tr>\n",
              "      <th>7</th>\n",
              "      <td>6250000</td>\n",
              "      <td>0.403900</td>\n",
              "      <td>0.178167</td>\n",
              "      <td>171.726359</td>\n",
              "      <td>3</td>\n",
              "      <td>0.245</td>\n",
              "      <td>28</td>\n",
              "      <td>46</td>\n",
              "      <td>359</td>\n",
              "      <td>Luis Castillo</td>\n",
              "      <td>83.391949</td>\n",
              "      <td>0.563262</td>\n",
              "      <td>881</td>\n",
              "    </tr>\n",
              "    <tr>\n",
              "      <th>21</th>\n",
              "      <td>6300000</td>\n",
              "      <td>0.507102</td>\n",
              "      <td>1.250446</td>\n",
              "      <td>1205.241551</td>\n",
              "      <td>9</td>\n",
              "      <td>0.296</td>\n",
              "      <td>57</td>\n",
              "      <td>107</td>\n",
              "      <td>704</td>\n",
              "      <td>Brian Roberts</td>\n",
              "      <td>232.491483</td>\n",
              "      <td>1.570340</td>\n",
              "      <td>1991</td>\n",
              "    </tr>\n",
              "  </tbody>\n",
              "</table>\n",
              "</div>"
            ],
            "text/plain": [
              "      SALARY  Team_Impact_Ratio  ...  Overall_Impact_Ratio  A-Rod_Factor\n",
              "250  6650000           0.303030  ...              0.605762           758\n",
              "173  6250000           0.425197  ...              1.333901          1641\n",
              "222  6200000           0.270270  ...              0.846872          1128\n",
              "7    6250000           0.403900  ...              0.563262           881\n",
              "21   6300000           0.507102  ...              1.570340          1991\n",
              "\n",
              "[5 rows x 13 columns]"
            ]
          },
          "metadata": {
            "tags": []
          },
          "execution_count": 30
        }
      ]
    },
    {
      "cell_type": "code",
      "metadata": {
        "id": "zNa3MxPrBf0n",
        "colab_type": "code",
        "outputId": "728c4745-00e4-4df8-e5d4-4e337a68aa7b",
        "colab": {
          "base_uri": "https://localhost:8080/",
          "height": 506
        }
      },
      "source": [
        "train6 = train[['SALARY',  'Team_Impact_Ratio', 'Team-Contribution-Real', 'Team-Contribution', 'PLAYER', 'HR', 'AVG', 'RBI', 'R', 'PA', 'PLAYER', \n",
        "                'Overall_Impact', \n",
        "                'Overall_Impact_Ratio', 'A-Rod_Factor']]\n",
        "train6 = train6[train6['SALARY'] <= 11000000]\n",
        "train6 = train6[train6['SALARY'] > 8000000]\n",
        "print(train6.shape)\n",
        "train6.head(15)  "
      ],
      "execution_count": 31,
      "outputs": [
        {
          "output_type": "stream",
          "text": [
            "(9, 14)\n"
          ],
          "name": "stdout"
        },
        {
          "output_type": "execute_result",
          "data": {
            "text/html": [
              "<div>\n",
              "<style scoped>\n",
              "    .dataframe tbody tr th:only-of-type {\n",
              "        vertical-align: middle;\n",
              "    }\n",
              "\n",
              "    .dataframe tbody tr th {\n",
              "        vertical-align: top;\n",
              "    }\n",
              "\n",
              "    .dataframe thead th {\n",
              "        text-align: right;\n",
              "    }\n",
              "</style>\n",
              "<table border=\"1\" class=\"dataframe\">\n",
              "  <thead>\n",
              "    <tr style=\"text-align: right;\">\n",
              "      <th></th>\n",
              "      <th>SALARY</th>\n",
              "      <th>Team_Impact_Ratio</th>\n",
              "      <th>Team-Contribution-Real</th>\n",
              "      <th>Team-Contribution</th>\n",
              "      <th>PLAYER</th>\n",
              "      <th>HR</th>\n",
              "      <th>AVG</th>\n",
              "      <th>RBI</th>\n",
              "      <th>R</th>\n",
              "      <th>PA</th>\n",
              "      <th>PLAYER</th>\n",
              "      <th>Overall_Impact</th>\n",
              "      <th>Overall_Impact_Ratio</th>\n",
              "      <th>A-Rod_Factor</th>\n",
              "    </tr>\n",
              "  </thead>\n",
              "  <tbody>\n",
              "    <tr>\n",
              "      <th>308</th>\n",
              "      <td>8050000</td>\n",
              "      <td>0.175214</td>\n",
              "      <td>0.048404</td>\n",
              "      <td>46.654381</td>\n",
              "      <td>Travis Hafner</td>\n",
              "      <td>5</td>\n",
              "      <td>0.197</td>\n",
              "      <td>24</td>\n",
              "      <td>21</td>\n",
              "      <td>234</td>\n",
              "      <td>Travis Hafner</td>\n",
              "      <td>61.668700</td>\n",
              "      <td>0.416535</td>\n",
              "      <td>604</td>\n",
              "    </tr>\n",
              "    <tr>\n",
              "      <th>35</th>\n",
              "      <td>10000000</td>\n",
              "      <td>0.410000</td>\n",
              "      <td>7.092854</td>\n",
              "      <td>6836.444569</td>\n",
              "      <td>Ryan Howard</td>\n",
              "      <td>48</td>\n",
              "      <td>0.251</td>\n",
              "      <td>146</td>\n",
              "      <td>105</td>\n",
              "      <td>700</td>\n",
              "      <td>Ryan Howard</td>\n",
              "      <td>333.987600</td>\n",
              "      <td>2.255885</td>\n",
              "      <td>2614</td>\n",
              "    </tr>\n",
              "    <tr>\n",
              "      <th>246</th>\n",
              "      <td>9000000</td>\n",
              "      <td>0.327004</td>\n",
              "      <td>0.352496</td>\n",
              "      <td>339.752687</td>\n",
              "      <td>Jeff Kent</td>\n",
              "      <td>12</td>\n",
              "      <td>0.280</td>\n",
              "      <td>59</td>\n",
              "      <td>42</td>\n",
              "      <td>474</td>\n",
              "      <td>Jeff Kent</td>\n",
              "      <td>170.179200</td>\n",
              "      <td>1.149458</td>\n",
              "      <td>1338</td>\n",
              "    </tr>\n",
              "    <tr>\n",
              "      <th>305</th>\n",
              "      <td>8875000</td>\n",
              "      <td>0.461769</td>\n",
              "      <td>1.007613</td>\n",
              "      <td>971.187487</td>\n",
              "      <td>Randy Winn</td>\n",
              "      <td>10</td>\n",
              "      <td>0.306</td>\n",
              "      <td>64</td>\n",
              "      <td>84</td>\n",
              "      <td>667</td>\n",
              "      <td>Randy Winn</td>\n",
              "      <td>223.386849</td>\n",
              "      <td>1.508844</td>\n",
              "      <td>1851</td>\n",
              "    </tr>\n",
              "    <tr>\n",
              "      <th>323</th>\n",
              "      <td>8400000</td>\n",
              "      <td>0.432584</td>\n",
              "      <td>5.229303</td>\n",
              "      <td>5040.261366</td>\n",
              "      <td>Justin Morneau</td>\n",
              "      <td>23</td>\n",
              "      <td>0.300</td>\n",
              "      <td>129</td>\n",
              "      <td>97</td>\n",
              "      <td>712</td>\n",
              "      <td>Justin Morneau</td>\n",
              "      <td>308.090900</td>\n",
              "      <td>2.080969</td>\n",
              "      <td>2375</td>\n",
              "    </tr>\n",
              "    <tr>\n",
              "      <th>261</th>\n",
              "      <td>10442030</td>\n",
              "      <td>0.169772</td>\n",
              "      <td>0.119742</td>\n",
              "      <td>115.412847</td>\n",
              "      <td>Jason Varitek</td>\n",
              "      <td>13</td>\n",
              "      <td>0.220</td>\n",
              "      <td>43</td>\n",
              "      <td>37</td>\n",
              "      <td>483</td>\n",
              "      <td>Jason Varitek</td>\n",
              "      <td>136.570800</td>\n",
              "      <td>0.922454</td>\n",
              "      <td>1289</td>\n",
              "    </tr>\n",
              "    <tr>\n",
              "      <th>116</th>\n",
              "      <td>9250000</td>\n",
              "      <td>0.283388</td>\n",
              "      <td>0.050632</td>\n",
              "      <td>48.801157</td>\n",
              "      <td>Julio Lugo</td>\n",
              "      <td>1</td>\n",
              "      <td>0.268</td>\n",
              "      <td>22</td>\n",
              "      <td>27</td>\n",
              "      <td>307</td>\n",
              "      <td>Julio Lugo</td>\n",
              "      <td>75.683340</td>\n",
              "      <td>0.511195</td>\n",
              "      <td>738</td>\n",
              "    </tr>\n",
              "    <tr>\n",
              "      <th>292</th>\n",
              "      <td>10000000</td>\n",
              "      <td>0.303473</td>\n",
              "      <td>0.567621</td>\n",
              "      <td>547.101346</td>\n",
              "      <td>Edgar Renteria</td>\n",
              "      <td>10</td>\n",
              "      <td>0.270</td>\n",
              "      <td>55</td>\n",
              "      <td>69</td>\n",
              "      <td>547</td>\n",
              "      <td>Edgar Renteria</td>\n",
              "      <td>172.977259</td>\n",
              "      <td>1.168357</td>\n",
              "      <td>1449</td>\n",
              "    </tr>\n",
              "    <tr>\n",
              "      <th>106</th>\n",
              "      <td>9500000</td>\n",
              "      <td>0.593900</td>\n",
              "      <td>4.452653</td>\n",
              "      <td>4291.687935</td>\n",
              "      <td>Matt Holliday</td>\n",
              "      <td>25</td>\n",
              "      <td>0.321</td>\n",
              "      <td>88</td>\n",
              "      <td>107</td>\n",
              "      <td>623</td>\n",
              "      <td>Matt Holliday</td>\n",
              "      <td>264.695700</td>\n",
              "      <td>1.787860</td>\n",
              "      <td>2104</td>\n",
              "    </tr>\n",
              "  </tbody>\n",
              "</table>\n",
              "</div>"
            ],
            "text/plain": [
              "       SALARY  Team_Impact_Ratio  ...  Overall_Impact_Ratio  A-Rod_Factor\n",
              "308   8050000           0.175214  ...              0.416535           604\n",
              "35   10000000           0.410000  ...              2.255885          2614\n",
              "246   9000000           0.327004  ...              1.149458          1338\n",
              "305   8875000           0.461769  ...              1.508844          1851\n",
              "323   8400000           0.432584  ...              2.080969          2375\n",
              "261  10442030           0.169772  ...              0.922454          1289\n",
              "116   9250000           0.283388  ...              0.511195           738\n",
              "292  10000000           0.303473  ...              1.168357          1449\n",
              "106   9500000           0.593900  ...              1.787860          2104\n",
              "\n",
              "[9 rows x 14 columns]"
            ]
          },
          "metadata": {
            "tags": []
          },
          "execution_count": 31
        }
      ]
    },
    {
      "cell_type": "code",
      "metadata": {
        "id": "JZ35iluYB7Gc",
        "colab_type": "code",
        "outputId": "c5a186b0-cd93-4bdb-8495-d5bf60904a3f",
        "colab": {
          "base_uri": "https://localhost:8080/",
          "height": 259
        }
      },
      "source": [
        "train7 = train[['SALARY',  'Team_Impact_Ratio', 'Team-Contribution-Real', 'Team-Contribution' , 'HR', 'AVG', 'RBI', 'R', 'PA', 'PLAYER', \n",
        "                'Overall_Impact', \n",
        "                'Overall_Impact_Ratio', 'A-Rod_Factor']]\n",
        "train7 = train7[train7['SALARY'] <= 14000000]\n",
        "train7 = train7[train7['SALARY'] > 11000000]\n",
        "print(train7.shape)\n",
        "train7.head()  "
      ],
      "execution_count": 32,
      "outputs": [
        {
          "output_type": "stream",
          "text": [
            "(22, 13)\n"
          ],
          "name": "stdout"
        },
        {
          "output_type": "execute_result",
          "data": {
            "text/html": [
              "<div>\n",
              "<style scoped>\n",
              "    .dataframe tbody tr th:only-of-type {\n",
              "        vertical-align: middle;\n",
              "    }\n",
              "\n",
              "    .dataframe tbody tr th {\n",
              "        vertical-align: top;\n",
              "    }\n",
              "\n",
              "    .dataframe thead th {\n",
              "        text-align: right;\n",
              "    }\n",
              "</style>\n",
              "<table border=\"1\" class=\"dataframe\">\n",
              "  <thead>\n",
              "    <tr style=\"text-align: right;\">\n",
              "      <th></th>\n",
              "      <th>SALARY</th>\n",
              "      <th>Team_Impact_Ratio</th>\n",
              "      <th>Team-Contribution-Real</th>\n",
              "      <th>Team-Contribution</th>\n",
              "      <th>HR</th>\n",
              "      <th>AVG</th>\n",
              "      <th>RBI</th>\n",
              "      <th>R</th>\n",
              "      <th>PA</th>\n",
              "      <th>PLAYER</th>\n",
              "      <th>Overall_Impact</th>\n",
              "      <th>Overall_Impact_Ratio</th>\n",
              "      <th>A-Rod_Factor</th>\n",
              "    </tr>\n",
              "  </thead>\n",
              "  <tbody>\n",
              "    <tr>\n",
              "      <th>291</th>\n",
              "      <td>14000000</td>\n",
              "      <td>0.478070</td>\n",
              "      <td>2.345581</td>\n",
              "      <td>2260.787370</td>\n",
              "      <td>19</td>\n",
              "      <td>0.280</td>\n",
              "      <td>64</td>\n",
              "      <td>79</td>\n",
              "      <td>456</td>\n",
              "      <td>J.D. Drew</td>\n",
              "      <td>178.593900</td>\n",
              "      <td>1.206294</td>\n",
              "      <td>1553</td>\n",
              "    </tr>\n",
              "    <tr>\n",
              "      <th>124</th>\n",
              "      <td>12500000</td>\n",
              "      <td>0.388889</td>\n",
              "      <td>1.120045</td>\n",
              "      <td>1079.554825</td>\n",
              "      <td>17</td>\n",
              "      <td>0.274</td>\n",
              "      <td>73</td>\n",
              "      <td>58</td>\n",
              "      <td>468</td>\n",
              "      <td>Mike Lowell</td>\n",
              "      <td>186.281300</td>\n",
              "      <td>1.258218</td>\n",
              "      <td>1465</td>\n",
              "    </tr>\n",
              "    <tr>\n",
              "      <th>311</th>\n",
              "      <td>12500000</td>\n",
              "      <td>0.598753</td>\n",
              "      <td>2.794217</td>\n",
              "      <td>2693.205338</td>\n",
              "      <td>28</td>\n",
              "      <td>0.314</td>\n",
              "      <td>100</td>\n",
              "      <td>61</td>\n",
              "      <td>481</td>\n",
              "      <td>Carlos Lee</td>\n",
              "      <td>243.694800</td>\n",
              "      <td>1.646012</td>\n",
              "      <td>1776</td>\n",
              "    </tr>\n",
              "    <tr>\n",
              "      <th>226</th>\n",
              "      <td>14000000</td>\n",
              "      <td>0.516899</td>\n",
              "      <td>1.920534</td>\n",
              "      <td>1851.105924</td>\n",
              "      <td>29</td>\n",
              "      <td>0.280</td>\n",
              "      <td>75</td>\n",
              "      <td>76</td>\n",
              "      <td>503</td>\n",
              "      <td>Alfonso Soriano</td>\n",
              "      <td>221.287300</td>\n",
              "      <td>1.494662</td>\n",
              "      <td>1725</td>\n",
              "    </tr>\n",
              "    <tr>\n",
              "      <th>179</th>\n",
              "      <td>13000000</td>\n",
              "      <td>0.480652</td>\n",
              "      <td>2.896198</td>\n",
              "      <td>2791.499032</td>\n",
              "      <td>23</td>\n",
              "      <td>0.264</td>\n",
              "      <td>89</td>\n",
              "      <td>74</td>\n",
              "      <td>491</td>\n",
              "      <td>David Ortiz</td>\n",
              "      <td>210.089026</td>\n",
              "      <td>1.419025</td>\n",
              "      <td>1716</td>\n",
              "    </tr>\n",
              "  </tbody>\n",
              "</table>\n",
              "</div>"
            ],
            "text/plain": [
              "       SALARY  Team_Impact_Ratio  ...  Overall_Impact_Ratio  A-Rod_Factor\n",
              "291  14000000           0.478070  ...              1.206294          1553\n",
              "124  12500000           0.388889  ...              1.258218          1465\n",
              "311  12500000           0.598753  ...              1.646012          1776\n",
              "226  14000000           0.516899  ...              1.494662          1725\n",
              "179  13000000           0.480652  ...              1.419025          1716\n",
              "\n",
              "[5 rows x 13 columns]"
            ]
          },
          "metadata": {
            "tags": []
          },
          "execution_count": 32
        }
      ]
    },
    {
      "cell_type": "code",
      "metadata": {
        "id": "eXruMrcwCErz",
        "colab_type": "code",
        "outputId": "8a20ff06-70ec-4169-fde6-5b134c12e205",
        "colab": {
          "base_uri": "https://localhost:8080/",
          "height": 437
        }
      },
      "source": [
        "train8 = train[['SALARY', 'Team_Impact_Ratio', 'Team-Contribution-Real', 'Team-Contribution', 'HR', 'AVG', 'RBI', 'R', 'PA' , 'PLAYER', \n",
        "                'Overall_Impact', \n",
        "                'Overall_Impact_Ratio', 'A-Rod_Factor']]\n",
        "train8 = train8[train8['SALARY'] > 14000000]\n",
        "train8 = train8[train8['SALARY'] <= 17000000]\n",
        "print(train8.shape)\n",
        "train8.head(15)  "
      ],
      "execution_count": 33,
      "outputs": [
        {
          "output_type": "stream",
          "text": [
            "(9, 13)\n"
          ],
          "name": "stdout"
        },
        {
          "output_type": "execute_result",
          "data": {
            "text/html": [
              "<div>\n",
              "<style scoped>\n",
              "    .dataframe tbody tr th:only-of-type {\n",
              "        vertical-align: middle;\n",
              "    }\n",
              "\n",
              "    .dataframe tbody tr th {\n",
              "        vertical-align: top;\n",
              "    }\n",
              "\n",
              "    .dataframe thead th {\n",
              "        text-align: right;\n",
              "    }\n",
              "</style>\n",
              "<table border=\"1\" class=\"dataframe\">\n",
              "  <thead>\n",
              "    <tr style=\"text-align: right;\">\n",
              "      <th></th>\n",
              "      <th>SALARY</th>\n",
              "      <th>Team_Impact_Ratio</th>\n",
              "      <th>Team-Contribution-Real</th>\n",
              "      <th>Team-Contribution</th>\n",
              "      <th>HR</th>\n",
              "      <th>AVG</th>\n",
              "      <th>RBI</th>\n",
              "      <th>R</th>\n",
              "      <th>PA</th>\n",
              "      <th>PLAYER</th>\n",
              "      <th>Overall_Impact</th>\n",
              "      <th>Overall_Impact_Ratio</th>\n",
              "      <th>A-Rod_Factor</th>\n",
              "    </tr>\n",
              "  </thead>\n",
              "  <tbody>\n",
              "    <tr>\n",
              "      <th>224</th>\n",
              "      <td>16500000</td>\n",
              "      <td>0.430921</td>\n",
              "      <td>1.711131</td>\n",
              "      <td>1649.272703</td>\n",
              "      <td>21</td>\n",
              "      <td>0.278</td>\n",
              "      <td>78</td>\n",
              "      <td>85</td>\n",
              "      <td>608</td>\n",
              "      <td>Torii Hunter</td>\n",
              "      <td>234.5840</td>\n",
              "      <td>1.584474</td>\n",
              "      <td>1868</td>\n",
              "    </tr>\n",
              "    <tr>\n",
              "      <th>206</th>\n",
              "      <td>15500000</td>\n",
              "      <td>0.451667</td>\n",
              "      <td>2.682722</td>\n",
              "      <td>2585.740670</td>\n",
              "      <td>27</td>\n",
              "      <td>0.303</td>\n",
              "      <td>91</td>\n",
              "      <td>85</td>\n",
              "      <td>600</td>\n",
              "      <td>Vladimir Guerrero</td>\n",
              "      <td>261.1888</td>\n",
              "      <td>1.764173</td>\n",
              "      <td>2007</td>\n",
              "    </tr>\n",
              "    <tr>\n",
              "      <th>296</th>\n",
              "      <td>16000000</td>\n",
              "      <td>0.476608</td>\n",
              "      <td>3.435737</td>\n",
              "      <td>3311.533439</td>\n",
              "      <td>20</td>\n",
              "      <td>0.296</td>\n",
              "      <td>100</td>\n",
              "      <td>100</td>\n",
              "      <td>684</td>\n",
              "      <td>Bobby Abreu</td>\n",
              "      <td>270.9870</td>\n",
              "      <td>1.830354</td>\n",
              "      <td>2164</td>\n",
              "    </tr>\n",
              "    <tr>\n",
              "      <th>199</th>\n",
              "      <td>15730195</td>\n",
              "      <td>0.689024</td>\n",
              "      <td>0.252579</td>\n",
              "      <td>243.448413</td>\n",
              "      <td>5</td>\n",
              "      <td>0.357</td>\n",
              "      <td>16</td>\n",
              "      <td>34</td>\n",
              "      <td>164</td>\n",
              "      <td>Rafael Furcal</td>\n",
              "      <td>68.7050</td>\n",
              "      <td>0.464061</td>\n",
              "      <td>543</td>\n",
              "    </tr>\n",
              "    <tr>\n",
              "      <th>157</th>\n",
              "      <td>15500000</td>\n",
              "      <td>0.223242</td>\n",
              "      <td>0.126614</td>\n",
              "      <td>122.036660</td>\n",
              "      <td>12</td>\n",
              "      <td>0.221</td>\n",
              "      <td>36</td>\n",
              "      <td>29</td>\n",
              "      <td>327</td>\n",
              "      <td>Richie Sexson</td>\n",
              "      <td>100.1777</td>\n",
              "      <td>0.676640</td>\n",
              "      <td>945</td>\n",
              "    </tr>\n",
              "    <tr>\n",
              "      <th>211</th>\n",
              "      <td>15000000</td>\n",
              "      <td>0.462016</td>\n",
              "      <td>4.745996</td>\n",
              "      <td>4574.426463</td>\n",
              "      <td>27</td>\n",
              "      <td>0.289</td>\n",
              "      <td>111</td>\n",
              "      <td>97</td>\n",
              "      <td>645</td>\n",
              "      <td>Aramis Ramirez</td>\n",
              "      <td>278.6900</td>\n",
              "      <td>1.882383</td>\n",
              "      <td>2196</td>\n",
              "    </tr>\n",
              "    <tr>\n",
              "      <th>57</th>\n",
              "      <td>16000000</td>\n",
              "      <td>0.444606</td>\n",
              "      <td>4.097677</td>\n",
              "      <td>3949.544826</td>\n",
              "      <td>38</td>\n",
              "      <td>0.271</td>\n",
              "      <td>115</td>\n",
              "      <td>96</td>\n",
              "      <td>686</td>\n",
              "      <td>Carlos Delgado</td>\n",
              "      <td>297.5900</td>\n",
              "      <td>2.010041</td>\n",
              "      <td>2367</td>\n",
              "    </tr>\n",
              "    <tr>\n",
              "      <th>301</th>\n",
              "      <td>16600000</td>\n",
              "      <td>0.332410</td>\n",
              "      <td>0.157669</td>\n",
              "      <td>151.969590</td>\n",
              "      <td>7</td>\n",
              "      <td>0.264</td>\n",
              "      <td>29</td>\n",
              "      <td>39</td>\n",
              "      <td>361</td>\n",
              "      <td>Todd Helton</td>\n",
              "      <td>101.5825</td>\n",
              "      <td>0.686129</td>\n",
              "      <td>1014</td>\n",
              "    </tr>\n",
              "    <tr>\n",
              "      <th>132</th>\n",
              "      <td>15768174</td>\n",
              "      <td>0.388443</td>\n",
              "      <td>2.356130</td>\n",
              "      <td>2270.955103</td>\n",
              "      <td>21</td>\n",
              "      <td>0.317</td>\n",
              "      <td>103</td>\n",
              "      <td>72</td>\n",
              "      <td>623</td>\n",
              "      <td>Magglio Ordonez</td>\n",
              "      <td>266.0888</td>\n",
              "      <td>1.797270</td>\n",
              "      <td>2027</td>\n",
              "    </tr>\n",
              "  </tbody>\n",
              "</table>\n",
              "</div>"
            ],
            "text/plain": [
              "       SALARY  Team_Impact_Ratio  ...  Overall_Impact_Ratio  A-Rod_Factor\n",
              "224  16500000           0.430921  ...              1.584474          1868\n",
              "206  15500000           0.451667  ...              1.764173          2007\n",
              "296  16000000           0.476608  ...              1.830354          2164\n",
              "199  15730195           0.689024  ...              0.464061           543\n",
              "157  15500000           0.223242  ...              0.676640           945\n",
              "211  15000000           0.462016  ...              1.882383          2196\n",
              "57   16000000           0.444606  ...              2.010041          2367\n",
              "301  16600000           0.332410  ...              0.686129          1014\n",
              "132  15768174           0.388443  ...              1.797270          2027\n",
              "\n",
              "[9 rows x 13 columns]"
            ]
          },
          "metadata": {
            "tags": []
          },
          "execution_count": 33
        }
      ]
    },
    {
      "cell_type": "code",
      "metadata": {
        "id": "XU4cmvHOREUX",
        "colab_type": "code",
        "outputId": "e69d59d8-6387-4b4d-9cc3-cf3726ecbacb",
        "colab": {
          "base_uri": "https://localhost:8080/",
          "height": 294
        }
      },
      "source": [
        "train9 = train[['SALARY', 'Team_Impact_Ratio', 'Team-Contribution-Real', 'Team-Contribution' , 'HR', 'AVG', 'RBI', 'R', 'PA', 'PLAYER',\n",
        "                'Overall_Impact', \n",
        "                'Overall_Impact_Ratio', 'A-Rod_Factor']]\n",
        "train9 = train9[train9['SALARY'] > 17000000]\n",
        "print(train9.shape)\n",
        "train9.head(15) "
      ],
      "execution_count": 34,
      "outputs": [
        {
          "output_type": "stream",
          "text": [
            "(5, 13)\n"
          ],
          "name": "stdout"
        },
        {
          "output_type": "execute_result",
          "data": {
            "text/html": [
              "<div>\n",
              "<style scoped>\n",
              "    .dataframe tbody tr th:only-of-type {\n",
              "        vertical-align: middle;\n",
              "    }\n",
              "\n",
              "    .dataframe tbody tr th {\n",
              "        vertical-align: top;\n",
              "    }\n",
              "\n",
              "    .dataframe thead th {\n",
              "        text-align: right;\n",
              "    }\n",
              "</style>\n",
              "<table border=\"1\" class=\"dataframe\">\n",
              "  <thead>\n",
              "    <tr style=\"text-align: right;\">\n",
              "      <th></th>\n",
              "      <th>SALARY</th>\n",
              "      <th>Team_Impact_Ratio</th>\n",
              "      <th>Team-Contribution-Real</th>\n",
              "      <th>Team-Contribution</th>\n",
              "      <th>HR</th>\n",
              "      <th>AVG</th>\n",
              "      <th>RBI</th>\n",
              "      <th>R</th>\n",
              "      <th>PA</th>\n",
              "      <th>PLAYER</th>\n",
              "      <th>Overall_Impact</th>\n",
              "      <th>Overall_Impact_Ratio</th>\n",
              "      <th>A-Rod_Factor</th>\n",
              "    </tr>\n",
              "  </thead>\n",
              "  <tbody>\n",
              "    <tr>\n",
              "      <th>23</th>\n",
              "      <td>18929923</td>\n",
              "      <td>0.525994</td>\n",
              "      <td>7.847534</td>\n",
              "      <td>7563.843125</td>\n",
              "      <td>37</td>\n",
              "      <td>0.332</td>\n",
              "      <td>121</td>\n",
              "      <td>102</td>\n",
              "      <td>654</td>\n",
              "      <td>Manny Ramirez</td>\n",
              "      <td>317.202900</td>\n",
              "      <td>2.142515</td>\n",
              "      <td>2459</td>\n",
              "    </tr>\n",
              "    <tr>\n",
              "      <th>181</th>\n",
              "      <td>23428571</td>\n",
              "      <td>0.447788</td>\n",
              "      <td>2.224223</td>\n",
              "      <td>2143.816911</td>\n",
              "      <td>32</td>\n",
              "      <td>0.247</td>\n",
              "      <td>96</td>\n",
              "      <td>68</td>\n",
              "      <td>565</td>\n",
              "      <td>Jason Giambi</td>\n",
              "      <td>228.289700</td>\n",
              "      <td>1.541959</td>\n",
              "      <td>1931</td>\n",
              "    </tr>\n",
              "    <tr>\n",
              "      <th>130</th>\n",
              "      <td>18622809</td>\n",
              "      <td>0.560907</td>\n",
              "      <td>5.916354</td>\n",
              "      <td>5702.475588</td>\n",
              "      <td>27</td>\n",
              "      <td>0.284</td>\n",
              "      <td>112</td>\n",
              "      <td>116</td>\n",
              "      <td>706</td>\n",
              "      <td>Carlos Beltran</td>\n",
              "      <td>290.594292</td>\n",
              "      <td>1.962790</td>\n",
              "      <td>2362</td>\n",
              "    </tr>\n",
              "    <tr>\n",
              "      <th>257</th>\n",
              "      <td>17102149</td>\n",
              "      <td>0.477971</td>\n",
              "      <td>0.507332</td>\n",
              "      <td>488.991981</td>\n",
              "      <td>6</td>\n",
              "      <td>0.311</td>\n",
              "      <td>42</td>\n",
              "      <td>103</td>\n",
              "      <td>749</td>\n",
              "      <td>Ichiro Suzuki</td>\n",
              "      <td>214.987404</td>\n",
              "      <td>1.452110</td>\n",
              "      <td>1853</td>\n",
              "    </tr>\n",
              "    <tr>\n",
              "      <th>259</th>\n",
              "      <td>28000000</td>\n",
              "      <td>0.558923</td>\n",
              "      <td>6.113649</td>\n",
              "      <td>5892.638333</td>\n",
              "      <td>35</td>\n",
              "      <td>0.302</td>\n",
              "      <td>103</td>\n",
              "      <td>104</td>\n",
              "      <td>594</td>\n",
              "      <td>Alex Rodriguez</td>\n",
              "      <td>276.596300</td>\n",
              "      <td>1.868241</td>\n",
              "      <td>2149</td>\n",
              "    </tr>\n",
              "  </tbody>\n",
              "</table>\n",
              "</div>"
            ],
            "text/plain": [
              "       SALARY  Team_Impact_Ratio  ...  Overall_Impact_Ratio  A-Rod_Factor\n",
              "23   18929923           0.525994  ...              2.142515          2459\n",
              "181  23428571           0.447788  ...              1.541959          1931\n",
              "130  18622809           0.560907  ...              1.962790          2362\n",
              "257  17102149           0.477971  ...              1.452110          1853\n",
              "259  28000000           0.558923  ...              1.868241          2149\n",
              "\n",
              "[5 rows x 13 columns]"
            ]
          },
          "metadata": {
            "tags": []
          },
          "execution_count": 34
        }
      ]
    },
    {
      "cell_type": "code",
      "metadata": {
        "id": "rdgukCdFaqQb",
        "colab_type": "code",
        "outputId": "5712dfa5-90a2-42a9-829f-72ad5a4df0ed",
        "colab": {
          "base_uri": "https://localhost:8080/",
          "height": 175
        }
      },
      "source": [
        "train10 = train9.copy()\n",
        "train10.head()\n",
        "\n",
        "data = {'SALARY': [18929923 , 23428571, 18622809 , 17102149 , 28000000 ], \n",
        "        'Team_Impact_Ratio': [0.525994, 0.447788, 0.560907, 0.477971 \t, 0.558923 ], \n",
        "        'Team-Contribution-Real': [7.847534 \t, 2.224223 \t, 5.916354 \t, 0.507332 \t, 6.113649 \t],\n",
        "        'Team-Contribution': [7563.843125, 2143.816911, 5702.475588, 488.991981, 5892.638333],\n",
        "        'HR': [37, 32, 27, 6, 35],\n",
        "        'RBI': [121, 96, 112, 42, 103],\n",
        "        'Overall_Impact': [317.202900, 228.289700, 290.594292, 214.987404,  276.596300],\n",
        "        'A-Rod_Factor': [2459, 1931, 2362, 1853, 2149]}\n",
        "\n",
        "train10 = pd.DataFrame(data, index = ['23', '181', '130', '257', '259'])\n",
        "train10 = train10.drop(['257'])\n",
        "train10.head()"
      ],
      "execution_count": 35,
      "outputs": [
        {
          "output_type": "execute_result",
          "data": {
            "text/html": [
              "<div>\n",
              "<style scoped>\n",
              "    .dataframe tbody tr th:only-of-type {\n",
              "        vertical-align: middle;\n",
              "    }\n",
              "\n",
              "    .dataframe tbody tr th {\n",
              "        vertical-align: top;\n",
              "    }\n",
              "\n",
              "    .dataframe thead th {\n",
              "        text-align: right;\n",
              "    }\n",
              "</style>\n",
              "<table border=\"1\" class=\"dataframe\">\n",
              "  <thead>\n",
              "    <tr style=\"text-align: right;\">\n",
              "      <th></th>\n",
              "      <th>SALARY</th>\n",
              "      <th>Team_Impact_Ratio</th>\n",
              "      <th>Team-Contribution-Real</th>\n",
              "      <th>Team-Contribution</th>\n",
              "      <th>HR</th>\n",
              "      <th>RBI</th>\n",
              "      <th>Overall_Impact</th>\n",
              "      <th>A-Rod_Factor</th>\n",
              "    </tr>\n",
              "  </thead>\n",
              "  <tbody>\n",
              "    <tr>\n",
              "      <th>23</th>\n",
              "      <td>18929923</td>\n",
              "      <td>0.525994</td>\n",
              "      <td>7.847534</td>\n",
              "      <td>7563.843125</td>\n",
              "      <td>37</td>\n",
              "      <td>121</td>\n",
              "      <td>317.202900</td>\n",
              "      <td>2459</td>\n",
              "    </tr>\n",
              "    <tr>\n",
              "      <th>181</th>\n",
              "      <td>23428571</td>\n",
              "      <td>0.447788</td>\n",
              "      <td>2.224223</td>\n",
              "      <td>2143.816911</td>\n",
              "      <td>32</td>\n",
              "      <td>96</td>\n",
              "      <td>228.289700</td>\n",
              "      <td>1931</td>\n",
              "    </tr>\n",
              "    <tr>\n",
              "      <th>130</th>\n",
              "      <td>18622809</td>\n",
              "      <td>0.560907</td>\n",
              "      <td>5.916354</td>\n",
              "      <td>5702.475588</td>\n",
              "      <td>27</td>\n",
              "      <td>112</td>\n",
              "      <td>290.594292</td>\n",
              "      <td>2362</td>\n",
              "    </tr>\n",
              "    <tr>\n",
              "      <th>259</th>\n",
              "      <td>28000000</td>\n",
              "      <td>0.558923</td>\n",
              "      <td>6.113649</td>\n",
              "      <td>5892.638333</td>\n",
              "      <td>35</td>\n",
              "      <td>103</td>\n",
              "      <td>276.596300</td>\n",
              "      <td>2149</td>\n",
              "    </tr>\n",
              "  </tbody>\n",
              "</table>\n",
              "</div>"
            ],
            "text/plain": [
              "       SALARY  Team_Impact_Ratio  ...  Overall_Impact  A-Rod_Factor\n",
              "23   18929923           0.525994  ...      317.202900          2459\n",
              "181  23428571           0.447788  ...      228.289700          1931\n",
              "130  18622809           0.560907  ...      290.594292          2362\n",
              "259  28000000           0.558923  ...      276.596300          2149\n",
              "\n",
              "[4 rows x 8 columns]"
            ]
          },
          "metadata": {
            "tags": []
          },
          "execution_count": 35
        }
      ]
    },
    {
      "cell_type": "code",
      "metadata": {
        "id": "nUw2mkcAHdUw",
        "colab_type": "code",
        "outputId": "e6389ed4-3301-4905-dc57-e1f4f238b304",
        "colab": {
          "base_uri": "https://localhost:8080/",
          "height": 35
        }
      },
      "source": [
        "train['SALARY'].max()"
      ],
      "execution_count": 36,
      "outputs": [
        {
          "output_type": "execute_result",
          "data": {
            "text/plain": [
              "28000000"
            ]
          },
          "metadata": {
            "tags": []
          },
          "execution_count": 36
        }
      ]
    },
    {
      "cell_type": "code",
      "metadata": {
        "id": "LH2M4ue4DZW4",
        "colab_type": "code",
        "outputId": "77ef19e2-59e5-4544-c64f-24e507c26361",
        "colab": {
          "base_uri": "https://localhost:8080/",
          "height": 35
        }
      },
      "source": [
        "\n",
        "train1, val1 = train_test_split(train1, train_size=0.80, test_size=0.20, \n",
        "                              random_state=25)\n",
        "\n",
        "train1.shape, val1.shape"
      ],
      "execution_count": 37,
      "outputs": [
        {
          "output_type": "execute_result",
          "data": {
            "text/plain": [
              "((52, 13), (14, 13))"
            ]
          },
          "metadata": {
            "tags": []
          },
          "execution_count": 37
        }
      ]
    },
    {
      "cell_type": "code",
      "metadata": {
        "id": "2S6o6XVtCfBq",
        "colab_type": "code",
        "colab": {}
      },
      "source": [
        "features = [ 'Team-Contribution']\n",
        "target = ['SALARY']\n",
        "X_train = train1[features]\n",
        "y_train = train1[target]\n",
        "X_val = val1[features]\n",
        "y_val = val1[target]"
      ],
      "execution_count": 0,
      "outputs": []
    },
    {
      "cell_type": "code",
      "metadata": {
        "id": "2Ebpd6O1CjV_",
        "colab_type": "code",
        "outputId": "aa52cd1c-a138-4695-bf89-361e9b814525",
        "colab": {
          "base_uri": "https://localhost:8080/",
          "height": 92
        }
      },
      "source": [
        "model = RandomForestRegressor()\n",
        "model.fit(X_train, y_train)\n",
        "y_pred = model.predict(X_val)\n",
        "mae1 = mean_absolute_error(y_val, y_pred)\n",
        "mae1"
      ],
      "execution_count": 39,
      "outputs": [
        {
          "output_type": "stream",
          "text": [
            "/usr/local/lib/python3.6/dist-packages/ipykernel_launcher.py:2: DataConversionWarning: A column-vector y was passed when a 1d array was expected. Please change the shape of y to (n_samples,), for example using ravel().\n",
            "  \n"
          ],
          "name": "stderr"
        },
        {
          "output_type": "execute_result",
          "data": {
            "text/plain": [
              "13885.5"
            ]
          },
          "metadata": {
            "tags": []
          },
          "execution_count": 39
        }
      ]
    },
    {
      "cell_type": "code",
      "metadata": {
        "id": "FQUTKmCjDaCN",
        "colab_type": "code",
        "outputId": "f21f06ff-d3cb-4ebe-e404-0d502cc2022b",
        "colab": {
          "base_uri": "https://localhost:8080/",
          "height": 35
        }
      },
      "source": [
        "\n",
        "train2, val2 = train_test_split(train2, train_size=0.80, test_size=0.20, \n",
        "                              random_state=25)\n",
        "\n",
        "train2.shape, val2.shape"
      ],
      "execution_count": 40,
      "outputs": [
        {
          "output_type": "execute_result",
          "data": {
            "text/plain": [
              "((22, 13), (6, 13))"
            ]
          },
          "metadata": {
            "tags": []
          },
          "execution_count": 40
        }
      ]
    },
    {
      "cell_type": "code",
      "metadata": {
        "id": "zgs5PPD6CqQw",
        "colab_type": "code",
        "colab": {}
      },
      "source": [
        "features = [ 'Team-Contribution']\n",
        "target = ['SALARY']\n",
        "X_train = train2[features]\n",
        "y_train = train2[target]\n",
        "X_val = val2[features]\n",
        "y_val = val2[target]"
      ],
      "execution_count": 0,
      "outputs": []
    },
    {
      "cell_type": "code",
      "metadata": {
        "id": "oGXAZEFDCqTV",
        "colab_type": "code",
        "outputId": "1bc8468c-9c76-491b-f35a-1f990b476ba3",
        "colab": {
          "base_uri": "https://localhost:8080/",
          "height": 92
        }
      },
      "source": [
        "model = RandomForestRegressor()\n",
        "model.fit(X_train, y_train)\n",
        "y_pred = model.predict(X_val)\n",
        "mae2 = mean_absolute_error(y_val, y_pred)\n",
        "mae2"
      ],
      "execution_count": 42,
      "outputs": [
        {
          "output_type": "stream",
          "text": [
            "/usr/local/lib/python3.6/dist-packages/ipykernel_launcher.py:2: DataConversionWarning: A column-vector y was passed when a 1d array was expected. Please change the shape of y to (n_samples,), for example using ravel().\n",
            "  \n"
          ],
          "name": "stderr"
        },
        {
          "output_type": "execute_result",
          "data": {
            "text/plain": [
              "112558.33333333333"
            ]
          },
          "metadata": {
            "tags": []
          },
          "execution_count": 42
        }
      ]
    },
    {
      "cell_type": "code",
      "metadata": {
        "id": "Xb7kGw_kDa2M",
        "colab_type": "code",
        "outputId": "8e1c22db-1bc6-46da-b216-a2024d9e918d",
        "colab": {
          "base_uri": "https://localhost:8080/",
          "height": 35
        }
      },
      "source": [
        "\n",
        "train3, val3 = train_test_split(train3, train_size=0.80, test_size=0.20, \n",
        "                              random_state=25)\n",
        "\n",
        "train3.shape, val3.shape"
      ],
      "execution_count": 43,
      "outputs": [
        {
          "output_type": "execute_result",
          "data": {
            "text/plain": [
              "((45, 13), (12, 13))"
            ]
          },
          "metadata": {
            "tags": []
          },
          "execution_count": 43
        }
      ]
    },
    {
      "cell_type": "code",
      "metadata": {
        "id": "_p82mpdMCqVx",
        "colab_type": "code",
        "colab": {}
      },
      "source": [
        "features = [ 'Team-Contribution']\n",
        "target = ['SALARY']\n",
        "X_train = train3[features]\n",
        "y_train = train3[target]\n",
        "X_val = val3[features]\n",
        "y_val = val3[target]"
      ],
      "execution_count": 0,
      "outputs": []
    },
    {
      "cell_type": "code",
      "metadata": {
        "id": "InAq-n2zCqYU",
        "colab_type": "code",
        "outputId": "faa03296-ea70-4ac6-a23d-a605da48c845",
        "colab": {
          "base_uri": "https://localhost:8080/",
          "height": 92
        }
      },
      "source": [
        "model = RandomForestRegressor()\n",
        "model.fit(X_train, y_train)\n",
        "y_pred = model.predict(X_val)\n",
        "mae3 = mean_absolute_error(y_val, y_pred)\n",
        "mae3"
      ],
      "execution_count": 45,
      "outputs": [
        {
          "output_type": "stream",
          "text": [
            "/usr/local/lib/python3.6/dist-packages/ipykernel_launcher.py:2: DataConversionWarning: A column-vector y was passed when a 1d array was expected. Please change the shape of y to (n_samples,), for example using ravel().\n",
            "  \n"
          ],
          "name": "stderr"
        },
        {
          "output_type": "execute_result",
          "data": {
            "text/plain": [
              "565891.6666666666"
            ]
          },
          "metadata": {
            "tags": []
          },
          "execution_count": 45
        }
      ]
    },
    {
      "cell_type": "code",
      "metadata": {
        "id": "VwcR07FPDcMl",
        "colab_type": "code",
        "outputId": "c7e92773-bb19-466e-cb21-94d107cbe040",
        "colab": {
          "base_uri": "https://localhost:8080/",
          "height": 35
        }
      },
      "source": [
        "\n",
        "train4, val4 = train_test_split(train4, train_size=0.80, test_size=0.20, \n",
        "                              random_state=25)\n",
        "\n",
        "train4.shape, val4.shape"
      ],
      "execution_count": 46,
      "outputs": [
        {
          "output_type": "execute_result",
          "data": {
            "text/plain": [
              "((40, 13), (10, 13))"
            ]
          },
          "metadata": {
            "tags": []
          },
          "execution_count": 46
        }
      ]
    },
    {
      "cell_type": "code",
      "metadata": {
        "id": "3nuqfGpuCqaq",
        "colab_type": "code",
        "colab": {}
      },
      "source": [
        "features = [ 'Team-Contribution']\n",
        "target = ['SALARY']\n",
        "X_train = train4[features]\n",
        "y_train = train4[target]\n",
        "X_val = val4[features]\n",
        "y_val = val4[target]"
      ],
      "execution_count": 0,
      "outputs": []
    },
    {
      "cell_type": "code",
      "metadata": {
        "id": "6AKwKB1QCqdB",
        "colab_type": "code",
        "outputId": "326f3573-56ad-46bf-9c80-75217b5a97fe",
        "colab": {
          "base_uri": "https://localhost:8080/",
          "height": 92
        }
      },
      "source": [
        "model = RandomForestRegressor()\n",
        "model.fit(X_train, y_train)\n",
        "y_pred = model.predict(X_val)\n",
        "mae4 = mean_absolute_error(y_val, y_pred)\n",
        "mae4"
      ],
      "execution_count": 48,
      "outputs": [
        {
          "output_type": "stream",
          "text": [
            "/usr/local/lib/python3.6/dist-packages/ipykernel_launcher.py:2: DataConversionWarning: A column-vector y was passed when a 1d array was expected. Please change the shape of y to (n_samples,), for example using ravel().\n",
            "  \n"
          ],
          "name": "stderr"
        },
        {
          "output_type": "execute_result",
          "data": {
            "text/plain": [
              "826570.7980000001"
            ]
          },
          "metadata": {
            "tags": []
          },
          "execution_count": 48
        }
      ]
    },
    {
      "cell_type": "code",
      "metadata": {
        "id": "tHrCpWeeDcyg",
        "colab_type": "code",
        "outputId": "e5ca9385-6472-4a46-f80c-c97f6eef93a4",
        "colab": {
          "base_uri": "https://localhost:8080/",
          "height": 35
        }
      },
      "source": [
        "\n",
        "train5, val5 = train_test_split(train5, train_size=0.80, test_size=0.20, \n",
        "                              random_state=25)\n",
        "\n",
        "train5.shape, val5.shape"
      ],
      "execution_count": 49,
      "outputs": [
        {
          "output_type": "execute_result",
          "data": {
            "text/plain": [
              "((18, 13), (5, 13))"
            ]
          },
          "metadata": {
            "tags": []
          },
          "execution_count": 49
        }
      ]
    },
    {
      "cell_type": "code",
      "metadata": {
        "id": "vFCp42OhCqfs",
        "colab_type": "code",
        "colab": {}
      },
      "source": [
        "features = [ 'Team-Contribution']\n",
        "target = ['SALARY']\n",
        "X_train = train5[features]\n",
        "y_train = train5[target]\n",
        "X_val = val5[features]\n",
        "y_val = val5[target]"
      ],
      "execution_count": 0,
      "outputs": []
    },
    {
      "cell_type": "code",
      "metadata": {
        "id": "DzIxVlAtCqh7",
        "colab_type": "code",
        "outputId": "e9eccfc6-58fc-4082-c0b3-2b8c00c3e283",
        "colab": {
          "base_uri": "https://localhost:8080/",
          "height": 92
        }
      },
      "source": [
        "model = RandomForestRegressor()\n",
        "model.fit(X_train, y_train)\n",
        "y_pred = model.predict(X_val)\n",
        "mae5 = mean_absolute_error(y_val, y_pred)\n",
        "mae5"
      ],
      "execution_count": 51,
      "outputs": [
        {
          "output_type": "stream",
          "text": [
            "/usr/local/lib/python3.6/dist-packages/ipykernel_launcher.py:2: DataConversionWarning: A column-vector y was passed when a 1d array was expected. Please change the shape of y to (n_samples,), for example using ravel().\n",
            "  \n"
          ],
          "name": "stderr"
        },
        {
          "output_type": "execute_result",
          "data": {
            "text/plain": [
              "616359.2279999999"
            ]
          },
          "metadata": {
            "tags": []
          },
          "execution_count": 51
        }
      ]
    },
    {
      "cell_type": "code",
      "metadata": {
        "id": "ByB_FHD2Ddd-",
        "colab_type": "code",
        "outputId": "1e0e59fb-a085-40cb-c455-bf81ab8876e2",
        "colab": {
          "base_uri": "https://localhost:8080/",
          "height": 35
        }
      },
      "source": [
        "\n",
        "train6, val6 = train_test_split(train6, train_size=0.80, test_size=0.20, \n",
        "                              random_state=25)\n",
        "\n",
        "train6.shape, val6.shape"
      ],
      "execution_count": 52,
      "outputs": [
        {
          "output_type": "execute_result",
          "data": {
            "text/plain": [
              "((7, 14), (2, 14))"
            ]
          },
          "metadata": {
            "tags": []
          },
          "execution_count": 52
        }
      ]
    },
    {
      "cell_type": "code",
      "metadata": {
        "id": "xDDKGhv9CqkR",
        "colab_type": "code",
        "colab": {}
      },
      "source": [
        "features = [ 'Team-Contribution']\n",
        "target = ['SALARY']\n",
        "X_train = train6[features]\n",
        "y_train = train6[target]\n",
        "X_val = val6[features]\n",
        "y_val = val6[target]"
      ],
      "execution_count": 0,
      "outputs": []
    },
    {
      "cell_type": "code",
      "metadata": {
        "id": "ucOv6REOCqm4",
        "colab_type": "code",
        "outputId": "6c84193a-b162-46fe-edf4-37d282af7f66",
        "colab": {
          "base_uri": "https://localhost:8080/",
          "height": 92
        }
      },
      "source": [
        "model = RandomForestRegressor()\n",
        "model.fit(X_train, y_train)\n",
        "y_pred = model.predict(X_val)\n",
        "mae6 = mean_absolute_error(y_val, y_pred)\n",
        "mae6"
      ],
      "execution_count": 54,
      "outputs": [
        {
          "output_type": "stream",
          "text": [
            "/usr/local/lib/python3.6/dist-packages/ipykernel_launcher.py:2: DataConversionWarning: A column-vector y was passed when a 1d array was expected. Please change the shape of y to (n_samples,), for example using ravel().\n",
            "  \n"
          ],
          "name": "stderr"
        },
        {
          "output_type": "execute_result",
          "data": {
            "text/plain": [
              "1162264.6499999994"
            ]
          },
          "metadata": {
            "tags": []
          },
          "execution_count": 54
        }
      ]
    },
    {
      "cell_type": "code",
      "metadata": {
        "id": "d0Yss6JrDeI6",
        "colab_type": "code",
        "outputId": "9df30a15-6a5d-4d53-b9a1-560d8c918bb7",
        "colab": {
          "base_uri": "https://localhost:8080/",
          "height": 35
        }
      },
      "source": [
        "\n",
        "train7, val7 = train_test_split(train7, train_size=0.80, test_size=0.20, \n",
        "                              random_state=25)\n",
        "\n",
        "train7.shape, val7.shape"
      ],
      "execution_count": 55,
      "outputs": [
        {
          "output_type": "execute_result",
          "data": {
            "text/plain": [
              "((17, 13), (5, 13))"
            ]
          },
          "metadata": {
            "tags": []
          },
          "execution_count": 55
        }
      ]
    },
    {
      "cell_type": "code",
      "metadata": {
        "id": "c4ZeyYJdCxw1",
        "colab_type": "code",
        "colab": {}
      },
      "source": [
        "features = ['Team-Contribution']\n",
        "target = ['SALARY']\n",
        "X_train = train7[features]\n",
        "y_train = train7[target]\n",
        "X_val = val7[features]\n",
        "y_val = val7[target]"
      ],
      "execution_count": 0,
      "outputs": []
    },
    {
      "cell_type": "code",
      "metadata": {
        "id": "xGJxqTucC7Ig",
        "colab_type": "code",
        "outputId": "6f8b3054-f982-4ea0-f0e5-48ac4713ffb0",
        "colab": {
          "base_uri": "https://localhost:8080/",
          "height": 92
        }
      },
      "source": [
        "model = RandomForestRegressor()\n",
        "model.fit(X_train, y_train)\n",
        "y_pred = model.predict(X_val)\n",
        "mae7 = mean_absolute_error(y_val, y_pred)\n",
        "mae7"
      ],
      "execution_count": 57,
      "outputs": [
        {
          "output_type": "stream",
          "text": [
            "/usr/local/lib/python3.6/dist-packages/ipykernel_launcher.py:2: DataConversionWarning: A column-vector y was passed when a 1d array was expected. Please change the shape of y to (n_samples,), for example using ravel().\n",
            "  \n"
          ],
          "name": "stderr"
        },
        {
          "output_type": "execute_result",
          "data": {
            "text/plain": [
              "398518.17600000015"
            ]
          },
          "metadata": {
            "tags": []
          },
          "execution_count": 57
        }
      ]
    },
    {
      "cell_type": "code",
      "metadata": {
        "id": "D6XPDYFUUdt0",
        "colab_type": "code",
        "outputId": "4ecee852-a5fd-47d5-b8e2-006781c3b116",
        "colab": {
          "base_uri": "https://localhost:8080/",
          "height": 35
        }
      },
      "source": [
        "\n",
        "train8, val8 = train_test_split(train8, train_size=0.80, test_size=0.20, \n",
        "                              random_state=25)\n",
        "\n",
        "train8.shape, val8.shape"
      ],
      "execution_count": 58,
      "outputs": [
        {
          "output_type": "execute_result",
          "data": {
            "text/plain": [
              "((7, 13), (2, 13))"
            ]
          },
          "metadata": {
            "tags": []
          },
          "execution_count": 58
        }
      ]
    },
    {
      "cell_type": "code",
      "metadata": {
        "id": "VEKqt89FUigt",
        "colab_type": "code",
        "colab": {}
      },
      "source": [
        "features = [ 'Team-Contribution']\n",
        "target = ['SALARY']\n",
        "X_train = train8[features]\n",
        "y_train = train8[target]\n",
        "X_val = val8[features]\n",
        "y_val = val8[target]"
      ],
      "execution_count": 0,
      "outputs": []
    },
    {
      "cell_type": "code",
      "metadata": {
        "id": "a0oIOkXlUijh",
        "colab_type": "code",
        "outputId": "24394d08-2981-4c59-b318-bc007ba2b4ef",
        "colab": {
          "base_uri": "https://localhost:8080/",
          "height": 92
        }
      },
      "source": [
        "model = RandomForestRegressor()\n",
        "model.fit(X_train, y_train)\n",
        "y_pred = model.predict(X_val)\n",
        "mae8 = mean_absolute_error(y_val, y_pred)\n",
        "mae8"
      ],
      "execution_count": 60,
      "outputs": [
        {
          "output_type": "stream",
          "text": [
            "/usr/local/lib/python3.6/dist-packages/ipykernel_launcher.py:2: DataConversionWarning: A column-vector y was passed when a 1d array was expected. Please change the shape of y to (n_samples,), for example using ravel().\n",
            "  \n"
          ],
          "name": "stderr"
        },
        {
          "output_type": "execute_result",
          "data": {
            "text/plain": [
              "612313.7799999993"
            ]
          },
          "metadata": {
            "tags": []
          },
          "execution_count": 60
        }
      ]
    },
    {
      "cell_type": "code",
      "metadata": {
        "id": "ywo9w1_1O6cK",
        "colab_type": "code",
        "outputId": "b1e73558-4ec9-427b-a1f8-001cf7c36e75",
        "colab": {
          "base_uri": "https://localhost:8080/",
          "height": 35
        }
      },
      "source": [
        "\n",
        "train9, val9 = train_test_split(train10, train_size=0.80, test_size=0.20, \n",
        "                              random_state=25)\n",
        "\n",
        "train9.shape, val9.shape"
      ],
      "execution_count": 61,
      "outputs": [
        {
          "output_type": "execute_result",
          "data": {
            "text/plain": [
              "((3, 8), (1, 8))"
            ]
          },
          "metadata": {
            "tags": []
          },
          "execution_count": 61
        }
      ]
    },
    {
      "cell_type": "code",
      "metadata": {
        "id": "kPiDFjvEPBVZ",
        "colab_type": "code",
        "colab": {}
      },
      "source": [
        "features = [ 'Team-Contribution']\n",
        "target = ['SALARY']\n",
        "X_train = train10[features]\n",
        "y_train = train10[target]\n",
        "X_val = val9[features]\n",
        "y_val = val9[target]"
      ],
      "execution_count": 0,
      "outputs": []
    },
    {
      "cell_type": "code",
      "metadata": {
        "id": "yTx68reUPHQT",
        "colab_type": "code",
        "outputId": "0aec9c8f-eb15-4c4f-f3b3-1d525248fd18",
        "colab": {
          "base_uri": "https://localhost:8080/",
          "height": 92
        }
      },
      "source": [
        "model = RandomForestRegressor()\n",
        "model.fit(X_train, y_train)\n",
        "y_pred = model.predict(X_val)\n",
        "mae9 = mean_absolute_error(y_val, y_pred)\n",
        "mae9"
      ],
      "execution_count": 63,
      "outputs": [
        {
          "output_type": "stream",
          "text": [
            "/usr/local/lib/python3.6/dist-packages/ipykernel_launcher.py:2: DataConversionWarning: A column-vector y was passed when a 1d array was expected. Please change the shape of y to (n_samples,), for example using ravel().\n",
            "  \n"
          ],
          "name": "stderr"
        },
        {
          "output_type": "execute_result",
          "data": {
            "text/plain": [
              "1304585.7300000004"
            ]
          },
          "metadata": {
            "tags": []
          },
          "execution_count": 63
        }
      ]
    },
    {
      "cell_type": "code",
      "metadata": {
        "id": "NzV3SFKiGUAa",
        "colab_type": "code",
        "colab": {}
      },
      "source": [
        "# Now that we have all the different errors within different salary ranges, \n",
        "#we can find the error/mean of salary range within specific group, to find overall error"
      ],
      "execution_count": 0,
      "outputs": []
    },
    {
      "cell_type": "code",
      "metadata": {
        "id": "w98lQ3ksGUKA",
        "colab_type": "code",
        "colab": {}
      },
      "source": [
        "# Ranges, #0-1 M, 1M-3M, 3M-6M, 6M-8M, 8M-12M, 12M-14M, 14M-17M, 17M"
      ],
      "execution_count": 0,
      "outputs": []
    },
    {
      "cell_type": "code",
      "metadata": {
        "id": "YT74f1AdIXuL",
        "colab_type": "code",
        "colab": {}
      },
      "source": [
        "s1 = 445000"
      ],
      "execution_count": 0,
      "outputs": []
    },
    {
      "cell_type": "code",
      "metadata": {
        "id": "u48PVcCVIXwq",
        "colab_type": "code",
        "colab": {}
      },
      "source": [
        "s2 = 750000"
      ],
      "execution_count": 0,
      "outputs": []
    },
    {
      "cell_type": "code",
      "metadata": {
        "id": "AFJ5jTLuIXy-",
        "colab_type": "code",
        "colab": {}
      },
      "source": [
        "s3 = 2000000"
      ],
      "execution_count": 0,
      "outputs": []
    },
    {
      "cell_type": "code",
      "metadata": {
        "id": "uqML4VuqIX1b",
        "colab_type": "code",
        "colab": {}
      },
      "source": [
        "s4 = 4500000"
      ],
      "execution_count": 0,
      "outputs": []
    },
    {
      "cell_type": "code",
      "metadata": {
        "id": "4Lvu42RMIX9U",
        "colab_type": "code",
        "colab": {}
      },
      "source": [
        "s5 = 7000000"
      ],
      "execution_count": 0,
      "outputs": []
    },
    {
      "cell_type": "code",
      "metadata": {
        "id": "SmLUKxpXIX_y",
        "colab_type": "code",
        "colab": {}
      },
      "source": [
        "s6 = 9500000"
      ],
      "execution_count": 0,
      "outputs": []
    },
    {
      "cell_type": "code",
      "metadata": {
        "id": "AEbwN5cSIYOn",
        "colab_type": "code",
        "colab": {}
      },
      "source": [
        "s7 = 12500000"
      ],
      "execution_count": 0,
      "outputs": []
    },
    {
      "cell_type": "code",
      "metadata": {
        "id": "sZWGvSiTVdmF",
        "colab_type": "code",
        "colab": {}
      },
      "source": [
        "s8 = 15500000"
      ],
      "execution_count": 0,
      "outputs": []
    },
    {
      "cell_type": "code",
      "metadata": {
        "id": "LspLzQcYP5Bf",
        "colab_type": "code",
        "colab": {}
      },
      "source": [
        "s9 = 22500000"
      ],
      "execution_count": 0,
      "outputs": []
    },
    {
      "cell_type": "code",
      "metadata": {
        "id": "xGs7EPx2I2nB",
        "colab_type": "code",
        "outputId": "b6d20fa5-f5f0-4dcf-c8e0-4ac81159ed2e",
        "colab": {
          "base_uri": "https://localhost:8080/",
          "height": 182
        }
      },
      "source": [
        "print(mae1/s1)\n",
        "print(mae2/s2)\n",
        "print(mae3/s3)\n",
        "print(mae4/s4)\n",
        "print(mae5/s5)\n",
        "print(mae6/s6)\n",
        "print(mae7/s7)\n",
        "print(mae8/s8)\n",
        "mae9/s9"
      ],
      "execution_count": 75,
      "outputs": [
        {
          "output_type": "stream",
          "text": [
            "0.031203370786516853\n",
            "0.15007777777777778\n",
            "0.28294583333333334\n",
            "0.18368239955555557\n",
            "0.08805131828571428\n",
            "0.12234364736842099\n",
            "0.03188145408000001\n",
            "0.039504114838709636\n"
          ],
          "name": "stdout"
        },
        {
          "output_type": "execute_result",
          "data": {
            "text/plain": [
              "0.05798158800000002"
            ]
          },
          "metadata": {
            "tags": []
          },
          "execution_count": 75
        }
      ]
    },
    {
      "cell_type": "code",
      "metadata": {
        "id": "IXSBBmeGQ0i9",
        "colab_type": "code",
        "colab": {}
      },
      "source": [
        "# "
      ],
      "execution_count": 0,
      "outputs": []
    },
    {
      "cell_type": "code",
      "metadata": {
        "id": "LydVEFqaXaHn",
        "colab_type": "code",
        "colab": {}
      },
      "source": [
        "#What this shows, essentially, low salary players are not being compensated based on value metrics\n",
        "# But as you get above the 3M salary mark, players are being more fairly compensated based on their performance, \n",
        "# And essentially it is the majority of lower paid players who are skewing the error\n"
      ],
      "execution_count": 0,
      "outputs": []
    },
    {
      "cell_type": "code",
      "metadata": {
        "id": "59A00wBAlAE6",
        "colab_type": "code",
        "colab": {}
      },
      "source": [
        "# Baseline beaten again with different created variable\n",
        "    #Random Forest Regressor \n"
      ],
      "execution_count": 0,
      "outputs": []
    },
    {
      "cell_type": "code",
      "metadata": {
        "id": "f0WX_TgWrK6y",
        "colab_type": "code",
        "outputId": "3673bba6-bca7-4143-b7cc-cc31e434ee8e",
        "colab": {
          "base_uri": "https://localhost:8080/",
          "height": 92
        }
      },
      "source": [
        "features = ['Team-Contribution-Real']\n",
        "target = ['SALARY']\n",
        "X_train = train[features]\n",
        "y_train = train[target]\n",
        "X_val = val[features]\n",
        "y_val = val[target]\n",
        "\n",
        "model = RandomForestRegressor(n_estimators= 101, criterion='mae', min_samples_split=6,\n",
        "                              min_impurity_decrease=.02)\n",
        "model.fit(X_train, y_train)\n",
        "y_pred = model.predict(X_val)\n",
        "mae = mean_absolute_error(y_val, y_pred)\n",
        "mae"
      ],
      "execution_count": 77,
      "outputs": [
        {
          "output_type": "stream",
          "text": [
            "/usr/local/lib/python3.6/dist-packages/ipykernel_launcher.py:10: DataConversionWarning: A column-vector y was passed when a 1d array was expected. Please change the shape of y to (n_samples,), for example using ravel().\n",
            "  # Remove the CWD from sys.path while we load stuff.\n"
          ],
          "name": "stderr"
        },
        {
          "output_type": "execute_result",
          "data": {
            "text/plain": [
              "3357310.2203698303"
            ]
          },
          "metadata": {
            "tags": []
          },
          "execution_count": 77
        }
      ]
    },
    {
      "cell_type": "code",
      "metadata": {
        "id": "trCxeLDwuioe",
        "colab_type": "code",
        "colab": {}
      },
      "source": [
        "#'PA', 'AB', 'H', '1B', '2B', '3B', 'HR', 'TB', 'BB',"
      ],
      "execution_count": 0,
      "outputs": []
    },
    {
      "cell_type": "code",
      "metadata": {
        "id": "gnXV3CJcxO-z",
        "colab_type": "code",
        "outputId": "625f559f-b957-485b-f6de-92caf2852e72",
        "colab": {
          "base_uri": "https://localhost:8080/",
          "height": 331
        }
      },
      "source": [
        "train.hist(column='SALARY')"
      ],
      "execution_count": 79,
      "outputs": [
        {
          "output_type": "execute_result",
          "data": {
            "text/plain": [
              "array([[<matplotlib.axes._subplots.AxesSubplot object at 0x7f91841ffc88>]],\n",
              "      dtype=object)"
            ]
          },
          "metadata": {
            "tags": []
          },
          "execution_count": 79
        },
        {
          "output_type": "display_data",
          "data": {
            "image/png": "[encoded data removed]",
            "text/plain": [
              "<Figure size 432x288 with 1 Axes>"
            ]
          },
          "metadata": {
            "tags": [],
            "needs_background": "light"
          }
        }
      ]
    },
    {
      "cell_type": "code",
      "metadata": {
        "id": "1XaZ71ttyrDD",
        "colab_type": "code",
        "colab": {}
      },
      "source": [
        "pd.set_option('display.max_columns', None)\n",
        "pd.set_option('display.max_rows', None)"
      ],
      "execution_count": 0,
      "outputs": []
    },
    {
      "cell_type": "code",
      "metadata": {
        "id": "paAPEpc69I2L",
        "colab_type": "code",
        "outputId": "1376519e-b9e4-468e-cc89-8a9bdfccf1f6",
        "colab": {
          "base_uri": "https://localhost:8080/",
          "height": 336
        }
      },
      "source": [
        "print(train['Team-Contribution'].mean())\n",
        "train.hist(column='Team-Contribution')"
      ],
      "execution_count": 81,
      "outputs": [
        {
          "output_type": "stream",
          "text": [
            "986.9438867895034\n"
          ],
          "name": "stdout"
        },
        {
          "output_type": "execute_result",
          "data": {
            "text/plain": [
              "array([[<matplotlib.axes._subplots.AxesSubplot object at 0x7f9184116898>]],\n",
              "      dtype=object)"
            ]
          },
          "metadata": {
            "tags": []
          },
          "execution_count": 81
        },
        {
          "output_type": "display_data",
          "data": {
            "image/png": "[encoded data removed]",
            "text/plain": [
              "<Figure size 432x288 with 1 Axes>"
            ]
          },
          "metadata": {
            "tags": [],
            "needs_background": "light"
          }
        }
      ]
    },
    {
      "cell_type": "code",
      "metadata": {
        "id": "GTHrxygr5Ma_",
        "colab_type": "code",
        "outputId": "b27a32c2-cd18-4668-cbb5-1dba4e0982f0",
        "colab": {
          "base_uri": "https://localhost:8080/",
          "height": 182
        }
      },
      "source": [
        "\n",
        "print(train1['RBI'].mean())\n",
        "print(train2['RBI'].mean())\n",
        "print(train3['RBI'].mean())\n",
        "print(train4['RBI'].mean())\n",
        "print(train5['RBI'].mean())\n",
        "print(train6['RBI'].mean())\n",
        "print(train7['RBI'].mean())\n",
        "print(train8['RBI'].mean())\n",
        "train9['RBI'].mean()\n"
      ],
      "execution_count": 82,
      "outputs": [
        {
          "output_type": "stream",
          "text": [
            "48.75\n",
            "31.636363636363637\n",
            "38.4\n",
            "48.75\n",
            "57.333333333333336\n",
            "77.42857142857143\n",
            "73.41176470588235\n",
            "83.57142857142857\n"
          ],
          "name": "stdout"
        },
        {
          "output_type": "execute_result",
          "data": {
            "text/plain": [
              "112.0"
            ]
          },
          "metadata": {
            "tags": []
          },
          "execution_count": 82
        }
      ]
    },
    {
      "cell_type": "code",
      "metadata": {
        "id": "_MfuelQ3526k",
        "colab_type": "code",
        "outputId": "e0c66e76-a846-4cb4-b6d0-7cb06c5c599d",
        "colab": {
          "base_uri": "https://localhost:8080/",
          "height": 164
        }
      },
      "source": [
        "print(train1['R'].mean())\n",
        "print(train2['R'].mean())\n",
        "print(train3['R'].mean())\n",
        "print(train4['R'].mean())\n",
        "print(train5['R'].mean())\n",
        "print(train6['R'].mean())\n",
        "print(train7['R'].mean())\n",
        "print(train8['R'].mean())\n"
      ],
      "execution_count": 106,
      "outputs": [
        {
          "output_type": "stream",
          "text": [
            "55.03846153846154\n",
            "36.63636363636363\n",
            "41.93333333333333\n",
            "50.3\n",
            "60.27777777777778\n",
            "69.14285714285714\n",
            "63.1764705882353\n",
            "74.0\n"
          ],
          "name": "stdout"
        }
      ]
    },
    {
      "cell_type": "code",
      "metadata": {
        "id": "_MbtP-NGioLm",
        "colab_type": "code",
        "colab": {
          "base_uri": "https://localhost:8080/",
          "height": 182
        },
        "outputId": "9f43293a-99c3-4512-df4e-155c6e226ecd"
      },
      "source": [
        "\n",
        "print(train1['Overall_Impact'].mean())\n",
        "print(train2['Overall_Impact'].mean())\n",
        "print(train3['Overall_Impact'].mean())\n",
        "print(train4['Overall_Impact'].mean())\n",
        "print(train5['Overall_Impact'].mean())\n",
        "print(train6['Overall_Impact'].mean())\n",
        "print(train7['Overall_Impact'].mean())\n",
        "print(train8['Overall_Impact'].mean())\n",
        "train9['Overall_Impact'].mean()"
      ],
      "execution_count": 108,
      "outputs": [
        {
          "output_type": "stream",
          "text": [
            "148.88447691296034\n",
            "96.01145524255823\n",
            "115.1901915241421\n",
            "143.73857219317958\n",
            "169.6802573368173\n",
            "208.88354282941003\n",
            "199.00928168515293\n",
            "225.18639999999996\n"
          ],
          "name": "stdout"
        },
        {
          "output_type": "execute_result",
          "data": {
            "text/plain": [
              "294.79783066666664"
            ]
          },
          "metadata": {
            "tags": []
          },
          "execution_count": 108
        }
      ]
    },
    {
      "cell_type": "code",
      "metadata": {
        "id": "TpHH7lSSlnsr",
        "colab_type": "code",
        "colab": {
          "base_uri": "https://localhost:8080/",
          "height": 182
        },
        "outputId": "ee97d317-1253-4d61-aa03-0e5aeeacd50f"
      },
      "source": [
        "\n",
        "print(train1['Team-Contribution'].mean())\n",
        "print(train2['Team-Contribution'].mean())\n",
        "print(train3['Team-Contribution'].mean())\n",
        "print(train4['Team-Contribution'].mean())\n",
        "print(train5['Team-Contribution'].mean())\n",
        "print(train6['Team-Contribution'].mean())\n",
        "print(train7['Team-Contribution'].mean())\n",
        "print(train8['Team-Contribution'].mean())\n",
        "print(train9['Team-Contribution'].mean())\n",
        "\n"
      ],
      "execution_count": 87,
      "outputs": [
        {
          "output_type": "stream",
          "text": [
            "1000.2214693815397\n",
            "397.493995472851\n",
            "492.0536722669463\n",
            "774.7601252840052\n",
            "1111.0169214104726\n",
            "2459.923129469524\n",
            "1921.0325706287736\n",
            "2423.743821682837\n",
            "6386.3190153333335\n"
          ],
          "name": "stdout"
        }
      ]
    },
    {
      "cell_type": "code",
      "metadata": {
        "id": "0w-_5MT1lr24",
        "colab_type": "code",
        "colab": {
          "base_uri": "https://localhost:8080/",
          "height": 182
        },
        "outputId": "501fadd6-6957-4f83-8306-a20004934047"
      },
      "source": [
        "print(train1['Team-Contribution-Real'].mean())\n",
        "print(train2['Team-Contribution-Real'].mean())\n",
        "print(train3['Team-Contribution-Real'].mean())\n",
        "print(train4['Team-Contribution-Real'].mean())\n",
        "print(train5['Team-Contribution-Real'].mean())\n",
        "print(train6['Team-Contribution-Real'].mean())\n",
        "print(train7['Team-Contribution-Real'].mean())\n",
        "print(train8['Team-Contribution-Real'].mean())\n",
        "print(train9['Team-Contribution-Real'].mean())"
      ],
      "execution_count": 88,
      "outputs": [
        {
          "output_type": "stream",
          "text": [
            "1.0377360174145547\n",
            "0.41240250128129124\n",
            "0.5105087561540113\n",
            "0.8038184656853593\n",
            "1.152686990429804\n",
            "2.5521856005551213\n",
            "1.9930832822460707\n",
            "2.5146493429115147\n",
            "6.625845666666667\n"
          ],
          "name": "stdout"
        }
      ]
    },
    {
      "cell_type": "code",
      "metadata": {
        "id": "9XmCy-wnDGf1",
        "colab_type": "code",
        "colab": {}
      },
      "source": [
        "# the 390k-500k players are basically performing as well on average as players making 10+ times their salary...\n",
        "# underperforming sectors, overperforming sectors, \n",
        "#make chart of above data\n",
        "# Both A-Rod factor and Team Contribution have beaten the baseline...\n",
        "# Both Linear Regression and Random Forest Regressor were successful...now what?\n",
        "\n",
        "\n"
      ],
      "execution_count": 0,
      "outputs": []
    },
    {
      "cell_type": "code",
      "metadata": {
        "id": "TJNTjLAr-rRf",
        "colab_type": "code",
        "outputId": "c528dc7f-78ee-488c-eb54-96d25f1e7855",
        "colab": {
          "base_uri": "https://localhost:8080/",
          "height": 92
        }
      },
      "source": [
        "features = ['AVG', 'HR', 'R', 'RBI', 'PA']\n",
        "target = ['SALARY']\n",
        "X_train = train[features]\n",
        "y_train = train[target]\n",
        "X_val = val[features]\n",
        "y_val = val[target]\n",
        "\n",
        "model = RandomForestRegressor(n_estimators= 101, criterion='mae', min_samples_split=6,\n",
        "                              min_impurity_decrease=.02)\n",
        "model.fit(X_train, y_train)\n",
        "y_pred = model.predict(X_val)\n",
        "mae = mean_absolute_error(y_val, y_pred)\n",
        "mae"
      ],
      "execution_count": 89,
      "outputs": [
        {
          "output_type": "stream",
          "text": [
            "/usr/local/lib/python3.6/dist-packages/ipykernel_launcher.py:10: DataConversionWarning: A column-vector y was passed when a 1d array was expected. Please change the shape of y to (n_samples,), for example using ravel().\n",
            "  # Remove the CWD from sys.path while we load stuff.\n"
          ],
          "name": "stderr"
        },
        {
          "output_type": "execute_result",
          "data": {
            "text/plain": [
              "3916987.6450203843"
            ]
          },
          "metadata": {
            "tags": []
          },
          "execution_count": 89
        }
      ]
    },
    {
      "cell_type": "code",
      "metadata": {
        "id": "q9d10IcWpca2",
        "colab_type": "code",
        "colab": {}
      },
      "source": [
        "#Random Forest Regressor barely beats baseline with basic batting statistics"
      ],
      "execution_count": 0,
      "outputs": []
    },
    {
      "cell_type": "code",
      "metadata": {
        "id": "Y8mZxgY2pTRP",
        "colab_type": "code",
        "colab": {
          "base_uri": "https://localhost:8080/",
          "height": 35
        },
        "outputId": "abb9ff4a-cea3-4c38-8530-00cb36d0060d"
      },
      "source": [
        "features = [ 'AVG', 'R', 'PA', 'HR', 'RBI' ]\n",
        "target = ['SALARY']\n",
        "X_train = train[features]\n",
        "y_train = train[target]\n",
        "X_val = val[features]\n",
        "y_val = val[target]\n",
        "\n",
        "model = LinearRegression()\n",
        "model.fit(X_train, y_train)\n",
        "y_pred = model.predict(X_val)\n",
        "mae = mean_absolute_error(y_val, y_pred)\n",
        "mae"
      ],
      "execution_count": 91,
      "outputs": [
        {
          "output_type": "execute_result",
          "data": {
            "text/plain": [
              "3999015.704330033"
            ]
          },
          "metadata": {
            "tags": []
          },
          "execution_count": 91
        }
      ]
    },
    {
      "cell_type": "code",
      "metadata": {
        "id": "66RimTIiphV5",
        "colab_type": "code",
        "colab": {}
      },
      "source": [
        "#Linear Regression loses to baseline with basic batting statistics"
      ],
      "execution_count": 0,
      "outputs": []
    },
    {
      "cell_type": "code",
      "metadata": {
        "id": "F39cuuzV-4-c",
        "colab_type": "code",
        "outputId": "103c3e8c-9946-46fe-bd56-90f24250990c",
        "colab": {
          "base_uri": "https://localhost:8080/",
          "height": 92
        }
      },
      "source": [
        "features = ['Team-Contribution']\n",
        "target = ['SALARY']\n",
        "X_train = train[features]\n",
        "y_train = train[target]\n",
        "X_val = val[features]\n",
        "y_val = val[target]\n",
        "\n",
        "model = RandomForestRegressor(n_estimators= 101, criterion='mae', min_samples_split=6,\n",
        "                              min_impurity_decrease=.02)\n",
        "model.fit(X_train, y_train)\n",
        "y_pred = model.predict(X_val)\n",
        "mae = mean_absolute_error(y_val, y_pred)\n",
        "mae"
      ],
      "execution_count": 93,
      "outputs": [
        {
          "output_type": "stream",
          "text": [
            "/usr/local/lib/python3.6/dist-packages/ipykernel_launcher.py:10: DataConversionWarning: A column-vector y was passed when a 1d array was expected. Please change the shape of y to (n_samples,), for example using ravel().\n",
            "  # Remove the CWD from sys.path while we load stuff.\n"
          ],
          "name": "stderr"
        },
        {
          "output_type": "execute_result",
          "data": {
            "text/plain": [
              "3323511.4923558533"
            ]
          },
          "metadata": {
            "tags": []
          },
          "execution_count": 93
        }
      ]
    },
    {
      "cell_type": "code",
      "metadata": {
        "id": "v8wVXqx8ouLQ",
        "colab_type": "code",
        "colab": {}
      },
      "source": [
        "#Random Forest Regressor most successful with Team Contribution feature"
      ],
      "execution_count": 0,
      "outputs": []
    },
    {
      "cell_type": "code",
      "metadata": {
        "id": "2c02jAQ5oP09",
        "colab_type": "code",
        "colab": {
          "base_uri": "https://localhost:8080/",
          "height": 35
        },
        "outputId": "8450ce96-ed88-4b9c-f2c5-d52adbebddc6"
      },
      "source": [
        "features = ['A-Rod_Factor']\n",
        "target = ['SALARY']\n",
        "X_train = train[features]\n",
        "y_train = train[target]\n",
        "X_val = val[features]\n",
        "y_val = val[target]\n",
        "\n",
        "model = LinearRegression()\n",
        "model.fit(X_train, y_train)\n",
        "y_pred = model.predict(X_val)\n",
        "mae = mean_absolute_error(y_val, y_pred)\n",
        "mae"
      ],
      "execution_count": 95,
      "outputs": [
        {
          "output_type": "execute_result",
          "data": {
            "text/plain": [
              "3570808.433712526"
            ]
          },
          "metadata": {
            "tags": []
          },
          "execution_count": 95
        }
      ]
    },
    {
      "cell_type": "code",
      "metadata": {
        "id": "t9UWx0E9pDI1",
        "colab_type": "code",
        "colab": {}
      },
      "source": [
        "#Linear Regression Most Successful with A-Rod_Factor"
      ],
      "execution_count": 0,
      "outputs": []
    },
    {
      "cell_type": "code",
      "metadata": {
        "id": "Xd17PEnm2s6Y",
        "colab_type": "code",
        "outputId": "65b3b97b-09d2-4592-c7c0-ca64ca77a07f",
        "colab": {
          "base_uri": "https://localhost:8080/",
          "height": 54
        }
      },
      "source": [
        "print(df['Team-Contribution'].mean())\n",
        "df['SALARY'].mean()"
      ],
      "execution_count": 97,
      "outputs": [
        {
          "output_type": "stream",
          "text": [
            "963.8496232148908\n"
          ],
          "name": "stdout"
        },
        {
          "output_type": "execute_result",
          "data": {
            "text/plain": [
              "4349423.148367953"
            ]
          },
          "metadata": {
            "tags": []
          },
          "execution_count": 97
        }
      ]
    },
    {
      "cell_type": "code",
      "metadata": {
        "id": "sSAS10Ye29xB",
        "colab_type": "code",
        "colab": {}
      },
      "source": [
        "#How to assess value of a player? Salary should reflect overall contribution based on Team Contribution...\n",
        "#so a player should be paid 4349423.148367953 for every 963.8496232148908 Team Contribution...but are they?\n",
        "\n",
        "#The average Team Contribution in the 390k-500k range is 1000, and yet they are compensated on average about 1/10th of the average salary...\n",
        "#This comes to pass because a lot of the lower paid players in this range are either on their first contract, or completely overperforming\n",
        "#We can use Team Contribution as a relatively accurate measurement of ability, but we can not predict year to year salary ranges because...\n",
        "#Player performance varies from year to year, for many players, and this inconsistency is what makes value harder to predict in a one year \n",
        "#Data-Table. However, we can use things such as the Team Contribution on much larger datatables, to get a more accurate reflection of a players value\n",
        "#And over the years, a player's Team Contribution should move somewhat close to his numbers on the field, as his salary is adjusted based on a constant \n",
        "#re-evaluation. \n",
        "#The MAIN takeaway from this 2008 dataset, is that the 390k-500k players are performing equivalent or better than the 3-6 million dollar players in just \n",
        "#about every offensive category, RBI, HR, AVG, Runs scored, and subsequently, Team Contribution, which is essentially my way of weighting\n",
        "# those variables and a few more, and summing all of them up. \n",
        "# As the 390k-500k group comprises about 1/5th of the entire players in the training set, and val set, I did not feel that they should be removed.\n",
        "# And so I come to the conclusion of my findings. The real value creation in a team will most likely come from the free agent market, \n",
        "# the farm league system, and the discounted players. For many of these players, they are still highly skilled athletes, but have been\n",
        "#compromised for whatever reason, and are being taken advantage of. Their salaries are not fair, relative to what the majority of MLB players make\n",
        "# and so evaluating talent at this level, is where championships can be won.\n",
        "\n"
      ],
      "execution_count": 0,
      "outputs": []
    },
    {
      "cell_type": "code",
      "metadata": {
        "id": "Rp7qGRtpp1oK",
        "colab_type": "code",
        "colab": {}
      },
      "source": [
        "#Why is the lowest salary range, with larger sample sizing than other ranges, performing on average statistically above the 3-6 million dollar range?\n"
      ],
      "execution_count": 0,
      "outputs": []
    },
    {
      "cell_type": "code",
      "metadata": {
        "id": "-1O639qGqOQb",
        "colab_type": "code",
        "colab": {
          "base_uri": "https://localhost:8080/",
          "height": 1000
        },
        "outputId": "6211f6fe-265a-4fd0-bfb9-7d93c590792b"
      },
      "source": [
        "train1.head(55)"
      ],
      "execution_count": 98,
      "outputs": [
        {
          "output_type": "execute_result",
          "data": {
            "text/html": [
              "<div>\n",
              "<style scoped>\n",
              "    .dataframe tbody tr th:only-of-type {\n",
              "        vertical-align: middle;\n",
              "    }\n",
              "\n",
              "    .dataframe tbody tr th {\n",
              "        vertical-align: top;\n",
              "    }\n",
              "\n",
              "    .dataframe thead th {\n",
              "        text-align: right;\n",
              "    }\n",
              "</style>\n",
              "<table border=\"1\" class=\"dataframe\">\n",
              "  <thead>\n",
              "    <tr style=\"text-align: right;\">\n",
              "      <th></th>\n",
              "      <th>SALARY</th>\n",
              "      <th>Team_Impact_Ratio</th>\n",
              "      <th>Team-Contribution-Real</th>\n",
              "      <th>Team-Contribution</th>\n",
              "      <th>HR</th>\n",
              "      <th>AVG</th>\n",
              "      <th>RBI</th>\n",
              "      <th>R</th>\n",
              "      <th>PA</th>\n",
              "      <th>PLAYER</th>\n",
              "      <th>Overall_Impact</th>\n",
              "      <th>Overall_Impact_Ratio</th>\n",
              "      <th>A-Rod_Factor</th>\n",
              "    </tr>\n",
              "  </thead>\n",
              "  <tbody>\n",
              "    <tr>\n",
              "      <th>142</th>\n",
              "      <td>402500</td>\n",
              "      <td>0.326693</td>\n",
              "      <td>0.161713</td>\n",
              "      <td>155.866555</td>\n",
              "      <td>3</td>\n",
              "      <td>0.266</td>\n",
              "      <td>43</td>\n",
              "      <td>45</td>\n",
              "      <td>502</td>\n",
              "      <td>Jeff Keppinger</td>\n",
              "      <td>141.478867</td>\n",
              "      <td>0.955605</td>\n",
              "      <td>1213</td>\n",
              "    </tr>\n",
              "    <tr>\n",
              "      <th>304</th>\n",
              "      <td>400000</td>\n",
              "      <td>0.061728</td>\n",
              "      <td>0.011062</td>\n",
              "      <td>10.662296</td>\n",
              "      <td>3</td>\n",
              "      <td>0.225</td>\n",
              "      <td>15</td>\n",
              "      <td>11</td>\n",
              "      <td>162</td>\n",
              "      <td>Kevin Cash</td>\n",
              "      <td>44.169300</td>\n",
              "      <td>0.298337</td>\n",
              "      <td>420</td>\n",
              "    </tr>\n",
              "    <tr>\n",
              "      <th>108</th>\n",
              "      <td>400500</td>\n",
              "      <td>0.289855</td>\n",
              "      <td>0.055616</td>\n",
              "      <td>53.605922</td>\n",
              "      <td>5</td>\n",
              "      <td>0.255</td>\n",
              "      <td>18</td>\n",
              "      <td>24</td>\n",
              "      <td>207</td>\n",
              "      <td>Miguel Montero</td>\n",
              "      <td>68.681082</td>\n",
              "      <td>0.463899</td>\n",
              "      <td>583</td>\n",
              "    </tr>\n",
              "    <tr>\n",
              "      <th>112</th>\n",
              "      <td>406000</td>\n",
              "      <td>0.533662</td>\n",
              "      <td>0.755243</td>\n",
              "      <td>727.941115</td>\n",
              "      <td>9</td>\n",
              "      <td>0.280</td>\n",
              "      <td>47</td>\n",
              "      <td>98</td>\n",
              "      <td>609</td>\n",
              "      <td>Jacoby Ellsbury</td>\n",
              "      <td>185.583498</td>\n",
              "      <td>1.253505</td>\n",
              "      <td>1572</td>\n",
              "    </tr>\n",
              "    <tr>\n",
              "      <th>190</th>\n",
              "      <td>400000</td>\n",
              "      <td>0.093960</td>\n",
              "      <td>0.009249</td>\n",
              "      <td>8.914234</td>\n",
              "      <td>2</td>\n",
              "      <td>0.187</td>\n",
              "      <td>14</td>\n",
              "      <td>12</td>\n",
              "      <td>149</td>\n",
              "      <td>Guillermo Quiroz</td>\n",
              "      <td>35.061098</td>\n",
              "      <td>0.236817</td>\n",
              "      <td>345</td>\n",
              "    </tr>\n",
              "    <tr>\n",
              "      <th>136</th>\n",
              "      <td>430000</td>\n",
              "      <td>0.400651</td>\n",
              "      <td>1.373439</td>\n",
              "      <td>1323.788871</td>\n",
              "      <td>12</td>\n",
              "      <td>0.287</td>\n",
              "      <td>69</td>\n",
              "      <td>86</td>\n",
              "      <td>614</td>\n",
              "      <td>Kelly Johnson</td>\n",
              "      <td>219.194861</td>\n",
              "      <td>1.480529</td>\n",
              "      <td>1769</td>\n",
              "    </tr>\n",
              "    <tr>\n",
              "      <th>278</th>\n",
              "      <td>404100</td>\n",
              "      <td>0.287841</td>\n",
              "      <td>1.282397</td>\n",
              "      <td>1236.038254</td>\n",
              "      <td>21</td>\n",
              "      <td>0.261</td>\n",
              "      <td>55</td>\n",
              "      <td>67</td>\n",
              "      <td>403</td>\n",
              "      <td>Kelly Shoppach</td>\n",
              "      <td>165.993711</td>\n",
              "      <td>1.121188</td>\n",
              "      <td>1327</td>\n",
              "    </tr>\n",
              "    <tr>\n",
              "      <th>192</th>\n",
              "      <td>415000</td>\n",
              "      <td>0.365333</td>\n",
              "      <td>0.353462</td>\n",
              "      <td>340.684203</td>\n",
              "      <td>3</td>\n",
              "      <td>0.277</td>\n",
              "      <td>39</td>\n",
              "      <td>53</td>\n",
              "      <td>375</td>\n",
              "      <td>Erick Aybar</td>\n",
              "      <td>120.491200</td>\n",
              "      <td>0.813846</td>\n",
              "      <td>948</td>\n",
              "    </tr>\n",
              "    <tr>\n",
              "      <th>139</th>\n",
              "      <td>405000</td>\n",
              "      <td>0.365385</td>\n",
              "      <td>0.693602</td>\n",
              "      <td>668.527722</td>\n",
              "      <td>15</td>\n",
              "      <td>0.254</td>\n",
              "      <td>51</td>\n",
              "      <td>54</td>\n",
              "      <td>416</td>\n",
              "      <td>Josh Willingham</td>\n",
              "      <td>151.288983</td>\n",
              "      <td>1.021866</td>\n",
              "      <td>1283</td>\n",
              "    </tr>\n",
              "    <tr>\n",
              "      <th>275</th>\n",
              "      <td>500000</td>\n",
              "      <td>0.400000</td>\n",
              "      <td>2.211112</td>\n",
              "      <td>2131.179208</td>\n",
              "      <td>29</td>\n",
              "      <td>0.277</td>\n",
              "      <td>95</td>\n",
              "      <td>92</td>\n",
              "      <td>685</td>\n",
              "      <td>Jorge Cantu</td>\n",
              "      <td>277.983400</td>\n",
              "      <td>1.877611</td>\n",
              "      <td>2141</td>\n",
              "    </tr>\n",
              "    <tr>\n",
              "      <th>319</th>\n",
              "      <td>400000</td>\n",
              "      <td>0.234043</td>\n",
              "      <td>0.000305</td>\n",
              "      <td>0.293989</td>\n",
              "      <td>0</td>\n",
              "      <td>0.227</td>\n",
              "      <td>3</td>\n",
              "      <td>3</td>\n",
              "      <td>47</td>\n",
              "      <td>Nathan Haynes</td>\n",
              "      <td>9.160300</td>\n",
              "      <td>0.061872</td>\n",
              "      <td>95</td>\n",
              "    </tr>\n",
              "    <tr>\n",
              "      <th>287</th>\n",
              "      <td>402500</td>\n",
              "      <td>0.366269</td>\n",
              "      <td>0.589354</td>\n",
              "      <td>568.048416</td>\n",
              "      <td>14</td>\n",
              "      <td>0.268</td>\n",
              "      <td>61</td>\n",
              "      <td>65</td>\n",
              "      <td>587</td>\n",
              "      <td>Lastings Milledge</td>\n",
              "      <td>189.784563</td>\n",
              "      <td>1.281880</td>\n",
              "      <td>1584</td>\n",
              "    </tr>\n",
              "    <tr>\n",
              "      <th>40</th>\n",
              "      <td>406000</td>\n",
              "      <td>0.421613</td>\n",
              "      <td>1.669610</td>\n",
              "      <td>1609.253431</td>\n",
              "      <td>18</td>\n",
              "      <td>0.290</td>\n",
              "      <td>76</td>\n",
              "      <td>93</td>\n",
              "      <td>657</td>\n",
              "      <td>Matt Kemp</td>\n",
              "      <td>247.886265</td>\n",
              "      <td>1.674322</td>\n",
              "      <td>1947</td>\n",
              "    </tr>\n",
              "    <tr>\n",
              "      <th>131</th>\n",
              "      <td>500000</td>\n",
              "      <td>0.360294</td>\n",
              "      <td>0.017114</td>\n",
              "      <td>16.494866</td>\n",
              "      <td>2</td>\n",
              "      <td>0.286</td>\n",
              "      <td>12</td>\n",
              "      <td>13</td>\n",
              "      <td>136</td>\n",
              "      <td>Mike Sweeney</td>\n",
              "      <td>43.478900</td>\n",
              "      <td>0.293674</td>\n",
              "      <td>353</td>\n",
              "    </tr>\n",
              "    <tr>\n",
              "      <th>235</th>\n",
              "      <td>407000</td>\n",
              "      <td>0.250000</td>\n",
              "      <td>0.214543</td>\n",
              "      <td>206.786884</td>\n",
              "      <td>2</td>\n",
              "      <td>0.269</td>\n",
              "      <td>28</td>\n",
              "      <td>36</td>\n",
              "      <td>236</td>\n",
              "      <td>Ronny Cedeno</td>\n",
              "      <td>72.874966</td>\n",
              "      <td>0.492227</td>\n",
              "      <td>612</td>\n",
              "    </tr>\n",
              "    <tr>\n",
              "      <th>97</th>\n",
              "      <td>435000</td>\n",
              "      <td>0.260000</td>\n",
              "      <td>0.006606</td>\n",
              "      <td>6.366781</td>\n",
              "      <td>1</td>\n",
              "      <td>0.261</td>\n",
              "      <td>8</td>\n",
              "      <td>10</td>\n",
              "      <td>100</td>\n",
              "      <td>Jamie Burke</td>\n",
              "      <td>26.675400</td>\n",
              "      <td>0.180176</td>\n",
              "      <td>234</td>\n",
              "    </tr>\n",
              "    <tr>\n",
              "      <th>334</th>\n",
              "      <td>455000</td>\n",
              "      <td>0.453372</td>\n",
              "      <td>3.281097</td>\n",
              "      <td>3162.484496</td>\n",
              "      <td>20</td>\n",
              "      <td>0.306</td>\n",
              "      <td>87</td>\n",
              "      <td>106</td>\n",
              "      <td>697</td>\n",
              "      <td>Nick Markakis</td>\n",
              "      <td>265.392700</td>\n",
              "      <td>1.792568</td>\n",
              "      <td>2231</td>\n",
              "    </tr>\n",
              "    <tr>\n",
              "      <th>196</th>\n",
              "      <td>410000</td>\n",
              "      <td>0.257485</td>\n",
              "      <td>0.943644</td>\n",
              "      <td>909.531176</td>\n",
              "      <td>23</td>\n",
              "      <td>0.260</td>\n",
              "      <td>84</td>\n",
              "      <td>71</td>\n",
              "      <td>668</td>\n",
              "      <td>Kevin Kouzmanoff</td>\n",
              "      <td>247.879500</td>\n",
              "      <td>1.674277</td>\n",
              "      <td>1914</td>\n",
              "    </tr>\n",
              "    <tr>\n",
              "      <th>72</th>\n",
              "      <td>425000</td>\n",
              "      <td>0.249330</td>\n",
              "      <td>0.163406</td>\n",
              "      <td>157.499194</td>\n",
              "      <td>4</td>\n",
              "      <td>0.219</td>\n",
              "      <td>31</td>\n",
              "      <td>47</td>\n",
              "      <td>373</td>\n",
              "      <td>Carlos Ruiz</td>\n",
              "      <td>88.974707</td>\n",
              "      <td>0.600971</td>\n",
              "      <td>906</td>\n",
              "    </tr>\n",
              "    <tr>\n",
              "      <th>282</th>\n",
              "      <td>404400</td>\n",
              "      <td>0.268182</td>\n",
              "      <td>0.289163</td>\n",
              "      <td>278.709179</td>\n",
              "      <td>8</td>\n",
              "      <td>0.248</td>\n",
              "      <td>41</td>\n",
              "      <td>54</td>\n",
              "      <td>440</td>\n",
              "      <td>Franklin Gutierrez</td>\n",
              "      <td>135.881064</td>\n",
              "      <td>0.917795</td>\n",
              "      <td>1143</td>\n",
              "    </tr>\n",
              "    <tr>\n",
              "      <th>231</th>\n",
              "      <td>401200</td>\n",
              "      <td>0.356354</td>\n",
              "      <td>0.114950</td>\n",
              "      <td>110.794986</td>\n",
              "      <td>10</td>\n",
              "      <td>0.253</td>\n",
              "      <td>33</td>\n",
              "      <td>33</td>\n",
              "      <td>362</td>\n",
              "      <td>Willy Aybar</td>\n",
              "      <td>116.279934</td>\n",
              "      <td>0.785401</td>\n",
              "      <td>1006</td>\n",
              "    </tr>\n",
              "    <tr>\n",
              "      <th>141</th>\n",
              "      <td>400000</td>\n",
              "      <td>0.281690</td>\n",
              "      <td>0.024333</td>\n",
              "      <td>23.453663</td>\n",
              "      <td>1</td>\n",
              "      <td>0.290</td>\n",
              "      <td>9</td>\n",
              "      <td>10</td>\n",
              "      <td>71</td>\n",
              "      <td>Chris Denorfia</td>\n",
              "      <td>23.203718</td>\n",
              "      <td>0.156727</td>\n",
              "      <td>193</td>\n",
              "    </tr>\n",
              "    <tr>\n",
              "      <th>64</th>\n",
              "      <td>412000</td>\n",
              "      <td>0.423656</td>\n",
              "      <td>1.770171</td>\n",
              "      <td>1706.178896</td>\n",
              "      <td>15</td>\n",
              "      <td>0.318</td>\n",
              "      <td>69</td>\n",
              "      <td>71</td>\n",
              "      <td>465</td>\n",
              "      <td>Ryan Doumit</td>\n",
              "      <td>199.589700</td>\n",
              "      <td>1.348108</td>\n",
              "      <td>1464</td>\n",
              "    </tr>\n",
              "    <tr>\n",
              "      <th>54</th>\n",
              "      <td>400000</td>\n",
              "      <td>-0.029851</td>\n",
              "      <td>-0.000223</td>\n",
              "      <td>-0.214544</td>\n",
              "      <td>1</td>\n",
              "      <td>0.083</td>\n",
              "      <td>5</td>\n",
              "      <td>4</td>\n",
              "      <td>67</td>\n",
              "      <td>Corky Miller</td>\n",
              "      <td>9.077448</td>\n",
              "      <td>0.061313</td>\n",
              "      <td>126</td>\n",
              "    </tr>\n",
              "    <tr>\n",
              "      <th>163</th>\n",
              "      <td>410000</td>\n",
              "      <td>0.326087</td>\n",
              "      <td>1.663163</td>\n",
              "      <td>1603.039003</td>\n",
              "      <td>33</td>\n",
              "      <td>0.231</td>\n",
              "      <td>77</td>\n",
              "      <td>77</td>\n",
              "      <td>598</td>\n",
              "      <td>Jack Cust</td>\n",
              "      <td>214.290600</td>\n",
              "      <td>1.447404</td>\n",
              "      <td>2014</td>\n",
              "    </tr>\n",
              "    <tr>\n",
              "      <th>285</th>\n",
              "      <td>419500</td>\n",
              "      <td>0.431373</td>\n",
              "      <td>1.813555</td>\n",
              "      <td>1747.993943</td>\n",
              "      <td>12</td>\n",
              "      <td>0.300</td>\n",
              "      <td>75</td>\n",
              "      <td>87</td>\n",
              "      <td>612</td>\n",
              "      <td>Conor Jackson</td>\n",
              "      <td>221.286344</td>\n",
              "      <td>1.494656</td>\n",
              "      <td>1797</td>\n",
              "    </tr>\n",
              "    <tr>\n",
              "      <th>198</th>\n",
              "      <td>465000</td>\n",
              "      <td>0.321888</td>\n",
              "      <td>0.416910</td>\n",
              "      <td>401.838484</td>\n",
              "      <td>14</td>\n",
              "      <td>0.283</td>\n",
              "      <td>51</td>\n",
              "      <td>51</td>\n",
              "      <td>466</td>\n",
              "      <td>Ryan Zimmerman</td>\n",
              "      <td>168.080700</td>\n",
              "      <td>1.135284</td>\n",
              "      <td>1349</td>\n",
              "    </tr>\n",
              "    <tr>\n",
              "      <th>271</th>\n",
              "      <td>411000</td>\n",
              "      <td>0.328725</td>\n",
              "      <td>1.151925</td>\n",
              "      <td>1110.282839</td>\n",
              "      <td>13</td>\n",
              "      <td>0.289</td>\n",
              "      <td>90</td>\n",
              "      <td>66</td>\n",
              "      <td>651</td>\n",
              "      <td>James Loney</td>\n",
              "      <td>243.683275</td>\n",
              "      <td>1.645934</td>\n",
              "      <td>1895</td>\n",
              "    </tr>\n",
              "    <tr>\n",
              "      <th>34</th>\n",
              "      <td>410000</td>\n",
              "      <td>-0.061224</td>\n",
              "      <td>0.001719</td>\n",
              "      <td>1.656425</td>\n",
              "      <td>1</td>\n",
              "      <td>0.176</td>\n",
              "      <td>9</td>\n",
              "      <td>6</td>\n",
              "      <td>98</td>\n",
              "      <td>Rob Bowen</td>\n",
              "      <td>24.566186</td>\n",
              "      <td>0.165930</td>\n",
              "      <td>220</td>\n",
              "    </tr>\n",
              "    <tr>\n",
              "      <th>138</th>\n",
              "      <td>406000</td>\n",
              "      <td>0.392265</td>\n",
              "      <td>0.171256</td>\n",
              "      <td>165.065355</td>\n",
              "      <td>17</td>\n",
              "      <td>0.248</td>\n",
              "      <td>31</td>\n",
              "      <td>42</td>\n",
              "      <td>362</td>\n",
              "      <td>Scott Hairston</td>\n",
              "      <td>130.991001</td>\n",
              "      <td>0.884765</td>\n",
              "      <td>1092</td>\n",
              "    </tr>\n",
              "    <tr>\n",
              "      <th>146</th>\n",
              "      <td>412100</td>\n",
              "      <td>0.435937</td>\n",
              "      <td>1.309422</td>\n",
              "      <td>1262.085606</td>\n",
              "      <td>9</td>\n",
              "      <td>0.273</td>\n",
              "      <td>67</td>\n",
              "      <td>85</td>\n",
              "      <td>640</td>\n",
              "      <td>B.J. Upton</td>\n",
              "      <td>196.089981</td>\n",
              "      <td>1.324470</td>\n",
              "      <td>1816</td>\n",
              "    </tr>\n",
              "    <tr>\n",
              "      <th>189</th>\n",
              "      <td>450000</td>\n",
              "      <td>0.379725</td>\n",
              "      <td>1.088303</td>\n",
              "      <td>1048.960574</td>\n",
              "      <td>26</td>\n",
              "      <td>0.251</td>\n",
              "      <td>68</td>\n",
              "      <td>75</td>\n",
              "      <td>582</td>\n",
              "      <td>Edwin Encarnacion</td>\n",
              "      <td>212.883700</td>\n",
              "      <td>1.437901</td>\n",
              "      <td>1807</td>\n",
              "    </tr>\n",
              "    <tr>\n",
              "      <th>152</th>\n",
              "      <td>400000</td>\n",
              "      <td>0.185185</td>\n",
              "      <td>0.188512</td>\n",
              "      <td>181.696870</td>\n",
              "      <td>8</td>\n",
              "      <td>0.256</td>\n",
              "      <td>59</td>\n",
              "      <td>23</td>\n",
              "      <td>324</td>\n",
              "      <td>Jesus Flores</td>\n",
              "      <td>126.072900</td>\n",
              "      <td>0.851547</td>\n",
              "      <td>949</td>\n",
              "    </tr>\n",
              "    <tr>\n",
              "      <th>286</th>\n",
              "      <td>432500</td>\n",
              "      <td>0.321330</td>\n",
              "      <td>0.256061</td>\n",
              "      <td>246.804172</td>\n",
              "      <td>3</td>\n",
              "      <td>0.306</td>\n",
              "      <td>37</td>\n",
              "      <td>43</td>\n",
              "      <td>361</td>\n",
              "      <td>Howie Kendrick</td>\n",
              "      <td>126.081439</td>\n",
              "      <td>0.851604</td>\n",
              "      <td>952</td>\n",
              "    </tr>\n",
              "    <tr>\n",
              "      <th>315</th>\n",
              "      <td>480000</td>\n",
              "      <td>0.556619</td>\n",
              "      <td>1.315547</td>\n",
              "      <td>1267.989150</td>\n",
              "      <td>14</td>\n",
              "      <td>0.293</td>\n",
              "      <td>58</td>\n",
              "      <td>102</td>\n",
              "      <td>627</td>\n",
              "      <td>Shane Victorino</td>\n",
              "      <td>219.189882</td>\n",
              "      <td>1.480496</td>\n",
              "      <td>1771</td>\n",
              "    </tr>\n",
              "    <tr>\n",
              "      <th>103</th>\n",
              "      <td>439000</td>\n",
              "      <td>0.634921</td>\n",
              "      <td>2.801742</td>\n",
              "      <td>2700.457557</td>\n",
              "      <td>33</td>\n",
              "      <td>0.301</td>\n",
              "      <td>67</td>\n",
              "      <td>125</td>\n",
              "      <td>693</td>\n",
              "      <td>Hanley Ramirez</td>\n",
              "      <td>269.596300</td>\n",
              "      <td>1.820961</td>\n",
              "      <td>2289</td>\n",
              "    </tr>\n",
              "    <tr>\n",
              "      <th>195</th>\n",
              "      <td>405500</td>\n",
              "      <td>0.034043</td>\n",
              "      <td>0.005675</td>\n",
              "      <td>5.469619</td>\n",
              "      <td>1</td>\n",
              "      <td>0.169</td>\n",
              "      <td>14</td>\n",
              "      <td>22</td>\n",
              "      <td>235</td>\n",
              "      <td>Tony Pena</td>\n",
              "      <td>42.741057</td>\n",
              "      <td>0.288690</td>\n",
              "      <td>441</td>\n",
              "    </tr>\n",
              "    <tr>\n",
              "      <th>197</th>\n",
              "      <td>457000</td>\n",
              "      <td>0.542700</td>\n",
              "      <td>3.046570</td>\n",
              "      <td>2936.435323</td>\n",
              "      <td>17</td>\n",
              "      <td>0.326</td>\n",
              "      <td>83</td>\n",
              "      <td>118</td>\n",
              "      <td>726</td>\n",
              "      <td>Dustin Pedroia</td>\n",
              "      <td>283.596149</td>\n",
              "      <td>1.915521</td>\n",
              "      <td>2176</td>\n",
              "    </tr>\n",
              "    <tr>\n",
              "      <th>38</th>\n",
              "      <td>430000</td>\n",
              "      <td>0.397388</td>\n",
              "      <td>0.911332</td>\n",
              "      <td>878.387230</td>\n",
              "      <td>23</td>\n",
              "      <td>0.257</td>\n",
              "      <td>65</td>\n",
              "      <td>67</td>\n",
              "      <td>536</td>\n",
              "      <td>Luke Scott</td>\n",
              "      <td>202.382500</td>\n",
              "      <td>1.366972</td>\n",
              "      <td>1677</td>\n",
              "    </tr>\n",
              "    <tr>\n",
              "      <th>41</th>\n",
              "      <td>424500</td>\n",
              "      <td>0.481544</td>\n",
              "      <td>2.348086</td>\n",
              "      <td>2263.201874</td>\n",
              "      <td>20</td>\n",
              "      <td>0.305</td>\n",
              "      <td>77</td>\n",
              "      <td>90</td>\n",
              "      <td>596</td>\n",
              "      <td>Andre Ethier</td>\n",
              "      <td>241.594174</td>\n",
              "      <td>1.631823</td>\n",
              "      <td>1908</td>\n",
              "    </tr>\n",
              "    <tr>\n",
              "      <th>143</th>\n",
              "      <td>425000</td>\n",
              "      <td>0.551825</td>\n",
              "      <td>3.849495</td>\n",
              "      <td>3710.333897</td>\n",
              "      <td>26</td>\n",
              "      <td>0.276</td>\n",
              "      <td>94</td>\n",
              "      <td>113</td>\n",
              "      <td>685</td>\n",
              "      <td>Nate McLouth</td>\n",
              "      <td>273.795409</td>\n",
              "      <td>1.849323</td>\n",
              "      <td>2183</td>\n",
              "    </tr>\n",
              "    <tr>\n",
              "      <th>279</th>\n",
              "      <td>403000</td>\n",
              "      <td>0.162393</td>\n",
              "      <td>0.005443</td>\n",
              "      <td>5.246462</td>\n",
              "      <td>2</td>\n",
              "      <td>0.235</td>\n",
              "      <td>8</td>\n",
              "      <td>10</td>\n",
              "      <td>117</td>\n",
              "      <td>Ruben Gotay</td>\n",
              "      <td>30.184566</td>\n",
              "      <td>0.203879</td>\n",
              "      <td>295</td>\n",
              "    </tr>\n",
              "    <tr>\n",
              "      <th>37</th>\n",
              "      <td>423500</td>\n",
              "      <td>0.146154</td>\n",
              "      <td>0.010562</td>\n",
              "      <td>10.180050</td>\n",
              "      <td>2</td>\n",
              "      <td>0.212</td>\n",
              "      <td>18</td>\n",
              "      <td>8</td>\n",
              "      <td>130</td>\n",
              "      <td>Ronny Paulino</td>\n",
              "      <td>37.862400</td>\n",
              "      <td>0.255738</td>\n",
              "      <td>335</td>\n",
              "    </tr>\n",
              "    <tr>\n",
              "      <th>147</th>\n",
              "      <td>403000</td>\n",
              "      <td>0.309309</td>\n",
              "      <td>0.810333</td>\n",
              "      <td>781.039092</td>\n",
              "      <td>12</td>\n",
              "      <td>0.268</td>\n",
              "      <td>48</td>\n",
              "      <td>55</td>\n",
              "      <td>333</td>\n",
              "      <td>Jeff Baker</td>\n",
              "      <td>131.682502</td>\n",
              "      <td>0.889436</td>\n",
              "      <td>1035</td>\n",
              "    </tr>\n",
              "    <tr>\n",
              "      <th>33</th>\n",
              "      <td>405000</td>\n",
              "      <td>0.478873</td>\n",
              "      <td>0.634006</td>\n",
              "      <td>611.086804</td>\n",
              "      <td>9</td>\n",
              "      <td>0.305</td>\n",
              "      <td>40</td>\n",
              "      <td>42</td>\n",
              "      <td>284</td>\n",
              "      <td>Mike Fontenot</td>\n",
              "      <td>115.599494</td>\n",
              "      <td>0.780805</td>\n",
              "      <td>926</td>\n",
              "    </tr>\n",
              "    <tr>\n",
              "      <th>185</th>\n",
              "      <td>409500</td>\n",
              "      <td>0.104167</td>\n",
              "      <td>0.000214</td>\n",
              "      <td>0.206744</td>\n",
              "      <td>0</td>\n",
              "      <td>0.190</td>\n",
              "      <td>2</td>\n",
              "      <td>4</td>\n",
              "      <td>48</td>\n",
              "      <td>Robby Hammock</td>\n",
              "      <td>7.753100</td>\n",
              "      <td>0.052368</td>\n",
              "      <td>96</td>\n",
              "    </tr>\n",
              "    <tr>\n",
              "      <th>240</th>\n",
              "      <td>406000</td>\n",
              "      <td>0.356223</td>\n",
              "      <td>1.297145</td>\n",
              "      <td>1250.252562</td>\n",
              "      <td>22</td>\n",
              "      <td>0.248</td>\n",
              "      <td>85</td>\n",
              "      <td>85</td>\n",
              "      <td>699</td>\n",
              "      <td>Chris Young</td>\n",
              "      <td>253.483409</td>\n",
              "      <td>1.712128</td>\n",
              "      <td>2081</td>\n",
              "    </tr>\n",
              "    <tr>\n",
              "      <th>324</th>\n",
              "      <td>415000</td>\n",
              "      <td>0.298361</td>\n",
              "      <td>0.137881</td>\n",
              "      <td>132.896891</td>\n",
              "      <td>9</td>\n",
              "      <td>0.263</td>\n",
              "      <td>36</td>\n",
              "      <td>28</td>\n",
              "      <td>305</td>\n",
              "      <td>Chris Coste</td>\n",
              "      <td>106.484885</td>\n",
              "      <td>0.719241</td>\n",
              "      <td>854</td>\n",
              "    </tr>\n",
              "    <tr>\n",
              "      <th>153</th>\n",
              "      <td>402500</td>\n",
              "      <td>0.327087</td>\n",
              "      <td>0.791910</td>\n",
              "      <td>763.282194</td>\n",
              "      <td>10</td>\n",
              "      <td>0.288</td>\n",
              "      <td>60</td>\n",
              "      <td>71</td>\n",
              "      <td>587</td>\n",
              "      <td>Yunel Escobar</td>\n",
              "      <td>186.290848</td>\n",
              "      <td>1.258283</td>\n",
              "      <td>1612</td>\n",
              "    </tr>\n",
              "    <tr>\n",
              "      <th>220</th>\n",
              "      <td>411000</td>\n",
              "      <td>0.495948</td>\n",
              "      <td>6.605677</td>\n",
              "      <td>6366.879582</td>\n",
              "      <td>37</td>\n",
              "      <td>0.299</td>\n",
              "      <td>113</td>\n",
              "      <td>104</td>\n",
              "      <td>617</td>\n",
              "      <td>Ryan Ludwick</td>\n",
              "      <td>301.798635</td>\n",
              "      <td>2.038468</td>\n",
              "      <td>2281</td>\n",
              "    </tr>\n",
              "    <tr>\n",
              "      <th>330</th>\n",
              "      <td>401500</td>\n",
              "      <td>0.107527</td>\n",
              "      <td>0.010302</td>\n",
              "      <td>9.929834</td>\n",
              "      <td>1</td>\n",
              "      <td>0.241</td>\n",
              "      <td>10</td>\n",
              "      <td>9</td>\n",
              "      <td>93</td>\n",
              "      <td>Felix Pie</td>\n",
              "      <td>25.970800</td>\n",
              "      <td>0.175417</td>\n",
              "      <td>230</td>\n",
              "    </tr>\n",
              "    <tr>\n",
              "      <th>335</th>\n",
              "      <td>400000</td>\n",
              "      <td>0.558875</td>\n",
              "      <td>5.328558</td>\n",
              "      <td>5135.928480</td>\n",
              "      <td>36</td>\n",
              "      <td>0.288</td>\n",
              "      <td>100</td>\n",
              "      <td>96</td>\n",
              "      <td>569</td>\n",
              "      <td>Carlos Quentin</td>\n",
              "      <td>261.895400</td>\n",
              "      <td>1.768946</td>\n",
              "      <td>2069</td>\n",
              "    </tr>\n",
              "  </tbody>\n",
              "</table>\n",
              "</div>"
            ],
            "text/plain": [
              "     SALARY  Team_Impact_Ratio  Team-Contribution-Real  Team-Contribution  HR  \\\n",
              "142  402500           0.326693                0.161713         155.866555   3   \n",
              "304  400000           0.061728                0.011062          10.662296   3   \n",
              "108  400500           0.289855                0.055616          53.605922   5   \n",
              "112  406000           0.533662                0.755243         727.941115   9   \n",
              "190  400000           0.093960                0.009249           8.914234   2   \n",
              "136  430000           0.400651                1.373439        1323.788871  12   \n",
              "278  404100           0.287841                1.282397        1236.038254  21   \n",
              "192  415000           0.365333                0.353462         340.684203   3   \n",
              "139  405000           0.365385                0.693602         668.527722  15   \n",
              "275  500000           0.400000                2.211112        2131.179208  29   \n",
              "319  400000           0.234043                0.000305           0.293989   0   \n",
              "287  402500           0.366269                0.589354         568.048416  14   \n",
              "40   406000           0.421613                1.669610        1609.253431  18   \n",
              "131  500000           0.360294                0.017114          16.494866   2   \n",
              "235  407000           0.250000                0.214543         206.786884   2   \n",
              "97   435000           0.260000                0.006606           6.366781   1   \n",
              "334  455000           0.453372                3.281097        3162.484496  20   \n",
              "196  410000           0.257485                0.943644         909.531176  23   \n",
              "72   425000           0.249330                0.163406         157.499194   4   \n",
              "282  404400           0.268182                0.289163         278.709179   8   \n",
              "231  401200           0.356354                0.114950         110.794986  10   \n",
              "141  400000           0.281690                0.024333          23.453663   1   \n",
              "64   412000           0.423656                1.770171        1706.178896  15   \n",
              "54   400000          -0.029851               -0.000223          -0.214544   1   \n",
              "163  410000           0.326087                1.663163        1603.039003  33   \n",
              "285  419500           0.431373                1.813555        1747.993943  12   \n",
              "198  465000           0.321888                0.416910         401.838484  14   \n",
              "271  411000           0.328725                1.151925        1110.282839  13   \n",
              "34   410000          -0.061224                0.001719           1.656425   1   \n",
              "138  406000           0.392265                0.171256         165.065355  17   \n",
              "146  412100           0.435937                1.309422        1262.085606   9   \n",
              "189  450000           0.379725                1.088303        1048.960574  26   \n",
              "152  400000           0.185185                0.188512         181.696870   8   \n",
              "286  432500           0.321330                0.256061         246.804172   3   \n",
              "315  480000           0.556619                1.315547        1267.989150  14   \n",
              "103  439000           0.634921                2.801742        2700.457557  33   \n",
              "195  405500           0.034043                0.005675           5.469619   1   \n",
              "197  457000           0.542700                3.046570        2936.435323  17   \n",
              "38   430000           0.397388                0.911332         878.387230  23   \n",
              "41   424500           0.481544                2.348086        2263.201874  20   \n",
              "143  425000           0.551825                3.849495        3710.333897  26   \n",
              "279  403000           0.162393                0.005443           5.246462   2   \n",
              "37   423500           0.146154                0.010562          10.180050   2   \n",
              "147  403000           0.309309                0.810333         781.039092  12   \n",
              "33   405000           0.478873                0.634006         611.086804   9   \n",
              "185  409500           0.104167                0.000214           0.206744   0   \n",
              "240  406000           0.356223                1.297145        1250.252562  22   \n",
              "324  415000           0.298361                0.137881         132.896891   9   \n",
              "153  402500           0.327087                0.791910         763.282194  10   \n",
              "220  411000           0.495948                6.605677        6366.879582  37   \n",
              "330  401500           0.107527                0.010302           9.929834   1   \n",
              "335  400000           0.558875                5.328558        5135.928480  36   \n",
              "\n",
              "       AVG  RBI    R   PA              PLAYER  Overall_Impact  \\\n",
              "142  0.266   43   45  502      Jeff Keppinger      141.478867   \n",
              "304  0.225   15   11  162          Kevin Cash       44.169300   \n",
              "108  0.255   18   24  207      Miguel Montero       68.681082   \n",
              "112  0.280   47   98  609     Jacoby Ellsbury      185.583498   \n",
              "190  0.187   14   12  149    Guillermo Quiroz       35.061098   \n",
              "136  0.287   69   86  614       Kelly Johnson      219.194861   \n",
              "278  0.261   55   67  403      Kelly Shoppach      165.993711   \n",
              "192  0.277   39   53  375         Erick Aybar      120.491200   \n",
              "139  0.254   51   54  416     Josh Willingham      151.288983   \n",
              "275  0.277   95   92  685         Jorge Cantu      277.983400   \n",
              "319  0.227    3    3   47       Nathan Haynes        9.160300   \n",
              "287  0.268   61   65  587   Lastings Milledge      189.784563   \n",
              "40   0.290   76   93  657           Matt Kemp      247.886265   \n",
              "131  0.286   12   13  136        Mike Sweeney       43.478900   \n",
              "235  0.269   28   36  236        Ronny Cedeno       72.874966   \n",
              "97   0.261    8   10  100         Jamie Burke       26.675400   \n",
              "334  0.306   87  106  697       Nick Markakis      265.392700   \n",
              "196  0.260   84   71  668    Kevin Kouzmanoff      247.879500   \n",
              "72   0.219   31   47  373         Carlos Ruiz       88.974707   \n",
              "282  0.248   41   54  440  Franklin Gutierrez      135.881064   \n",
              "231  0.253   33   33  362         Willy Aybar      116.279934   \n",
              "141  0.290    9   10   71      Chris Denorfia       23.203718   \n",
              "64   0.318   69   71  465         Ryan Doumit      199.589700   \n",
              "54   0.083    5    4   67        Corky Miller        9.077448   \n",
              "163  0.231   77   77  598           Jack Cust      214.290600   \n",
              "285  0.300   75   87  612       Conor Jackson      221.286344   \n",
              "198  0.283   51   51  466      Ryan Zimmerman      168.080700   \n",
              "271  0.289   90   66  651         James Loney      243.683275   \n",
              "34   0.176    9    6   98           Rob Bowen       24.566186   \n",
              "138  0.248   31   42  362      Scott Hairston      130.991001   \n",
              "146  0.273   67   85  640          B.J. Upton      196.089981   \n",
              "189  0.251   68   75  582   Edwin Encarnacion      212.883700   \n",
              "152  0.256   59   23  324        Jesus Flores      126.072900   \n",
              "286  0.306   37   43  361      Howie Kendrick      126.081439   \n",
              "315  0.293   58  102  627     Shane Victorino      219.189882   \n",
              "103  0.301   67  125  693      Hanley Ramirez      269.596300   \n",
              "195  0.169   14   22  235           Tony Pena       42.741057   \n",
              "197  0.326   83  118  726      Dustin Pedroia      283.596149   \n",
              "38   0.257   65   67  536          Luke Scott      202.382500   \n",
              "41   0.305   77   90  596        Andre Ethier      241.594174   \n",
              "143  0.276   94  113  685        Nate McLouth      273.795409   \n",
              "279  0.235    8   10  117         Ruben Gotay       30.184566   \n",
              "37   0.212   18    8  130       Ronny Paulino       37.862400   \n",
              "147  0.268   48   55  333          Jeff Baker      131.682502   \n",
              "33   0.305   40   42  284       Mike Fontenot      115.599494   \n",
              "185  0.190    2    4   48       Robby Hammock        7.753100   \n",
              "240  0.248   85   85  699         Chris Young      253.483409   \n",
              "324  0.263   36   28  305         Chris Coste      106.484885   \n",
              "153  0.288   60   71  587       Yunel Escobar      186.290848   \n",
              "220  0.299  113  104  617        Ryan Ludwick      301.798635   \n",
              "330  0.241   10    9   93           Felix Pie       25.970800   \n",
              "335  0.288  100   96  569      Carlos Quentin      261.895400   \n",
              "\n",
              "     Overall_Impact_Ratio  A-Rod_Factor  \n",
              "142              0.955605          1213  \n",
              "304              0.298337           420  \n",
              "108              0.463899           583  \n",
              "112              1.253505          1572  \n",
              "190              0.236817           345  \n",
              "136              1.480529          1769  \n",
              "278              1.121188          1327  \n",
              "192              0.813846           948  \n",
              "139              1.021866          1283  \n",
              "275              1.877611          2141  \n",
              "319              0.061872            95  \n",
              "287              1.281880          1584  \n",
              "40               1.674322          1947  \n",
              "131              0.293674           353  \n",
              "235              0.492227           612  \n",
              "97               0.180176           234  \n",
              "334              1.792568          2231  \n",
              "196              1.674277          1914  \n",
              "72               0.600971           906  \n",
              "282              0.917795          1143  \n",
              "231              0.785401          1006  \n",
              "141              0.156727           193  \n",
              "64               1.348108          1464  \n",
              "54               0.061313           126  \n",
              "163              1.447404          2014  \n",
              "285              1.494656          1797  \n",
              "198              1.135284          1349  \n",
              "271              1.645934          1895  \n",
              "34               0.165930           220  \n",
              "138              0.884765          1092  \n",
              "146              1.324470          1816  \n",
              "189              1.437901          1807  \n",
              "152              0.851547           949  \n",
              "286              0.851604           952  \n",
              "315              1.480496          1771  \n",
              "103              1.820961          2289  \n",
              "195              0.288690           441  \n",
              "197              1.915521          2176  \n",
              "38               1.366972          1677  \n",
              "41               1.631823          1908  \n",
              "143              1.849323          2183  \n",
              "279              0.203879           295  \n",
              "37               0.255738           335  \n",
              "147              0.889436          1035  \n",
              "33               0.780805           926  \n",
              "185              0.052368            96  \n",
              "240              1.712128          2081  \n",
              "324              0.719241           854  \n",
              "153              1.258283          1612  \n",
              "220              2.038468          2281  \n",
              "330              0.175417           230  \n",
              "335              1.768946          2069  "
            ]
          },
          "metadata": {
            "tags": []
          },
          "execution_count": 98
        }
      ]
    },
    {
      "cell_type": "code",
      "metadata": {
        "id": "i_W5E0kpyBK8",
        "colab_type": "code",
        "colab": {}
      },
      "source": [
        "# 16 of the high performing players in this salary range were on their 1st contract,\n",
        "# 5 of the high performing players in this salary range were barely on their 2nd contract\n",
        "# the other 3 high performing players in this salary range had 2008 as one of their peak performing years statistically\n"
      ],
      "execution_count": 0,
      "outputs": []
    },
    {
      "cell_type": "code",
      "metadata": {
        "id": "40i2ItOH_VJe",
        "colab_type": "code",
        "colab": {}
      },
      "source": [
        "####\n",
        "\n",
        "\n",
        "\n",
        "#Graph1: Comparing Lowest salary range to salary range 4, based on performance"
      ],
      "execution_count": 0,
      "outputs": []
    },
    {
      "cell_type": "code",
      "metadata": {
        "id": "ZHsacQzk-7UF",
        "colab_type": "code",
        "colab": {
          "base_uri": "https://localhost:8080/",
          "height": 109
        },
        "outputId": "05912f78-48cf-48e5-d49f-0da14eb74387"
      },
      "source": [
        "print(train1['SALARY'].mean())\n",
        "print(train1['RBI'].mean())\n",
        "print(train1['HR'].mean())\n",
        "print(train1['Team-Contribution'].mean())\n",
        "print(train1['A-Rod_Factor'].mean())"
      ],
      "execution_count": 158,
      "outputs": [
        {
          "output_type": "stream",
          "text": [
            "418813.46153846156\n",
            "48.75\n",
            "12.134615384615385\n",
            "1000.2214693815397\n",
            "1222.2884615384614\n"
          ],
          "name": "stdout"
        }
      ]
    },
    {
      "cell_type": "code",
      "metadata": {
        "id": "NYcW-0Ik_KdG",
        "colab_type": "code",
        "colab": {
          "base_uri": "https://localhost:8080/",
          "height": 109
        },
        "outputId": "6cc7bc5f-5021-400f-be3c-3a8d41e27902"
      },
      "source": [
        "print(train4['SALARY'].mean())\n",
        "print(train4['RBI'].mean())\n",
        "print(train4['HR'].mean())\n",
        "print(train4['Team-Contribution'].mean())\n",
        "print(train4['A-Rod_Factor'].mean())"
      ],
      "execution_count": 159,
      "outputs": [
        {
          "output_type": "stream",
          "text": [
            "4467166.625\n",
            "48.75\n",
            "11.325\n",
            "774.7601252840052\n",
            "1202.875\n"
          ],
          "name": "stdout"
        }
      ]
    },
    {
      "cell_type": "code",
      "metadata": {
        "id": "RRV7XQFHocRb",
        "colab_type": "code",
        "colab": {}
      },
      "source": [
        "import plotly.express as px"
      ],
      "execution_count": 0,
      "outputs": []
    },
    {
      "cell_type": "code",
      "metadata": {
        "id": "H5pkJNsVqDEc",
        "colab_type": "code",
        "colab": {
          "base_uri": "https://localhost:8080/",
          "height": 112
        },
        "outputId": "a2c2ba9a-7523-44fc-eef8-a9107a62af96"
      },
      "source": [
        "data = {'SALARY_Mean': [418813.46153846156 , 4467166.625], \n",
        "        'RBI_Mean': [48.75, 48.75], \n",
        "        'HR_Mean': [12.134615384615385 \t, 11.325],\n",
        "        'Team-Contribution_Mean': [1000.2214693815397, 774.7601252840052],\n",
        "        'A_Rod_Factor_Mean': [1222.2884615384614, 1202.875]}\n",
        "\n",
        "train15 = pd.DataFrame(data, index = ['Low Salary', '10XLow Salary'])\n",
        "train15.head()"
      ],
      "execution_count": 165,
      "outputs": [
        {
          "output_type": "execute_result",
          "data": {
            "text/html": [
              "<div>\n",
              "<style scoped>\n",
              "    .dataframe tbody tr th:only-of-type {\n",
              "        vertical-align: middle;\n",
              "    }\n",
              "\n",
              "    .dataframe tbody tr th {\n",
              "        vertical-align: top;\n",
              "    }\n",
              "\n",
              "    .dataframe thead th {\n",
              "        text-align: right;\n",
              "    }\n",
              "</style>\n",
              "<table border=\"1\" class=\"dataframe\">\n",
              "  <thead>\n",
              "    <tr style=\"text-align: right;\">\n",
              "      <th></th>\n",
              "      <th>SALARY_Mean</th>\n",
              "      <th>RBI_Mean</th>\n",
              "      <th>HR_Mean</th>\n",
              "      <th>Team-Contribution_Mean</th>\n",
              "      <th>A_Rod_Factor_Mean</th>\n",
              "    </tr>\n",
              "  </thead>\n",
              "  <tbody>\n",
              "    <tr>\n",
              "      <th>Low Salary</th>\n",
              "      <td>4.188135e+05</td>\n",
              "      <td>48.75</td>\n",
              "      <td>12.134615</td>\n",
              "      <td>1000.221469</td>\n",
              "      <td>1222.288462</td>\n",
              "    </tr>\n",
              "    <tr>\n",
              "      <th>10XLow Salary</th>\n",
              "      <td>4.467167e+06</td>\n",
              "      <td>48.75</td>\n",
              "      <td>11.325000</td>\n",
              "      <td>774.760125</td>\n",
              "      <td>1202.875000</td>\n",
              "    </tr>\n",
              "  </tbody>\n",
              "</table>\n",
              "</div>"
            ],
            "text/plain": [
              "                SALARY_Mean  RBI_Mean    HR_Mean  Team-Contribution_Mean  \\\n",
              "Low Salary     4.188135e+05     48.75  12.134615             1000.221469   \n",
              "10XLow Salary  4.467167e+06     48.75  11.325000              774.760125   \n",
              "\n",
              "               A_Rod_Factor_Mean  \n",
              "Low Salary           1222.288462  \n",
              "10XLow Salary        1202.875000  "
            ]
          },
          "metadata": {
            "tags": []
          },
          "execution_count": 165
        }
      ]
    },
    {
      "cell_type": "code",
      "metadata": {
        "id": "y7A9PD8SBLij",
        "colab_type": "code",
        "colab": {}
      },
      "source": [
        "#######\n",
        "\n",
        "\n",
        "# Graph 2, Compare different salary ranges to implied performance in HR, RBI, Team Contribution, A-Rod Factor, and Overall Impact "
      ],
      "execution_count": 0,
      "outputs": []
    },
    {
      "cell_type": "code",
      "metadata": {
        "id": "ZdFearb4Ene7",
        "colab_type": "code",
        "colab": {
          "base_uri": "https://localhost:8080/",
          "height": 182
        },
        "outputId": "6f9273c7-2817-4245-a5d5-06b900304c68"
      },
      "source": [
        "print(train1['SALARY'].mean())\n",
        "print(train2['SALARY'].mean())\n",
        "print(train3['SALARY'].mean())\n",
        "print(train4['SALARY'].mean())\n",
        "print(train5['SALARY'].mean())\n",
        "print(train6['SALARY'].mean())\n",
        "print(train7['SALARY'].mean())\n",
        "print(train8['SALARY'].mean())\n",
        "train9['SALARY'].mean()"
      ],
      "execution_count": 109,
      "outputs": [
        {
          "output_type": "stream",
          "text": [
            "418813.46153846156\n",
            "819318.1818181818\n",
            "1932133.3333333333\n",
            "4467166.625\n",
            "6995146.0\n",
            "9513147.142857144\n",
            "12694544.411764706\n",
            "15766882.0\n"
          ],
          "name": "stdout"
        },
        {
          "output_type": "execute_result",
          "data": {
            "text/plain": [
              "21850910.666666668"
            ]
          },
          "metadata": {
            "tags": []
          },
          "execution_count": 109
        }
      ]
    },
    {
      "cell_type": "code",
      "metadata": {
        "id": "w1zga8QiK4_A",
        "colab_type": "code",
        "colab": {
          "base_uri": "https://localhost:8080/",
          "height": 109
        },
        "outputId": "fb15a356-5414-4f75-a220-91fadb15e463"
      },
      "source": [
        "print(df.loc[:,\"SALARY\"].std())\n",
        "print(df.loc[:,\"RBI\"].std())\n",
        "print(df.loc[:,\"HR\"].std())\n",
        "print(df.loc[:,\"Team-Contribution\"].std())\n",
        "df.loc[:,\"A-Rod_Factor\"].std()"
      ],
      "execution_count": 144,
      "outputs": [
        {
          "output_type": "stream",
          "text": [
            "4910061.413772842\n",
            "30.835266447961395\n",
            "10.270893675260792\n",
            "1443.2378675200953\n"
          ],
          "name": "stdout"
        },
        {
          "output_type": "execute_result",
          "data": {
            "text/plain": [
              "648.1729463908162"
            ]
          },
          "metadata": {
            "tags": []
          },
          "execution_count": 144
        }
      ]
    },
    {
      "cell_type": "code",
      "metadata": {
        "id": "pFodS6GxGHVa",
        "colab_type": "code",
        "colab": {
          "base_uri": "https://localhost:8080/",
          "height": 109
        },
        "outputId": "48ab3124-7192-4c2e-8c81-3fe6566a9780"
      },
      "source": [
        "print(df['SALARY'].mean())\n",
        "print(df['HR'].mean())\n",
        "print(df['RBI'].mean())\n",
        "print(df['Team-Contribution'].mean())\n",
        "print(df['A-Rod_Factor'].mean())\n"
      ],
      "execution_count": 145,
      "outputs": [
        {
          "output_type": "stream",
          "text": [
            "4349423.148367953\n",
            "11.750741839762611\n",
            "50.32047477744807\n",
            "963.8496232148908\n",
            "1227.1839762611276\n"
          ],
          "name": "stdout"
        }
      ]
    },
    {
      "cell_type": "code",
      "metadata": {
        "id": "Ja4WF1tZGyY1",
        "colab_type": "code",
        "colab": {
          "base_uri": "https://localhost:8080/",
          "height": 90
        },
        "outputId": "906bca09-7703-455b-da65-9a3771afb92a"
      },
      "source": [
        "HR_per_dollar =(df['HR'].mean() /df['SALARY'].mean())\n",
        "RBI_per_dollar = (df['RBI'].mean() /df['SALARY'].mean())\n",
        "TeamCont_per_dollar = (df['Team-Contribution'].mean() / df['SALARY'].mean())\n",
        "ARod_per_dollar = (df['A-Rod_Factor'].mean() / df['SALARY'].mean())\n",
        "\n",
        "\n",
        "print(HR_per_dollar)\n",
        "print(RBI_per_dollar)\n",
        "print(TeamCont_per_dollar)\n",
        "print(ARod_per_dollar)\n"
      ],
      "execution_count": 146,
      "outputs": [
        {
          "output_type": "stream",
          "text": [
            "2.7016782315539657e-06\n",
            "1.1569459457245491e-05\n",
            "0.00022160401283939437\n",
            "0.00028214867452517413\n"
          ],
          "name": "stdout"
        }
      ]
    },
    {
      "cell_type": "code",
      "metadata": {
        "id": "XXF_2ZyJIKfx",
        "colab_type": "code",
        "colab": {}
      },
      "source": [
        "# These ratios represent for each dollar in salary, what the performance should be in various categories\n",
        "# Now, We can find if and how much a specific salary range overperformed or underperformed in these areas\n"
      ],
      "execution_count": 0,
      "outputs": []
    },
    {
      "cell_type": "code",
      "metadata": {
        "id": "oO0LP792KtU4",
        "colab_type": "code",
        "colab": {
          "base_uri": "https://localhost:8080/",
          "height": 90
        },
        "outputId": "61021bc6-f903-4bb3-a049-6b4f36a7aae7"
      },
      "source": [
        "print(train1['SALARY'].mean() * HR_per_dollar)\n",
        "print(train1['SALARY'].mean() * RBI_per_dollar)\n",
        "print(train1['SALARY'].mean() * TeamCont_per_dollar)\n",
        "print(train1['SALARY'].mean() * ARod_per_dollar)\n",
        "\n"
      ],
      "execution_count": 147,
      "outputs": [
        {
          "output_type": "stream",
          "text": [
            "1.1314992121202256\n",
            "4.845445363417875\n",
            "92.81074370808044\n",
            "118.16766304637693\n"
          ],
          "name": "stdout"
        }
      ]
    },
    {
      "cell_type": "code",
      "metadata": {
        "id": "2foVpU7EMuh7",
        "colab_type": "code",
        "colab": {
          "base_uri": "https://localhost:8080/",
          "height": 90
        },
        "outputId": "8d6e3d58-3e5e-4c6a-bf8b-6f0faea90627"
      },
      "source": [
        "print(train1['HR'].mean())\n",
        "print(train1['RBI'].mean())\n",
        "print(train1['Team-Contribution'].mean())\n",
        "print(train1['A-Rod_Factor'].mean())\n",
        "\n"
      ],
      "execution_count": 148,
      "outputs": [
        {
          "output_type": "stream",
          "text": [
            "12.134615384615385\n",
            "48.75\n",
            "1000.2214693815397\n",
            "1222.2884615384614\n"
          ],
          "name": "stdout"
        }
      ]
    },
    {
      "cell_type": "code",
      "metadata": {
        "id": "Q8drd6fGYtd2",
        "colab_type": "code",
        "colab": {}
      },
      "source": [
        "##### Data for graph 2"
      ],
      "execution_count": 0,
      "outputs": []
    },
    {
      "cell_type": "code",
      "metadata": {
        "id": "U5cE3FaF2i8s",
        "colab_type": "code",
        "colab": {
          "base_uri": "https://localhost:8080/",
          "height": 332
        },
        "outputId": "5effff34-7c7b-4c7c-b669-22a8475ac152"
      },
      "source": [
        "data = {'HR_Performance': [10.724369274528527 , 3.100759267445607, 1.4303952097052228, 0.9383663710278615,\n",
        "                           0.6731821168228469, 0.7336992134544228, 0.584863763822233, 0.5097604142566489,\n",
        "                           0.558998670337645], \n",
        "        'RBI_Performance': [10.060994675134006, 3.337497105260791, 1.7178334801575033, 0.9432556159493833,\n",
        "                            0.7084306463959162, 0.7034997765520059, 0.49984514266756375, 0.45814076870525045,\n",
        "                            0.4430323227584592], \n",
        "        'Team-Contribution_Performance': [10.777000909803688, 2.1892752111727725, 1.1492056801432546, 0.78263179666765,\n",
        "                                          0.7167146302590363, 1.1668625496159326, 0.682873073916102, 0.6936865552800868,\n",
        "                                          1.318874426287654],\n",
        "        'A_Rod_Factor_Performance': [10.343679734605171, 3.597910331410708, 1.7639218795275542, 0.9543558335300286,\n",
        "                                     0.7083528276555381, 0.6337268166922276, 0.45129120412829943, 0.40847477248956254,\n",
        "                                     0.37684605001471483],\n",
        "        }\n",
        "\n",
        "train20 = pd.DataFrame(data, index = ['Salary1', 'Salary2', 'Salary3', 'Salary4',\n",
        "                                      'Salary5', 'Salary6', 'Salary7', 'Salary8',\n",
        "                                      'Salary9'])\n",
        "train20.head(9)"
      ],
      "execution_count": 168,
      "outputs": [
        {
          "output_type": "execute_result",
          "data": {
            "text/html": [
              "<div>\n",
              "<style scoped>\n",
              "    .dataframe tbody tr th:only-of-type {\n",
              "        vertical-align: middle;\n",
              "    }\n",
              "\n",
              "    .dataframe tbody tr th {\n",
              "        vertical-align: top;\n",
              "    }\n",
              "\n",
              "    .dataframe thead th {\n",
              "        text-align: right;\n",
              "    }\n",
              "</style>\n",
              "<table border=\"1\" class=\"dataframe\">\n",
              "  <thead>\n",
              "    <tr style=\"text-align: right;\">\n",
              "      <th></th>\n",
              "      <th>HR_Performance</th>\n",
              "      <th>RBI_Performance</th>\n",
              "      <th>Team-Contribution_Performance</th>\n",
              "      <th>A_Rod_Factor_Performance</th>\n",
              "    </tr>\n",
              "  </thead>\n",
              "  <tbody>\n",
              "    <tr>\n",
              "      <th>Salary1</th>\n",
              "      <td>10.724369</td>\n",
              "      <td>10.060995</td>\n",
              "      <td>10.777001</td>\n",
              "      <td>10.343680</td>\n",
              "    </tr>\n",
              "    <tr>\n",
              "      <th>Salary2</th>\n",
              "      <td>3.100759</td>\n",
              "      <td>3.337497</td>\n",
              "      <td>2.189275</td>\n",
              "      <td>3.597910</td>\n",
              "    </tr>\n",
              "    <tr>\n",
              "      <th>Salary3</th>\n",
              "      <td>1.430395</td>\n",
              "      <td>1.717833</td>\n",
              "      <td>1.149206</td>\n",
              "      <td>1.763922</td>\n",
              "    </tr>\n",
              "    <tr>\n",
              "      <th>Salary4</th>\n",
              "      <td>0.938366</td>\n",
              "      <td>0.943256</td>\n",
              "      <td>0.782632</td>\n",
              "      <td>0.954356</td>\n",
              "    </tr>\n",
              "    <tr>\n",
              "      <th>Salary5</th>\n",
              "      <td>0.673182</td>\n",
              "      <td>0.708431</td>\n",
              "      <td>0.716715</td>\n",
              "      <td>0.708353</td>\n",
              "    </tr>\n",
              "    <tr>\n",
              "      <th>Salary6</th>\n",
              "      <td>0.733699</td>\n",
              "      <td>0.703500</td>\n",
              "      <td>1.166863</td>\n",
              "      <td>0.633727</td>\n",
              "    </tr>\n",
              "    <tr>\n",
              "      <th>Salary7</th>\n",
              "      <td>0.584864</td>\n",
              "      <td>0.499845</td>\n",
              "      <td>0.682873</td>\n",
              "      <td>0.451291</td>\n",
              "    </tr>\n",
              "    <tr>\n",
              "      <th>Salary8</th>\n",
              "      <td>0.509760</td>\n",
              "      <td>0.458141</td>\n",
              "      <td>0.693687</td>\n",
              "      <td>0.408475</td>\n",
              "    </tr>\n",
              "    <tr>\n",
              "      <th>Salary9</th>\n",
              "      <td>0.558999</td>\n",
              "      <td>0.443032</td>\n",
              "      <td>1.318874</td>\n",
              "      <td>0.376846</td>\n",
              "    </tr>\n",
              "  </tbody>\n",
              "</table>\n",
              "</div>"
            ],
            "text/plain": [
              "         HR_Performance  RBI_Performance  Team-Contribution_Performance  \\\n",
              "Salary1       10.724369        10.060995                      10.777001   \n",
              "Salary2        3.100759         3.337497                       2.189275   \n",
              "Salary3        1.430395         1.717833                       1.149206   \n",
              "Salary4        0.938366         0.943256                       0.782632   \n",
              "Salary5        0.673182         0.708431                       0.716715   \n",
              "Salary6        0.733699         0.703500                       1.166863   \n",
              "Salary7        0.584864         0.499845                       0.682873   \n",
              "Salary8        0.509760         0.458141                       0.693687   \n",
              "Salary9        0.558999         0.443032                       1.318874   \n",
              "\n",
              "         A_Rod_Factor_Performance  \n",
              "Salary1                 10.343680  \n",
              "Salary2                  3.597910  \n",
              "Salary3                  1.763922  \n",
              "Salary4                  0.954356  \n",
              "Salary5                  0.708353  \n",
              "Salary6                  0.633727  \n",
              "Salary7                  0.451291  \n",
              "Salary8                  0.408475  \n",
              "Salary9                  0.376846  "
            ]
          },
          "metadata": {
            "tags": []
          },
          "execution_count": 168
        }
      ]
    },
    {
      "cell_type": "code",
      "metadata": {
        "id": "AU2YksTTQwrI",
        "colab_type": "code",
        "colab": {}
      },
      "source": [
        "# Graph 2 info below"
      ],
      "execution_count": 0,
      "outputs": []
    },
    {
      "cell_type": "code",
      "metadata": {
        "id": "4WwKmcfxOTgj",
        "colab_type": "code",
        "colab": {
          "base_uri": "https://localhost:8080/",
          "height": 90
        },
        "outputId": "3b03de52-cbcd-485c-9742-b8eee174578f"
      },
      "source": [
        "print(train1['HR'].mean()/ (train1['SALARY'].mean() * HR_per_dollar))\n",
        "print(train1['RBI'].mean()/ (train1['SALARY'].mean() * RBI_per_dollar))\n",
        "print(train1['Team-Contribution'].mean()/ (train1['SALARY'].mean() * TeamCont_per_dollar))\n",
        "print(train1['A-Rod_Factor'].mean()/ (train1['SALARY'].mean() * ARod_per_dollar))\n",
        "\n"
      ],
      "execution_count": 149,
      "outputs": [
        {
          "output_type": "stream",
          "text": [
            "10.724369274528527\n",
            "10.060994675134006\n",
            "10.777000909803688\n",
            "10.343679734605171\n"
          ],
          "name": "stdout"
        }
      ]
    },
    {
      "cell_type": "code",
      "metadata": {
        "id": "dHSkA-lEO8Vq",
        "colab_type": "code",
        "colab": {
          "base_uri": "https://localhost:8080/",
          "height": 90
        },
        "outputId": "bdb2cbdd-6c33-4dc0-b5ce-12a6b3e2505b"
      },
      "source": [
        "print(train2['HR'].mean()/ (train2['SALARY'].mean() * HR_per_dollar))\n",
        "print(train2['RBI'].mean()/ (train2['SALARY'].mean() * RBI_per_dollar))\n",
        "print(train2['Team-Contribution'].mean()/ (train2['SALARY'].mean() * TeamCont_per_dollar))\n",
        "print(train2['A-Rod_Factor'].mean()/ (train2['SALARY'].mean() * ARod_per_dollar))\n"
      ],
      "execution_count": 150,
      "outputs": [
        {
          "output_type": "stream",
          "text": [
            "3.100759267445607\n",
            "3.337497105260791\n",
            "2.1892752111727725\n",
            "3.597910331410708\n"
          ],
          "name": "stdout"
        }
      ]
    },
    {
      "cell_type": "code",
      "metadata": {
        "id": "p8WyWcDaO8dH",
        "colab_type": "code",
        "colab": {
          "base_uri": "https://localhost:8080/",
          "height": 90
        },
        "outputId": "7e32b046-acf0-4f09-d046-ab861bc5f478"
      },
      "source": [
        "print(train3['HR'].mean()/ (train3['SALARY'].mean() * HR_per_dollar))\n",
        "print(train3['RBI'].mean()/ (train3['SALARY'].mean() * RBI_per_dollar))\n",
        "print(train3['Team-Contribution'].mean()/ (train3['SALARY'].mean() * TeamCont_per_dollar))\n",
        "print(train3['A-Rod_Factor'].mean()/ (train3['SALARY'].mean() * ARod_per_dollar))\n"
      ],
      "execution_count": 151,
      "outputs": [
        {
          "output_type": "stream",
          "text": [
            "1.4303952097052228\n",
            "1.7178334801575033\n",
            "1.1492056801432546\n",
            "1.7639218795275542\n"
          ],
          "name": "stdout"
        }
      ]
    },
    {
      "cell_type": "code",
      "metadata": {
        "id": "EPfRhKtcO8f3",
        "colab_type": "code",
        "colab": {
          "base_uri": "https://localhost:8080/",
          "height": 90
        },
        "outputId": "438d5f5a-a644-4568-e6cb-00839fa76dbc"
      },
      "source": [
        "print(train4['HR'].mean()/ (train4['SALARY'].mean() * HR_per_dollar))\n",
        "print(train4['RBI'].mean()/ (train4['SALARY'].mean() * RBI_per_dollar))\n",
        "print(train4['Team-Contribution'].mean()/ (train4['SALARY'].mean() * TeamCont_per_dollar))\n",
        "print(train4['A-Rod_Factor'].mean()/ (train4['SALARY'].mean() * ARod_per_dollar))\n"
      ],
      "execution_count": 152,
      "outputs": [
        {
          "output_type": "stream",
          "text": [
            "0.9383663710278615\n",
            "0.9432556159493833\n",
            "0.78263179666765\n",
            "0.9543558335300286\n"
          ],
          "name": "stdout"
        }
      ]
    },
    {
      "cell_type": "code",
      "metadata": {
        "id": "QERha2ENO8iM",
        "colab_type": "code",
        "colab": {
          "base_uri": "https://localhost:8080/",
          "height": 90
        },
        "outputId": "878013d4-c76d-4eef-c094-ad08ac539298"
      },
      "source": [
        "print(train5['HR'].mean()/ (train5['SALARY'].mean() * HR_per_dollar))\n",
        "print(train5['RBI'].mean()/ (train5['SALARY'].mean() * RBI_per_dollar))\n",
        "print(train5['Team-Contribution'].mean()/ (train5['SALARY'].mean() * TeamCont_per_dollar))\n",
        "print(train5['A-Rod_Factor'].mean()/ (train5['SALARY'].mean() * ARod_per_dollar))\n"
      ],
      "execution_count": 153,
      "outputs": [
        {
          "output_type": "stream",
          "text": [
            "0.6731821168228469\n",
            "0.7084306463959162\n",
            "0.7167146302590363\n",
            "0.7083528276555381\n"
          ],
          "name": "stdout"
        }
      ]
    },
    {
      "cell_type": "code",
      "metadata": {
        "id": "nUE2_J_-O8kq",
        "colab_type": "code",
        "colab": {
          "base_uri": "https://localhost:8080/",
          "height": 90
        },
        "outputId": "96cf9c97-cae3-4e15-f866-626dd0d7ead9"
      },
      "source": [
        "print(train6['HR'].mean()/ (train6['SALARY'].mean() * HR_per_dollar))\n",
        "print(train6['RBI'].mean()/ (train6['SALARY'].mean() * RBI_per_dollar))\n",
        "print(train6['Team-Contribution'].mean()/ (train6['SALARY'].mean() * TeamCont_per_dollar))\n",
        "print(train6['A-Rod_Factor'].mean()/ (train6['SALARY'].mean() * ARod_per_dollar))\n"
      ],
      "execution_count": 154,
      "outputs": [
        {
          "output_type": "stream",
          "text": [
            "0.7336992134544228\n",
            "0.7034997765520059\n",
            "1.1668625496159326\n",
            "0.6337268166922276\n"
          ],
          "name": "stdout"
        }
      ]
    },
    {
      "cell_type": "code",
      "metadata": {
        "id": "M6xI9D07O8nL",
        "colab_type": "code",
        "colab": {
          "base_uri": "https://localhost:8080/",
          "height": 90
        },
        "outputId": "2107c0c9-dd1d-4fd5-e763-e5b09c3e4af4"
      },
      "source": [
        "print(train7['HR'].mean()/ (train7['SALARY'].mean() * HR_per_dollar))\n",
        "print(train7['RBI'].mean()/ (train7['SALARY'].mean() * RBI_per_dollar))\n",
        "print(train7['Team-Contribution'].mean()/ (train7['SALARY'].mean() * TeamCont_per_dollar))\n",
        "print(train7['A-Rod_Factor'].mean()/ (train7['SALARY'].mean() * ARod_per_dollar))\n"
      ],
      "execution_count": 155,
      "outputs": [
        {
          "output_type": "stream",
          "text": [
            "0.584863763822233\n",
            "0.49984514266756375\n",
            "0.682873073916102\n",
            "0.45129120412829943\n"
          ],
          "name": "stdout"
        }
      ]
    },
    {
      "cell_type": "code",
      "metadata": {
        "id": "IE4PfupZO8qO",
        "colab_type": "code",
        "colab": {
          "base_uri": "https://localhost:8080/",
          "height": 90
        },
        "outputId": "3e96fb87-40c4-4251-b156-905632675edb"
      },
      "source": [
        "print(train8['HR'].mean()/ (train8['SALARY'].mean() * HR_per_dollar))\n",
        "print(train8['RBI'].mean()/ (train8['SALARY'].mean() * RBI_per_dollar))\n",
        "print(train8['Team-Contribution'].mean()/ (train8['SALARY'].mean() * TeamCont_per_dollar))\n",
        "print(train8['A-Rod_Factor'].mean()/ (train8['SALARY'].mean() * ARod_per_dollar))\n"
      ],
      "execution_count": 156,
      "outputs": [
        {
          "output_type": "stream",
          "text": [
            "0.5097604142566489\n",
            "0.45814076870525045\n",
            "0.6936865552800868\n",
            "0.40847477248956254\n"
          ],
          "name": "stdout"
        }
      ]
    },
    {
      "cell_type": "code",
      "metadata": {
        "id": "3wJoiJYlO853",
        "colab_type": "code",
        "colab": {
          "base_uri": "https://localhost:8080/",
          "height": 90
        },
        "outputId": "63d50372-0e65-48b4-ac43-1e810e27f1d4"
      },
      "source": [
        "print(train9['HR'].mean()/ (train9['SALARY'].mean() * HR_per_dollar))\n",
        "print(train9['RBI'].mean()/ (train9['SALARY'].mean() * RBI_per_dollar))\n",
        "print(train9['Team-Contribution'].mean()/ (train9['SALARY'].mean() * TeamCont_per_dollar))\n",
        "print(train9['A-Rod_Factor'].mean()/ (train9['SALARY'].mean() * ARod_per_dollar))\n"
      ],
      "execution_count": 157,
      "outputs": [
        {
          "output_type": "stream",
          "text": [
            "0.558998670337645\n",
            "0.4430323227584592\n",
            "1.318874426287654\n",
            "0.37684605001471483\n"
          ],
          "name": "stdout"
        }
      ]
    },
    {
      "cell_type": "code",
      "metadata": {
        "id": "Yn928on0P6aS",
        "colab_type": "code",
        "colab": {}
      },
      "source": [
        "# As seen above, the first 4 groups overperform for their value, and the last 5 underperform by more and more as the Salary ranges go up"
      ],
      "execution_count": 0,
      "outputs": []
    },
    {
      "cell_type": "code",
      "metadata": {
        "id": "E3o20rxa6Ufs",
        "colab_type": "code",
        "colab": {}
      },
      "source": [
        "data = {'SALARY_Mean': [418813.46153846156 , 4467166.625], \n",
        "        'RBI_Mean': [48.75, 48.75], \n",
        "        'HR_Mean': [12.134615384615385 \t, 11.325],\n",
        "        'Team-Contribution_Mean': [1000.2214693815397, 774.7601252840052],\n",
        "        'A_Rod_Factor_Mean': [1222.2884615384614, 1202.875]}\n",
        "\n",
        "train15 = pd.DataFrame(data, index = ['Low Salary', '10XLow Salary'])\n",
        "train15.head()"
      ],
      "execution_count": 0,
      "outputs": []
    },
    {
      "cell_type": "code",
      "metadata": {
        "id": "wZH-EEImQ8Su",
        "colab_type": "code",
        "colab": {
          "base_uri": "https://localhost:8080/",
          "height": 35
        },
        "outputId": "6a3ce50b-0d7e-4778-ccea-d8d2c3807aae"
      },
      "source": [
        "#3rd Graph, \n",
        "\n",
        "features = ['A-Rod_Factor']\n",
        "target = ['SALARY']\n",
        "X_train = train[features]\n",
        "y_train = train[target]\n",
        "X_val = val[features]\n",
        "y_val = val[target]\n",
        "\n",
        "model = LinearRegression()\n",
        "model.fit(X_train, y_train)\n",
        "y_pred = model.predict(X_val)\n",
        "mae = mean_absolute_error(y_val, y_pred)\n",
        "mae"
      ],
      "execution_count": 138,
      "outputs": [
        {
          "output_type": "execute_result",
          "data": {
            "text/plain": [
              "3570808.433712526"
            ]
          },
          "metadata": {
            "tags": []
          },
          "execution_count": 138
        }
      ]
    },
    {
      "cell_type": "code",
      "metadata": {
        "id": "mBC59Q5sRFtz",
        "colab_type": "code",
        "colab": {
          "base_uri": "https://localhost:8080/",
          "height": 92
        },
        "outputId": "e071e6c8-85c0-4541-c178-b233f22f92fd"
      },
      "source": [
        "features = ['Team-Contribution']\n",
        "target = ['SALARY']\n",
        "X_train = train[features]\n",
        "y_train = train[target]\n",
        "X_val = val[features]\n",
        "y_val = val[target]\n",
        "\n",
        "model = RandomForestRegressor(n_estimators= 101, criterion='mae', min_samples_split=6,\n",
        "                              min_impurity_decrease=.02)\n",
        "model.fit(X_train, y_train)\n",
        "y_pred = model.predict(X_val)\n",
        "mae = mean_absolute_error(y_val, y_pred)\n",
        "mae"
      ],
      "execution_count": 139,
      "outputs": [
        {
          "output_type": "stream",
          "text": [
            "/usr/local/lib/python3.6/dist-packages/ipykernel_launcher.py:10: DataConversionWarning: A column-vector y was passed when a 1d array was expected. Please change the shape of y to (n_samples,), for example using ravel().\n",
            "  # Remove the CWD from sys.path while we load stuff.\n"
          ],
          "name": "stderr"
        },
        {
          "output_type": "execute_result",
          "data": {
            "text/plain": [
              "3315136.2047903324"
            ]
          },
          "metadata": {
            "tags": []
          },
          "execution_count": 139
        }
      ]
    },
    {
      "cell_type": "code",
      "metadata": {
        "id": "pv77jjO1RM55",
        "colab_type": "code",
        "colab": {
          "base_uri": "https://localhost:8080/",
          "height": 92
        },
        "outputId": "486feb50-b5fb-411c-8720-9a1c12d16353"
      },
      "source": [
        "features = ['HR', 'RBI', 'PA', 'AVG', 'R']\n",
        "target = ['SALARY']\n",
        "X_train = train[features]\n",
        "y_train = train[target]\n",
        "X_val = val[features]\n",
        "y_val = val[target]\n",
        "\n",
        "model = RandomForestRegressor(n_estimators= 101, criterion='mae', min_samples_split=6,\n",
        "                              min_impurity_decrease=.02)\n",
        "model.fit(X_train, y_train)\n",
        "y_pred = model.predict(X_val)\n",
        "mae = mean_absolute_error(y_val, y_pred)\n",
        "mae"
      ],
      "execution_count": 140,
      "outputs": [
        {
          "output_type": "stream",
          "text": [
            "/usr/local/lib/python3.6/dist-packages/ipykernel_launcher.py:10: DataConversionWarning: A column-vector y was passed when a 1d array was expected. Please change the shape of y to (n_samples,), for example using ravel().\n",
            "  # Remove the CWD from sys.path while we load stuff.\n"
          ],
          "name": "stderr"
        },
        {
          "output_type": "execute_result",
          "data": {
            "text/plain": [
              "3876401.0714909732"
            ]
          },
          "metadata": {
            "tags": []
          },
          "execution_count": 140
        }
      ]
    },
    {
      "cell_type": "code",
      "metadata": {
        "id": "k1FZAujSRbt_",
        "colab_type": "code",
        "colab": {
          "base_uri": "https://localhost:8080/",
          "height": 35
        },
        "outputId": "7f2aaf3e-d5a3-48bb-9bf2-8550aa6e4799"
      },
      "source": [
        "features = ['HR', 'RBI', 'PA', 'AVG', 'R']\n",
        "target = ['SALARY']\n",
        "X_train = train[features]\n",
        "y_train = train[target]\n",
        "X_val = val[features]\n",
        "y_val = val[target]\n",
        "\n",
        "model = LinearRegression()\n",
        "model.fit(X_train, y_train)\n",
        "y_pred = model.predict(X_val)\n",
        "mae = mean_absolute_error(y_val, y_pred)\n",
        "mae"
      ],
      "execution_count": 141,
      "outputs": [
        {
          "output_type": "execute_result",
          "data": {
            "text/plain": [
              "3999015.704330033"
            ]
          },
          "metadata": {
            "tags": []
          },
          "execution_count": 141
        }
      ]
    },
    {
      "cell_type": "code",
      "metadata": {
        "id": "drS9y-pmXbEf",
        "colab_type": "code",
        "colab": {}
      },
      "source": [
        "####### Graph 3\n",
        "\n",
        "# Graph 2 Linear models and their corresponding errors, and 2 RandomForestRegressors and their corresponding errors\n",
        "\n",
        "Linear_1 = 3999015.704330033\n",
        "Linear_2 = 3570808.433712526\n",
        "Random_1 = 3876401.0714909732\n",
        "Random_2 = 3315136.2047903324"
      ],
      "execution_count": 0,
      "outputs": []
    }
  ]
}